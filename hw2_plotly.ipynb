{
 "cells": [
  {
   "cell_type": "code",
   "execution_count": null,
   "metadata": {},
   "outputs": [],
   "source": [
    "# Gadoev Rahmonali\n",
    "# Задание №1\n",
    "# Создайте датафрейм содержащий сумму и количество продаж треков в разбивке по странам и континентам.\n",
    "# Создайте scatter plot показывающий соотношение суммы продаж и количества треков.\n",
    "# Добавьте разделение по цвету на основе континента. Цвет Азии должен быть жёлтым, цвет Европы синим, цвет Северной Америки красным.\n",
    "# Добавьте название диаграмме. Шрифт должен быть 30, цвет шрифта серый.\n",
    "# Измените шрифт тиков (значения осей) на 14, цвет на серый.\n",
    "## Задание №2\n",
    "# Создайте датафрейм содержащий количество треков в разбивке по названиям жанров.\n",
    "# Создайте столбчатую диаграмму. По оси X должны быть названия жанров, по оси Y - количество треков.\n",
    "# Кастомизируйте диаграмму так, чтобы столбики всех жанров были серого цвета. За исключением жанров Jazz, Rock и Alternative & Punk. Эти жанры должны выделяться цветом. Цвета можете выбирать сами.\n",
    "# Уберите легенду.\n",
    "# Добавьте название диаграмме. Название должно быть курсивным.\n",
    "# Фон диаграммы должен быть белым."
   ]
  },
  {
   "cell_type": "code",
   "execution_count": 1,
   "metadata": {},
   "outputs": [],
   "source": [
    "from connect import set_connection\n",
    "from sqlalchemy import text\n",
    "import pandas as pd\n",
    "import matplotlib as plt\n",
    "import plotly.express as px"
   ]
  },
  {
   "cell_type": "code",
   "execution_count": 2,
   "metadata": {},
   "outputs": [],
   "source": [
    "country_to_continent = {\n",
    "    'USA': 'North America',\n",
    "    'Canada': 'North America',\n",
    "    'Germany': 'Europe',\n",
    "    'France': 'Europe',\n",
    "    'UK': 'Europe',\n",
    "    'Brazil': 'South America',\n",
    "    'Australia': 'Oceania',\n",
    "    # Добавьте остальные страны из вашей базы данных\n",
    "}\n",
    "\n",
    "# SQL-запрос для получения данных\n",
    "query = \"\"\"\n",
    "    SELECT \n",
    "        i.billing_country AS country,\n",
    "        COUNT(*) AS sales_count,\n",
    "        SUM(i.total) AS sales_amount\n",
    "    FROM invoice i\n",
    "    GROUP BY i.billing_country\n",
    "\"\"\"\n",
    "\n",
    "# Получаем данные\n",
    "with set_connection() as conn:\n",
    "    df = pd.read_sql(query, conn)\n",
    "\n",
    "# Добавляем континенты\n",
    "df['continent'] = df['country'].map(country_to_continent)\n",
    "\n",
    "# Группируем по континентам\n",
    "continent_df = df.groupby('continent').agg({\n",
    "    'sales_count': 'sum',\n",
    "    'sales_amount': 'sum'\n",
    "}).reset_index()\n",
    "\n",
    "# Объединяем данные\n",
    "final_df = pd.concat([\n",
    "    df[['country', 'sales_count', 'sales_amount']],\n",
    "    continent_df.rename(columns={'continent': 'country'})\n",
    "], ignore_index=True)\n",
    "\n",
    "# Сортировка и форматирование\n",
    "final_df = final_df.sort_values(by='sales_amount', ascending=False)\n",
    "final_df['sales_amount'] = final_df['sales_amount'].round(2)"
   ]
  },
  {
   "cell_type": "code",
   "execution_count": 3,
   "metadata": {},
   "outputs": [
    {
     "data": {
      "text/html": [
       "<div>\n",
       "<style scoped>\n",
       "    .dataframe tbody tr th:only-of-type {\n",
       "        vertical-align: middle;\n",
       "    }\n",
       "\n",
       "    .dataframe tbody tr th {\n",
       "        vertical-align: top;\n",
       "    }\n",
       "\n",
       "    .dataframe thead th {\n",
       "        text-align: right;\n",
       "    }\n",
       "</style>\n",
       "<table border=\"1\" class=\"dataframe\">\n",
       "  <thead>\n",
       "    <tr style=\"text-align: right;\">\n",
       "      <th></th>\n",
       "      <th>country</th>\n",
       "      <th>sales_count</th>\n",
       "      <th>sales_amount</th>\n",
       "    </tr>\n",
       "  </thead>\n",
       "  <tbody>\n",
       "    <tr>\n",
       "      <th>25</th>\n",
       "      <td>North America</td>\n",
       "      <td>147</td>\n",
       "      <td>827.02</td>\n",
       "    </tr>\n",
       "    <tr>\n",
       "      <th>11</th>\n",
       "      <td>USA</td>\n",
       "      <td>91</td>\n",
       "      <td>523.06</td>\n",
       "    </tr>\n",
       "    <tr>\n",
       "      <th>24</th>\n",
       "      <td>Europe</td>\n",
       "      <td>63</td>\n",
       "      <td>351.58</td>\n",
       "    </tr>\n",
       "    <tr>\n",
       "      <th>21</th>\n",
       "      <td>Canada</td>\n",
       "      <td>56</td>\n",
       "      <td>303.96</td>\n",
       "    </tr>\n",
       "    <tr>\n",
       "      <th>10</th>\n",
       "      <td>France</td>\n",
       "      <td>35</td>\n",
       "      <td>195.10</td>\n",
       "    </tr>\n",
       "    <tr>\n",
       "      <th>14</th>\n",
       "      <td>Brazil</td>\n",
       "      <td>35</td>\n",
       "      <td>190.10</td>\n",
       "    </tr>\n",
       "    <tr>\n",
       "      <th>27</th>\n",
       "      <td>South America</td>\n",
       "      <td>35</td>\n",
       "      <td>190.10</td>\n",
       "    </tr>\n",
       "    <tr>\n",
       "      <th>19</th>\n",
       "      <td>Germany</td>\n",
       "      <td>28</td>\n",
       "      <td>156.48</td>\n",
       "    </tr>\n",
       "    <tr>\n",
       "      <th>12</th>\n",
       "      <td>United Kingdom</td>\n",
       "      <td>21</td>\n",
       "      <td>112.86</td>\n",
       "    </tr>\n",
       "    <tr>\n",
       "      <th>5</th>\n",
       "      <td>Czech Republic</td>\n",
       "      <td>14</td>\n",
       "      <td>90.24</td>\n",
       "    </tr>\n",
       "    <tr>\n",
       "      <th>23</th>\n",
       "      <td>Portugal</td>\n",
       "      <td>14</td>\n",
       "      <td>77.24</td>\n",
       "    </tr>\n",
       "    <tr>\n",
       "      <th>4</th>\n",
       "      <td>India</td>\n",
       "      <td>13</td>\n",
       "      <td>75.26</td>\n",
       "    </tr>\n",
       "    <tr>\n",
       "      <th>8</th>\n",
       "      <td>Chile</td>\n",
       "      <td>7</td>\n",
       "      <td>46.62</td>\n",
       "    </tr>\n",
       "    <tr>\n",
       "      <th>18</th>\n",
       "      <td>Ireland</td>\n",
       "      <td>7</td>\n",
       "      <td>45.62</td>\n",
       "    </tr>\n",
       "    <tr>\n",
       "      <th>3</th>\n",
       "      <td>Hungary</td>\n",
       "      <td>7</td>\n",
       "      <td>45.62</td>\n",
       "    </tr>\n",
       "    <tr>\n",
       "      <th>15</th>\n",
       "      <td>Austria</td>\n",
       "      <td>7</td>\n",
       "      <td>42.62</td>\n",
       "    </tr>\n",
       "    <tr>\n",
       "      <th>22</th>\n",
       "      <td>Finland</td>\n",
       "      <td>7</td>\n",
       "      <td>41.62</td>\n",
       "    </tr>\n",
       "    <tr>\n",
       "      <th>13</th>\n",
       "      <td>Netherlands</td>\n",
       "      <td>7</td>\n",
       "      <td>40.62</td>\n",
       "    </tr>\n",
       "    <tr>\n",
       "      <th>9</th>\n",
       "      <td>Norway</td>\n",
       "      <td>7</td>\n",
       "      <td>39.62</td>\n",
       "    </tr>\n",
       "    <tr>\n",
       "      <th>7</th>\n",
       "      <td>Sweden</td>\n",
       "      <td>7</td>\n",
       "      <td>38.62</td>\n",
       "    </tr>\n",
       "    <tr>\n",
       "      <th>6</th>\n",
       "      <td>Belgium</td>\n",
       "      <td>7</td>\n",
       "      <td>37.62</td>\n",
       "    </tr>\n",
       "    <tr>\n",
       "      <th>0</th>\n",
       "      <td>Argentina</td>\n",
       "      <td>7</td>\n",
       "      <td>37.62</td>\n",
       "    </tr>\n",
       "    <tr>\n",
       "      <th>1</th>\n",
       "      <td>Spain</td>\n",
       "      <td>7</td>\n",
       "      <td>37.62</td>\n",
       "    </tr>\n",
       "    <tr>\n",
       "      <th>2</th>\n",
       "      <td>Italy</td>\n",
       "      <td>7</td>\n",
       "      <td>37.62</td>\n",
       "    </tr>\n",
       "    <tr>\n",
       "      <th>16</th>\n",
       "      <td>Poland</td>\n",
       "      <td>7</td>\n",
       "      <td>37.62</td>\n",
       "    </tr>\n",
       "    <tr>\n",
       "      <th>17</th>\n",
       "      <td>Australia</td>\n",
       "      <td>7</td>\n",
       "      <td>37.62</td>\n",
       "    </tr>\n",
       "    <tr>\n",
       "      <th>20</th>\n",
       "      <td>Denmark</td>\n",
       "      <td>7</td>\n",
       "      <td>37.62</td>\n",
       "    </tr>\n",
       "    <tr>\n",
       "      <th>26</th>\n",
       "      <td>Oceania</td>\n",
       "      <td>7</td>\n",
       "      <td>37.62</td>\n",
       "    </tr>\n",
       "  </tbody>\n",
       "</table>\n",
       "</div>"
      ],
      "text/plain": [
       "           country  sales_count  sales_amount\n",
       "25   North America          147        827.02\n",
       "11             USA           91        523.06\n",
       "24          Europe           63        351.58\n",
       "21          Canada           56        303.96\n",
       "10          France           35        195.10\n",
       "14          Brazil           35        190.10\n",
       "27   South America           35        190.10\n",
       "19         Germany           28        156.48\n",
       "12  United Kingdom           21        112.86\n",
       "5   Czech Republic           14         90.24\n",
       "23        Portugal           14         77.24\n",
       "4            India           13         75.26\n",
       "8            Chile            7         46.62\n",
       "18         Ireland            7         45.62\n",
       "3          Hungary            7         45.62\n",
       "15         Austria            7         42.62\n",
       "22         Finland            7         41.62\n",
       "13     Netherlands            7         40.62\n",
       "9           Norway            7         39.62\n",
       "7           Sweden            7         38.62\n",
       "6          Belgium            7         37.62\n",
       "0        Argentina            7         37.62\n",
       "1            Spain            7         37.62\n",
       "2            Italy            7         37.62\n",
       "16          Poland            7         37.62\n",
       "17       Australia            7         37.62\n",
       "20         Denmark            7         37.62\n",
       "26         Oceania            7         37.62"
      ]
     },
     "execution_count": 3,
     "metadata": {},
     "output_type": "execute_result"
    }
   ],
   "source": [
    "final_df"
   ]
  },
  {
   "cell_type": "code",
   "execution_count": 48,
   "metadata": {},
   "outputs": [
    {
     "data": {
      "application/vnd.plotly.v1+json": {
       "config": {
        "plotlyServerURL": "https://plot.ly"
       },
       "data": [
        {
         "customdata": {
          "bdata": "gAFfAbgAdABXABEBigEzABABRgC+AF4BOgGCARYBlgFsASsBsACpAFkBNQFcALQAJAHsAA8BBwEWAJwAxQCHAOMAGgGGAa0AlQA3AQ0BSQAFAWcAGAEqAL0A7wChAHkAdQBYALwAAQF9AHEAKADwAEgBKwDEAHgAIwEPAOIA0gAwAF0BuwAqATkAUQA9ABMA9ACgAGUB8gBLAfsAzAAKAWgABQCrADsBbgEzAY0BWwBbARsBMQGzADYAHQAEACkBtQBpAUEBYAAvAckACgBpACMAkgFrAAYA6QDcAFYAkAFdAFkAdQHbAPwA8QCvAGsBVwEfAB0BRwEyAP0ADgDnAEIAVAFtAGQBmwANAIcBhQDDAAIAcAHHAHQB9gBLAHEBgABTAfMApgBYAY4ATwGaAZgAYwF/AeYALQEHAN4AfQEmAGcBwQD+AKQAeQFOANkAnwD6ALoALwCxABQAPwG2AAEATABqABIAbgCyAJEAgQAbAI8AywA6AOQACABaASYBcgFHAAsB5QBEADABkgBQADQAjAF+AQIBogB6AVUBhABCAZUBVACFAaoAwABKARQB7QBlAEUABgF7AUMBXAFRAUABdwFzAHIAPABhAI8B7gBwAGwAmAE7ACEBDAFBAH8AfABiAEkByAAsAAsAkQHrAFIAdwAyAR4BeAGZABcBkwDWAFIBygAJAGYBnAFPABoAVQBIABkBXwADAegATQAuAawAmQEeACABFQCDAAMARAHGABEANgHUACUAHACUAY4BYQH5AP8AhAGlADgAlwAoAdEASgDhAIoAIgD1AM0AUwBDAJcBTQE/AEUBWgCLAdgArgAtAIMBJwHVAIYATgESAZAAJwCoAKMA3wBgASQAiQEfAWoB3QBmADgBpwCeABUBIgEsAXYAPQEcAQkBVgFvABAAzwA+AHsAfgDCAEYBaAGBAXMBYwBvAXYBKQDOAC4AbQHgAJ0ANQAgAFABPgETAfcABAE0AbcAZAA5AYgAlgBiAYwAiwAMAPgAiQAlAdAAmwGIARgAvwAZAI0AegBeANoAmgDqADEAPAHTAJMBAAFMASEACAG5AEAAfAHXADcAlACCAA4BFwA=",
          "dtype": "i2",
          "shape": "412, 1"
         },
         "hovertemplate": "Количество треков в заказе=%{x}<br>Сумма продажи ($)=%{y}<br>invoice_id=%{customdata[0]}<extra></extra>",
         "legendgroup": "",
         "marker": {
          "color": "#636EFA",
          "symbol": "circle"
         },
         "mode": "markers",
         "name": "",
         "orientation": "v",
         "showlegend": false,
         "type": "scatter",
         "x": {
          "bdata": "AQIECQYCBAQBAgICAQIOAgIOAgIEAgIODg4OCQIEAgQGBA4OBAYGBgQOAgICAgIEDgkBDgECDgQBAgICCQIEAgEBDgkCCQ4OAQECCQQBAgIBDgYCBAEOAgkGCQkOAgkGAQkBDgQOBgICBgQBBAYEAgQOBAQCBgIBAgYODgICAgIGCQkBAgEBAgEECQYCAg4OBAYODgIEAQkODg4BAgIOBgYECQQGAQICDg4JDgQBCQICAQIJDgYOBgEGAgQJAgYCAQICDg4GAQYGCQkBAgIOAQIBAgkEBgIGAQYBBgICDgIOCQYECQECAgIGBAYEBAQCDgICCQQJBAkOAg4BDgEBAgkEAQQCAQQOAgQCCQICAgIJBgQCAg4GBAQGBAQEAg4BBgkGBgkCCQQBCQIOAQIEAQkCCQIGAQYBAQYEAgYCDgIJCQIEAQQCAgIOCQkJAQkJBgEBBAkBAQEECQEJAg4JBgICAgYGAQYJAgIGCQkCBgQEAgICBA4GBgkCAQ4GCQEODgIGBAkCBgYCAgYCAgIJCQYODgYCBA4BAgkJBA==",
          "dtype": "i1"
         },
         "xaxis": "x",
         "y": {
          "bdata": "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",
          "dtype": "f8"
         },
         "yaxis": "y"
        },
        {
         "hovertemplate": "<b>OLS trendline</b><br>sales_amount = 1.05528 * tracks_count + -0.0854846<br>R<sup>2</sup>=0.933653<br><br>Количество треков в заказе=%{x}<br>Сумма продажи ($)=%{y} <b>(trend)</b><extra></extra>",
         "legendgroup": "",
         "marker": {
          "color": "#636EFA",
          "symbol": "circle"
         },
         "mode": "lines",
         "name": "",
         "showlegend": false,
         "type": "scatter",
         "x": {
          "bdata": "AQEBAQEBAQEBAQEBAQEBAQEBAQEBAQEBAQEBAQEBAQEBAQEBAQEBAQEBAQEBAQEBAQEBAQEBAQEBAQECAgICAgICAgICAgICAgICAgICAgICAgICAgICAgICAgICAgICAgICAgICAgICAgICAgICAgICAgICAgICAgICAgICAgICAgICAgICAgICAgICAgICAgICAgICAgICAgICAgICAgICAgICAgICAgICAgICAgIEBAQEBAQEBAQEBAQEBAQEBAQEBAQEBAQEBAQEBAQEBAQEBAQEBAQEBAQEBAQEBAQEBAQEBAQEBAQEBAYGBgYGBgYGBgYGBgYGBgYGBgYGBgYGBgYGBgYGBgYGBgYGBgYGBgYGBgYGBgYGBgYGBgYGBgYGBgYGCQkJCQkJCQkJCQkJCQkJCQkJCQkJCQkJCQkJCQkJCQkJCQkJCQkJCQkJCQkJCQkJCQkJCQkJCQkJCQkODg4ODg4ODg4ODg4ODg4ODg4ODg4ODg4ODg4ODg4ODg4ODg4ODg4ODg4ODg4ODg4ODg4ODg4ODg4ODg==",
          "dtype": "i1"
         },
         "xaxis": "x",
         "y": {
          "bdata": "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",
          "dtype": "f8"
         },
         "yaxis": "y"
        }
       ],
       "layout": {
        "height": 600,
        "legend": {
         "tracegroupgap": 0
        },
        "template": {
         "data": {
          "bar": [
           {
            "error_x": {
             "color": "#2a3f5f"
            },
            "error_y": {
             "color": "#2a3f5f"
            },
            "marker": {
             "line": {
              "color": "#E5ECF6",
              "width": 0.5
             },
             "pattern": {
              "fillmode": "overlay",
              "size": 10,
              "solidity": 0.2
             }
            },
            "type": "bar"
           }
          ],
          "barpolar": [
           {
            "marker": {
             "line": {
              "color": "#E5ECF6",
              "width": 0.5
             },
             "pattern": {
              "fillmode": "overlay",
              "size": 10,
              "solidity": 0.2
             }
            },
            "type": "barpolar"
           }
          ],
          "carpet": [
           {
            "aaxis": {
             "endlinecolor": "#2a3f5f",
             "gridcolor": "white",
             "linecolor": "white",
             "minorgridcolor": "white",
             "startlinecolor": "#2a3f5f"
            },
            "baxis": {
             "endlinecolor": "#2a3f5f",
             "gridcolor": "white",
             "linecolor": "white",
             "minorgridcolor": "white",
             "startlinecolor": "#2a3f5f"
            },
            "type": "carpet"
           }
          ],
          "choropleth": [
           {
            "colorbar": {
             "outlinewidth": 0,
             "ticks": ""
            },
            "type": "choropleth"
           }
          ],
          "contour": [
           {
            "colorbar": {
             "outlinewidth": 0,
             "ticks": ""
            },
            "colorscale": [
             [
              0,
              "#0d0887"
             ],
             [
              0.1111111111111111,
              "#46039f"
             ],
             [
              0.2222222222222222,
              "#7201a8"
             ],
             [
              0.3333333333333333,
              "#9c179e"
             ],
             [
              0.4444444444444444,
              "#bd3786"
             ],
             [
              0.5555555555555556,
              "#d8576b"
             ],
             [
              0.6666666666666666,
              "#ed7953"
             ],
             [
              0.7777777777777778,
              "#fb9f3a"
             ],
             [
              0.8888888888888888,
              "#fdca26"
             ],
             [
              1,
              "#f0f921"
             ]
            ],
            "type": "contour"
           }
          ],
          "contourcarpet": [
           {
            "colorbar": {
             "outlinewidth": 0,
             "ticks": ""
            },
            "type": "contourcarpet"
           }
          ],
          "heatmap": [
           {
            "colorbar": {
             "outlinewidth": 0,
             "ticks": ""
            },
            "colorscale": [
             [
              0,
              "#0d0887"
             ],
             [
              0.1111111111111111,
              "#46039f"
             ],
             [
              0.2222222222222222,
              "#7201a8"
             ],
             [
              0.3333333333333333,
              "#9c179e"
             ],
             [
              0.4444444444444444,
              "#bd3786"
             ],
             [
              0.5555555555555556,
              "#d8576b"
             ],
             [
              0.6666666666666666,
              "#ed7953"
             ],
             [
              0.7777777777777778,
              "#fb9f3a"
             ],
             [
              0.8888888888888888,
              "#fdca26"
             ],
             [
              1,
              "#f0f921"
             ]
            ],
            "type": "heatmap"
           }
          ],
          "histogram": [
           {
            "marker": {
             "pattern": {
              "fillmode": "overlay",
              "size": 10,
              "solidity": 0.2
             }
            },
            "type": "histogram"
           }
          ],
          "histogram2d": [
           {
            "colorbar": {
             "outlinewidth": 0,
             "ticks": ""
            },
            "colorscale": [
             [
              0,
              "#0d0887"
             ],
             [
              0.1111111111111111,
              "#46039f"
             ],
             [
              0.2222222222222222,
              "#7201a8"
             ],
             [
              0.3333333333333333,
              "#9c179e"
             ],
             [
              0.4444444444444444,
              "#bd3786"
             ],
             [
              0.5555555555555556,
              "#d8576b"
             ],
             [
              0.6666666666666666,
              "#ed7953"
             ],
             [
              0.7777777777777778,
              "#fb9f3a"
             ],
             [
              0.8888888888888888,
              "#fdca26"
             ],
             [
              1,
              "#f0f921"
             ]
            ],
            "type": "histogram2d"
           }
          ],
          "histogram2dcontour": [
           {
            "colorbar": {
             "outlinewidth": 0,
             "ticks": ""
            },
            "colorscale": [
             [
              0,
              "#0d0887"
             ],
             [
              0.1111111111111111,
              "#46039f"
             ],
             [
              0.2222222222222222,
              "#7201a8"
             ],
             [
              0.3333333333333333,
              "#9c179e"
             ],
             [
              0.4444444444444444,
              "#bd3786"
             ],
             [
              0.5555555555555556,
              "#d8576b"
             ],
             [
              0.6666666666666666,
              "#ed7953"
             ],
             [
              0.7777777777777778,
              "#fb9f3a"
             ],
             [
              0.8888888888888888,
              "#fdca26"
             ],
             [
              1,
              "#f0f921"
             ]
            ],
            "type": "histogram2dcontour"
           }
          ],
          "mesh3d": [
           {
            "colorbar": {
             "outlinewidth": 0,
             "ticks": ""
            },
            "type": "mesh3d"
           }
          ],
          "parcoords": [
           {
            "line": {
             "colorbar": {
              "outlinewidth": 0,
              "ticks": ""
             }
            },
            "type": "parcoords"
           }
          ],
          "pie": [
           {
            "automargin": true,
            "type": "pie"
           }
          ],
          "scatter": [
           {
            "fillpattern": {
             "fillmode": "overlay",
             "size": 10,
             "solidity": 0.2
            },
            "type": "scatter"
           }
          ],
          "scatter3d": [
           {
            "line": {
             "colorbar": {
              "outlinewidth": 0,
              "ticks": ""
             }
            },
            "marker": {
             "colorbar": {
              "outlinewidth": 0,
              "ticks": ""
             }
            },
            "type": "scatter3d"
           }
          ],
          "scattercarpet": [
           {
            "marker": {
             "colorbar": {
              "outlinewidth": 0,
              "ticks": ""
             }
            },
            "type": "scattercarpet"
           }
          ],
          "scattergeo": [
           {
            "marker": {
             "colorbar": {
              "outlinewidth": 0,
              "ticks": ""
             }
            },
            "type": "scattergeo"
           }
          ],
          "scattergl": [
           {
            "marker": {
             "colorbar": {
              "outlinewidth": 0,
              "ticks": ""
             }
            },
            "type": "scattergl"
           }
          ],
          "scattermap": [
           {
            "marker": {
             "colorbar": {
              "outlinewidth": 0,
              "ticks": ""
             }
            },
            "type": "scattermap"
           }
          ],
          "scattermapbox": [
           {
            "marker": {
             "colorbar": {
              "outlinewidth": 0,
              "ticks": ""
             }
            },
            "type": "scattermapbox"
           }
          ],
          "scatterpolar": [
           {
            "marker": {
             "colorbar": {
              "outlinewidth": 0,
              "ticks": ""
             }
            },
            "type": "scatterpolar"
           }
          ],
          "scatterpolargl": [
           {
            "marker": {
             "colorbar": {
              "outlinewidth": 0,
              "ticks": ""
             }
            },
            "type": "scatterpolargl"
           }
          ],
          "scatterternary": [
           {
            "marker": {
             "colorbar": {
              "outlinewidth": 0,
              "ticks": ""
             }
            },
            "type": "scatterternary"
           }
          ],
          "surface": [
           {
            "colorbar": {
             "outlinewidth": 0,
             "ticks": ""
            },
            "colorscale": [
             [
              0,
              "#0d0887"
             ],
             [
              0.1111111111111111,
              "#46039f"
             ],
             [
              0.2222222222222222,
              "#7201a8"
             ],
             [
              0.3333333333333333,
              "#9c179e"
             ],
             [
              0.4444444444444444,
              "#bd3786"
             ],
             [
              0.5555555555555556,
              "#d8576b"
             ],
             [
              0.6666666666666666,
              "#ed7953"
             ],
             [
              0.7777777777777778,
              "#fb9f3a"
             ],
             [
              0.8888888888888888,
              "#fdca26"
             ],
             [
              1,
              "#f0f921"
             ]
            ],
            "type": "surface"
           }
          ],
          "table": [
           {
            "cells": {
             "fill": {
              "color": "#EBF0F8"
             },
             "line": {
              "color": "white"
             }
            },
            "header": {
             "fill": {
              "color": "#C8D4E3"
             },
             "line": {
              "color": "white"
             }
            },
            "type": "table"
           }
          ]
         },
         "layout": {
          "annotationdefaults": {
           "arrowcolor": "#2a3f5f",
           "arrowhead": 0,
           "arrowwidth": 1
          },
          "autotypenumbers": "strict",
          "coloraxis": {
           "colorbar": {
            "outlinewidth": 0,
            "ticks": ""
           }
          },
          "colorscale": {
           "diverging": [
            [
             0,
             "#8e0152"
            ],
            [
             0.1,
             "#c51b7d"
            ],
            [
             0.2,
             "#de77ae"
            ],
            [
             0.3,
             "#f1b6da"
            ],
            [
             0.4,
             "#fde0ef"
            ],
            [
             0.5,
             "#f7f7f7"
            ],
            [
             0.6,
             "#e6f5d0"
            ],
            [
             0.7,
             "#b8e186"
            ],
            [
             0.8,
             "#7fbc41"
            ],
            [
             0.9,
             "#4d9221"
            ],
            [
             1,
             "#276419"
            ]
           ],
           "sequential": [
            [
             0,
             "#0d0887"
            ],
            [
             0.1111111111111111,
             "#46039f"
            ],
            [
             0.2222222222222222,
             "#7201a8"
            ],
            [
             0.3333333333333333,
             "#9c179e"
            ],
            [
             0.4444444444444444,
             "#bd3786"
            ],
            [
             0.5555555555555556,
             "#d8576b"
            ],
            [
             0.6666666666666666,
             "#ed7953"
            ],
            [
             0.7777777777777778,
             "#fb9f3a"
            ],
            [
             0.8888888888888888,
             "#fdca26"
            ],
            [
             1,
             "#f0f921"
            ]
           ],
           "sequentialminus": [
            [
             0,
             "#0d0887"
            ],
            [
             0.1111111111111111,
             "#46039f"
            ],
            [
             0.2222222222222222,
             "#7201a8"
            ],
            [
             0.3333333333333333,
             "#9c179e"
            ],
            [
             0.4444444444444444,
             "#bd3786"
            ],
            [
             0.5555555555555556,
             "#d8576b"
            ],
            [
             0.6666666666666666,
             "#ed7953"
            ],
            [
             0.7777777777777778,
             "#fb9f3a"
            ],
            [
             0.8888888888888888,
             "#fdca26"
            ],
            [
             1,
             "#f0f921"
            ]
           ]
          },
          "colorway": [
           "#636efa",
           "#EF553B",
           "#00cc96",
           "#ab63fa",
           "#FFA15A",
           "#19d3f3",
           "#FF6692",
           "#B6E880",
           "#FF97FF",
           "#FECB52"
          ],
          "font": {
           "color": "#2a3f5f"
          },
          "geo": {
           "bgcolor": "white",
           "lakecolor": "white",
           "landcolor": "#E5ECF6",
           "showlakes": true,
           "showland": true,
           "subunitcolor": "white"
          },
          "hoverlabel": {
           "align": "left"
          },
          "hovermode": "closest",
          "mapbox": {
           "style": "light"
          },
          "paper_bgcolor": "white",
          "plot_bgcolor": "#E5ECF6",
          "polar": {
           "angularaxis": {
            "gridcolor": "white",
            "linecolor": "white",
            "ticks": ""
           },
           "bgcolor": "#E5ECF6",
           "radialaxis": {
            "gridcolor": "white",
            "linecolor": "white",
            "ticks": ""
           }
          },
          "scene": {
           "xaxis": {
            "backgroundcolor": "#E5ECF6",
            "gridcolor": "white",
            "gridwidth": 2,
            "linecolor": "white",
            "showbackground": true,
            "ticks": "",
            "zerolinecolor": "white"
           },
           "yaxis": {
            "backgroundcolor": "#E5ECF6",
            "gridcolor": "white",
            "gridwidth": 2,
            "linecolor": "white",
            "showbackground": true,
            "ticks": "",
            "zerolinecolor": "white"
           },
           "zaxis": {
            "backgroundcolor": "#E5ECF6",
            "gridcolor": "white",
            "gridwidth": 2,
            "linecolor": "white",
            "showbackground": true,
            "ticks": "",
            "zerolinecolor": "white"
           }
          },
          "shapedefaults": {
           "line": {
            "color": "#2a3f5f"
           }
          },
          "ternary": {
           "aaxis": {
            "gridcolor": "white",
            "linecolor": "white",
            "ticks": ""
           },
           "baxis": {
            "gridcolor": "white",
            "linecolor": "white",
            "ticks": ""
           },
           "bgcolor": "#E5ECF6",
           "caxis": {
            "gridcolor": "white",
            "linecolor": "white",
            "ticks": ""
           }
          },
          "title": {
           "x": 0.05
          },
          "xaxis": {
           "automargin": true,
           "gridcolor": "white",
           "linecolor": "white",
           "ticks": "",
           "title": {
            "standoff": 15
           },
           "zerolinecolor": "white",
           "zerolinewidth": 2
          },
          "yaxis": {
           "automargin": true,
           "gridcolor": "white",
           "linecolor": "white",
           "ticks": "",
           "title": {
            "standoff": 15
           },
           "zerolinecolor": "white",
           "zerolinewidth": 2
          }
         }
        },
        "title": {
         "text": "Соотношение суммы продаж и количества треков"
        },
        "xaxis": {
         "anchor": "y",
         "domain": [
          0,
          1
         ],
         "title": {
          "text": "Количество треков в заказе"
         }
        },
        "yaxis": {
         "anchor": "x",
         "domain": [
          0,
          1
         ],
         "title": {
          "text": "Сумма продажи ($)"
         }
        }
       }
      }
     },
     "metadata": {},
     "output_type": "display_data"
    }
   ],
   "source": [
    "# 2\n",
    "query = \"\"\"\n",
    "    SELECT \n",
    "        i.invoice_id,\n",
    "        i.total AS sales_amount,\n",
    "        COUNT(il.track_id) AS tracks_count\n",
    "    FROM invoice i\n",
    "    JOIN invoice_line il ON i.invoice_id = il.invoice_id\n",
    "    GROUP BY i.invoice_id, i.total\n",
    "\"\"\"\n",
    "\n",
    "with set_connection() as conn:\n",
    "    df = pd.read_sql(query, conn)\n",
    "\n",
    "fig = px.scatter(\n",
    "    df,\n",
    "    x='tracks_count',\n",
    "    y='sales_amount',\n",
    "    title='Соотношение суммы продаж и количества треков',\n",
    "    labels={\n",
    "        'tracks_count': 'Количество треков в заказе',\n",
    "        'sales_amount': 'Сумма продажи ($)'\n",
    "    },\n",
    "    trendline='ols',\n",
    "    color_discrete_sequence=['#636EFA'],\n",
    "    hover_data=['invoice_id'],\n",
    "    height=600\n",
    ")\n",
    "fig.show()\n",
    "fig.write_html(\"sales_vs_tracks_scatter.html\")\n"
   ]
  },
  {
   "cell_type": "code",
   "execution_count": 9,
   "metadata": {},
   "outputs": [
    {
     "data": {
      "application/vnd.plotly.v1+json": {
       "config": {
        "plotlyServerURL": "https://plot.ly"
       },
       "data": [
        {
         "customdata": [
          [
           "India"
          ],
          [
           "India"
          ],
          [
           "India"
          ],
          [
           "India"
          ],
          [
           "India"
          ],
          [
           "India"
          ],
          [
           "India"
          ],
          [
           "India"
          ],
          [
           "India"
          ],
          [
           "India"
          ],
          [
           "India"
          ],
          [
           "India"
          ],
          [
           "India"
          ]
         ],
         "hovertemplate": "Континент=Asia<br>Количество треков в заказе=%{x}<br>Сумма продажи ($)=%{y}<br>country=%{customdata[0]}<extra></extra>",
         "legendgroup": "Asia",
         "marker": {
          "color": "yellow",
          "opacity": 0.7,
          "size": 8,
          "symbol": "circle"
         },
         "mode": "markers",
         "name": "Asia",
         "orientation": "v",
         "showlegend": true,
         "type": "scatter",
         "x": {
          "bdata": "AgIJDgEEAQ4GCQYCBA==",
          "dtype": "i1"
         },
         "xaxis": "x",
         "y": {
          "bdata": "rkfhehSu/z+uR+F6FK7/P1K4HoXr0SFAuB6F61G4K0DXo3A9Ctf/P65H4XoUrg9A16NwPQrX/z+4HoXrUbgrQMP1KFyPwhdAUrgehevRIUDD9Shcj8IXQK5H4XoUrv8/rkfhehSuD0A=",
          "dtype": "f8"
         },
         "yaxis": "y"
        },
        {
         "customdata": [
          [
           "Germany"
          ],
          [
           "Germany"
          ],
          [
           "Germany"
          ],
          [
           "France"
          ],
          [
           "Germany"
          ],
          [
           "Germany"
          ],
          [
           "Germany"
          ],
          [
           "France"
          ],
          [
           "France"
          ],
          [
           "France"
          ],
          [
           "Germany"
          ],
          [
           "Germany"
          ],
          [
           "France"
          ],
          [
           "Germany"
          ],
          [
           "France"
          ],
          [
           "France"
          ],
          [
           "Germany"
          ],
          [
           "Germany"
          ],
          [
           "Germany"
          ],
          [
           "France"
          ],
          [
           "France"
          ],
          [
           "France"
          ],
          [
           "France"
          ],
          [
           "Germany"
          ],
          [
           "Germany"
          ],
          [
           "Germany"
          ],
          [
           "France"
          ],
          [
           "France"
          ],
          [
           "France"
          ],
          [
           "France"
          ],
          [
           "France"
          ],
          [
           "Germany"
          ],
          [
           "Germany"
          ],
          [
           "France"
          ],
          [
           "France"
          ],
          [
           "France"
          ],
          [
           "France"
          ],
          [
           "Germany"
          ],
          [
           "France"
          ],
          [
           "France"
          ],
          [
           "Germany"
          ],
          [
           "France"
          ],
          [
           "France"
          ],
          [
           "Germany"
          ],
          [
           "France"
          ],
          [
           "France"
          ],
          [
           "France"
          ],
          [
           "Germany"
          ],
          [
           "Germany"
          ],
          [
           "France"
          ],
          [
           "Germany"
          ],
          [
           "France"
          ],
          [
           "France"
          ],
          [
           "Germany"
          ],
          [
           "Germany"
          ],
          [
           "Germany"
          ],
          [
           "France"
          ],
          [
           "France"
          ],
          [
           "Germany"
          ],
          [
           "France"
          ],
          [
           "Germany"
          ],
          [
           "France"
          ],
          [
           "France"
          ]
         ],
         "hovertemplate": "Континент=Europe<br>Количество треков в заказе=%{x}<br>Сумма продажи ($)=%{y}<br>country=%{customdata[0]}<extra></extra>",
         "legendgroup": "Europe",
         "marker": {
          "color": "blue",
          "opacity": 0.7,
          "size": 8,
          "symbol": "circle"
         },
         "mode": "markers",
         "name": "Europe",
         "orientation": "v",
         "showlegend": true,
         "type": "scatter",
         "x": {
          "bdata": "BA4GDg4CCQQOAgECAQECBAEEBgYJBAICCQICBgICBgYCAgkCAgIBBAkCCQQEAQkCDgEJDgEGAgQOBg4GAQ4J",
          "dtype": "i1"
         },
         "xaxis": "x",
         "y": {
          "bdata": "rkfhehSuD0C4HoXrUbgrQMP1KFyPwhdAuB6F61G4K0C4HoXrUbgrQK5H4XoUrv8/UrgehevRIUCuR+F6FK4PQLgehetRuCtA16NwPQrXD0CuR+F6FK7vP65H4XoUrv8/rkfhehSu7z+uR+F6FK7vP65H4XoUrv8/rkfhehSuD0CuR+F6FK7vP65H4XoUrg9Aw/UoXI/CF0DD9Shcj8IXQFK4HoXr0SFArkfhehSuD0CuR+F6FK7/P65H4XoUrv8/UrgehevRLUCuR+F6FK7/P65H4XoUrv8/w/UoXI/CF0DXo3A9CtcHQK5H4XoUrv8/w/UoXI/CF0DD9Shcj8IXQK5H4XoUrv8/rkfhehSu/z9SuB6F69EhQK5H4XoUrv8/rkfhehSu/z+uR+F6FK7/P9ejcD0K1/8/rkfhehSuD0BSuB6F69EhQK5H4XoUrv8/UrgehevRIUCuR+F6FK4PQK5H4XoUrg9ArkfhehSu7z9SuB6F69EhQK5H4XoUrv8/uB6F61G4K0CuR+F6FK7vP1K4HoXr0SFAuB6F61G4K0CuR+F6FK7vP8P1KFyPwhdArkfhehSu/z+uR+F6FK4PQFyPwvUo3DBAw/UoXI/CF0C4HoXrUbgrQMP1KFyPwhdArkfhehSu7z+4HoXrUbgrQFK4HoXr0SFA",
          "dtype": "f8"
         },
         "yaxis": "y"
        },
        {
         "customdata": [
          [
           "USA"
          ],
          [
           "Canada"
          ],
          [
           "Canada"
          ],
          [
           "USA"
          ],
          [
           "USA"
          ],
          [
           "USA"
          ],
          [
           "Canada"
          ],
          [
           "USA"
          ],
          [
           "Canada"
          ],
          [
           "USA"
          ],
          [
           "Canada"
          ],
          [
           "USA"
          ],
          [
           "USA"
          ],
          [
           "Canada"
          ],
          [
           "Canada"
          ],
          [
           "USA"
          ],
          [
           "USA"
          ],
          [
           "USA"
          ],
          [
           "USA"
          ],
          [
           "USA"
          ],
          [
           "USA"
          ],
          [
           "Canada"
          ],
          [
           "USA"
          ],
          [
           "USA"
          ],
          [
           "Canada"
          ],
          [
           "USA"
          ],
          [
           "USA"
          ],
          [
           "Canada"
          ],
          [
           "Canada"
          ],
          [
           "USA"
          ],
          [
           "USA"
          ],
          [
           "USA"
          ],
          [
           "Canada"
          ],
          [
           "USA"
          ],
          [
           "USA"
          ],
          [
           "USA"
          ],
          [
           "USA"
          ],
          [
           "Canada"
          ],
          [
           "USA"
          ],
          [
           "USA"
          ],
          [
           "USA"
          ],
          [
           "USA"
          ],
          [
           "Canada"
          ],
          [
           "Canada"
          ],
          [
           "USA"
          ],
          [
           "Canada"
          ],
          [
           "USA"
          ],
          [
           "Canada"
          ],
          [
           "Canada"
          ],
          [
           "Canada"
          ],
          [
           "USA"
          ],
          [
           "Canada"
          ],
          [
           "USA"
          ],
          [
           "USA"
          ],
          [
           "Canada"
          ],
          [
           "Canada"
          ],
          [
           "Canada"
          ],
          [
           "Canada"
          ],
          [
           "Canada"
          ],
          [
           "Canada"
          ],
          [
           "USA"
          ],
          [
           "Canada"
          ],
          [
           "Canada"
          ],
          [
           "USA"
          ],
          [
           "Canada"
          ],
          [
           "Canada"
          ],
          [
           "USA"
          ],
          [
           "USA"
          ],
          [
           "USA"
          ],
          [
           "Canada"
          ],
          [
           "Canada"
          ],
          [
           "USA"
          ],
          [
           "Canada"
          ],
          [
           "USA"
          ],
          [
           "USA"
          ],
          [
           "USA"
          ],
          [
           "USA"
          ],
          [
           "USA"
          ],
          [
           "USA"
          ],
          [
           "USA"
          ],
          [
           "USA"
          ],
          [
           "USA"
          ],
          [
           "USA"
          ],
          [
           "Canada"
          ],
          [
           "USA"
          ],
          [
           "USA"
          ],
          [
           "USA"
          ],
          [
           "Canada"
          ],
          [
           "USA"
          ],
          [
           "USA"
          ],
          [
           "Canada"
          ],
          [
           "Canada"
          ],
          [
           "Canada"
          ],
          [
           "USA"
          ],
          [
           "Canada"
          ],
          [
           "USA"
          ],
          [
           "Canada"
          ],
          [
           "USA"
          ],
          [
           "USA"
          ],
          [
           "USA"
          ],
          [
           "USA"
          ],
          [
           "USA"
          ],
          [
           "USA"
          ],
          [
           "USA"
          ],
          [
           "Canada"
          ],
          [
           "Canada"
          ],
          [
           "USA"
          ],
          [
           "Canada"
          ],
          [
           "USA"
          ],
          [
           "Canada"
          ],
          [
           "USA"
          ],
          [
           "Canada"
          ],
          [
           "USA"
          ],
          [
           "USA"
          ],
          [
           "USA"
          ],
          [
           "USA"
          ],
          [
           "USA"
          ],
          [
           "Canada"
          ],
          [
           "USA"
          ],
          [
           "Canada"
          ],
          [
           "Canada"
          ],
          [
           "USA"
          ],
          [
           "USA"
          ],
          [
           "USA"
          ],
          [
           "Canada"
          ],
          [
           "Canada"
          ],
          [
           "USA"
          ],
          [
           "Canada"
          ],
          [
           "USA"
          ],
          [
           "USA"
          ],
          [
           "USA"
          ],
          [
           "Canada"
          ],
          [
           "USA"
          ],
          [
           "Canada"
          ],
          [
           "USA"
          ],
          [
           "USA"
          ],
          [
           "USA"
          ],
          [
           "USA"
          ],
          [
           "USA"
          ],
          [
           "USA"
          ],
          [
           "Canada"
          ],
          [
           "USA"
          ],
          [
           "Canada"
          ],
          [
           "USA"
          ],
          [
           "USA"
          ],
          [
           "USA"
          ],
          [
           "Canada"
          ]
         ],
         "hovertemplate": "Континент=North America<br>Количество треков в заказе=%{x}<br>Сумма продажи ($)=%{y}<br>country=%{customdata[0]}<extra></extra>",
         "legendgroup": "North America",
         "marker": {
          "color": "red",
          "opacity": 0.7,
          "size": 8,
          "symbol": "circle"
         },
         "mode": "markers",
         "name": "North America",
         "orientation": "v",
         "showlegend": true,
         "type": "scatter",
         "x": {
          "bdata": "AQIJAgICDgICDgICAg4EBAYOAgECAQICAQkJDgEEAg4EAQ4CCQkOBAQBAgICAgEBAgYOAQ4GBA4OCQ4GDgECAgIBCQ4BBAYCBgEOCQYECQIEBgQEDgIJCQ4BDgIJDgQCBgIGBAQEBgYGCQECAgkBBAYCCQIEAgIOCQEJCQYEAQEBBAICBgIGAgYJCQQGBgICCQYC",
          "dtype": "i1"
         },
         "xaxis": "x",
         "y": {
          "bdata": "rkfhehSu7z+uR+F6FK7/P1K4HoXr0SFArkfhehSu/z+uR+F6FK7/P65H4XoUrv8/uB6F61G4K0CuR+F6FK7/P65H4XoUrv8/XI/C9SjcN0CuR+F6FK7/P9ejcD0K1w9ArkfhehSu/z+4HoXrUbgrQK5H4XoUrg9ArkfhehSuD0DhehSuR+EnQLgehetRuC9ArkfhehSu/z+uR+F6FK7vP65H4XoUrv8/rkfhehSu7z+uR+F6FK7/P65H4XoUrv8/rkfhehSu7z9SuB6F69ElQFK4HoXr0SFAuB6F61G4K0CuR+F6FK7vP65H4XoUrg9ArkfhehSu/z+4HoXrUbgrQK5H4XoUrg9A16NwPQrX/z+4HoXrUbgrQK5H4XoUrv8/UrgehevRIUBSuB6F69EhQFyPwvUo3DJArkfhehSuD0CuR+F6FK4PQK5H4XoUru8/rkfhehSu/z+uR+F6FK7/P65H4XoUrv8/rkfhehSu/z+uR+F6FK7vP65H4XoUru8/rkfhehSu/z/D9Shcj8IXQLgehetRuCtArkfhehSu7z+4HoXrUbgrQMP1KFyPwhdArkfhehSuD0C4HoXrUbgrQLgehetRuCtAUrgehevRIUC4HoXrUbgrQMP1KFyPwhdAuB6F61G4K0CuR+F6FK7vP65H4XoUrv8/rkfhehSu/z+uR+F6FK7/P65H4XoUru8/UrgehevRIUC4HoXrUbgrQK5H4XoUru8/rkfhehSuD0DD9Shcj8IXQK5H4XoUrv8/w/UoXI/CF0CuR+F6FK7vP7gehetRuCtAUrgehevRIUDD9Shcj8IXQK5H4XoUrg9AUrgehevRIUCuR+F6FK7/P65H4XoUrg9Aw/UoXI/CF0CuR+F6FK4PQK5H4XoUrg9AuB6F61G4K0CuR+F6FK7/P1K4HoXr0SFAUrgehevRIUC4HoXrUbgrQK5H4XoUru8/uB6F61G4K0CuR+F6FK7/P1K4HoXr0SFAuB6F61G4K0CuR+F6FK4PQK5H4XoUrv8/w/UoXI/CF0CuR+F6FK7/P8P1KFyPwhdA16NwPQrXH0CuR+F6FK4PQK5H4XoUrg9Aw/UoXI/CF0DD9Shcj8IXQMP1KFyPwhdAUrgehevRIUCuR+F6FK7vP65H4XoUrv8/rkfhehSu/z9SuB6F69EhQK5H4XoUru8/rkfhehSuD0DD9Shcj8IXQK5H4XoUrv8/UrgehevRIUCuR+F6FK7/P65H4XoUrg9ArkfhehSu/z+uR+F6FK7/P7gehetRuCtAUrgehevRI0CuR+F6FK7vP1K4HoXr0SFAUrgehevRIUDD9Shcj8IXQK5H4XoUrg9ArkfhehSu7z+uR+F6FK7vP65H4XoUru8/rkfhehSuD0CuR+F6FK7/P9ejcD0K1w9Aw/UoXI/CF0CuR+F6FK7/P8P1KFyPwhdA16NwPQrXD0DD9Shcj8IXQFK4HoXr0SFAUrgehevRIUCuR+F6FK4PQMP1KFyPwhdAw/UoXI/CF0CuR+F6FK7/P65H4XoUrv8/UrgehevRIUDD9Shcj8IXQK5H4XoUrv8/",
          "dtype": "f8"
         },
         "yaxis": "y"
        }
       ],
       "layout": {
        "height": 600,
        "legend": {
         "orientation": "h",
         "title": {
          "text": "Континент"
         },
         "tracegroupgap": 0,
         "x": 0.5,
         "xanchor": "center",
         "y": -0.3,
         "yanchor": "bottom"
        },
        "margin": {
         "b": 50,
         "l": 50,
         "r": 50,
         "t": 80
        },
        "plot_bgcolor": "rgba(245,245,245,1)",
        "template": {
         "data": {
          "bar": [
           {
            "error_x": {
             "color": "#2a3f5f"
            },
            "error_y": {
             "color": "#2a3f5f"
            },
            "marker": {
             "line": {
              "color": "#E5ECF6",
              "width": 0.5
             },
             "pattern": {
              "fillmode": "overlay",
              "size": 10,
              "solidity": 0.2
             }
            },
            "type": "bar"
           }
          ],
          "barpolar": [
           {
            "marker": {
             "line": {
              "color": "#E5ECF6",
              "width": 0.5
             },
             "pattern": {
              "fillmode": "overlay",
              "size": 10,
              "solidity": 0.2
             }
            },
            "type": "barpolar"
           }
          ],
          "carpet": [
           {
            "aaxis": {
             "endlinecolor": "#2a3f5f",
             "gridcolor": "white",
             "linecolor": "white",
             "minorgridcolor": "white",
             "startlinecolor": "#2a3f5f"
            },
            "baxis": {
             "endlinecolor": "#2a3f5f",
             "gridcolor": "white",
             "linecolor": "white",
             "minorgridcolor": "white",
             "startlinecolor": "#2a3f5f"
            },
            "type": "carpet"
           }
          ],
          "choropleth": [
           {
            "colorbar": {
             "outlinewidth": 0,
             "ticks": ""
            },
            "type": "choropleth"
           }
          ],
          "contour": [
           {
            "colorbar": {
             "outlinewidth": 0,
             "ticks": ""
            },
            "colorscale": [
             [
              0,
              "#0d0887"
             ],
             [
              0.1111111111111111,
              "#46039f"
             ],
             [
              0.2222222222222222,
              "#7201a8"
             ],
             [
              0.3333333333333333,
              "#9c179e"
             ],
             [
              0.4444444444444444,
              "#bd3786"
             ],
             [
              0.5555555555555556,
              "#d8576b"
             ],
             [
              0.6666666666666666,
              "#ed7953"
             ],
             [
              0.7777777777777778,
              "#fb9f3a"
             ],
             [
              0.8888888888888888,
              "#fdca26"
             ],
             [
              1,
              "#f0f921"
             ]
            ],
            "type": "contour"
           }
          ],
          "contourcarpet": [
           {
            "colorbar": {
             "outlinewidth": 0,
             "ticks": ""
            },
            "type": "contourcarpet"
           }
          ],
          "heatmap": [
           {
            "colorbar": {
             "outlinewidth": 0,
             "ticks": ""
            },
            "colorscale": [
             [
              0,
              "#0d0887"
             ],
             [
              0.1111111111111111,
              "#46039f"
             ],
             [
              0.2222222222222222,
              "#7201a8"
             ],
             [
              0.3333333333333333,
              "#9c179e"
             ],
             [
              0.4444444444444444,
              "#bd3786"
             ],
             [
              0.5555555555555556,
              "#d8576b"
             ],
             [
              0.6666666666666666,
              "#ed7953"
             ],
             [
              0.7777777777777778,
              "#fb9f3a"
             ],
             [
              0.8888888888888888,
              "#fdca26"
             ],
             [
              1,
              "#f0f921"
             ]
            ],
            "type": "heatmap"
           }
          ],
          "histogram": [
           {
            "marker": {
             "pattern": {
              "fillmode": "overlay",
              "size": 10,
              "solidity": 0.2
             }
            },
            "type": "histogram"
           }
          ],
          "histogram2d": [
           {
            "colorbar": {
             "outlinewidth": 0,
             "ticks": ""
            },
            "colorscale": [
             [
              0,
              "#0d0887"
             ],
             [
              0.1111111111111111,
              "#46039f"
             ],
             [
              0.2222222222222222,
              "#7201a8"
             ],
             [
              0.3333333333333333,
              "#9c179e"
             ],
             [
              0.4444444444444444,
              "#bd3786"
             ],
             [
              0.5555555555555556,
              "#d8576b"
             ],
             [
              0.6666666666666666,
              "#ed7953"
             ],
             [
              0.7777777777777778,
              "#fb9f3a"
             ],
             [
              0.8888888888888888,
              "#fdca26"
             ],
             [
              1,
              "#f0f921"
             ]
            ],
            "type": "histogram2d"
           }
          ],
          "histogram2dcontour": [
           {
            "colorbar": {
             "outlinewidth": 0,
             "ticks": ""
            },
            "colorscale": [
             [
              0,
              "#0d0887"
             ],
             [
              0.1111111111111111,
              "#46039f"
             ],
             [
              0.2222222222222222,
              "#7201a8"
             ],
             [
              0.3333333333333333,
              "#9c179e"
             ],
             [
              0.4444444444444444,
              "#bd3786"
             ],
             [
              0.5555555555555556,
              "#d8576b"
             ],
             [
              0.6666666666666666,
              "#ed7953"
             ],
             [
              0.7777777777777778,
              "#fb9f3a"
             ],
             [
              0.8888888888888888,
              "#fdca26"
             ],
             [
              1,
              "#f0f921"
             ]
            ],
            "type": "histogram2dcontour"
           }
          ],
          "mesh3d": [
           {
            "colorbar": {
             "outlinewidth": 0,
             "ticks": ""
            },
            "type": "mesh3d"
           }
          ],
          "parcoords": [
           {
            "line": {
             "colorbar": {
              "outlinewidth": 0,
              "ticks": ""
             }
            },
            "type": "parcoords"
           }
          ],
          "pie": [
           {
            "automargin": true,
            "type": "pie"
           }
          ],
          "scatter": [
           {
            "fillpattern": {
             "fillmode": "overlay",
             "size": 10,
             "solidity": 0.2
            },
            "type": "scatter"
           }
          ],
          "scatter3d": [
           {
            "line": {
             "colorbar": {
              "outlinewidth": 0,
              "ticks": ""
             }
            },
            "marker": {
             "colorbar": {
              "outlinewidth": 0,
              "ticks": ""
             }
            },
            "type": "scatter3d"
           }
          ],
          "scattercarpet": [
           {
            "marker": {
             "colorbar": {
              "outlinewidth": 0,
              "ticks": ""
             }
            },
            "type": "scattercarpet"
           }
          ],
          "scattergeo": [
           {
            "marker": {
             "colorbar": {
              "outlinewidth": 0,
              "ticks": ""
             }
            },
            "type": "scattergeo"
           }
          ],
          "scattergl": [
           {
            "marker": {
             "colorbar": {
              "outlinewidth": 0,
              "ticks": ""
             }
            },
            "type": "scattergl"
           }
          ],
          "scattermap": [
           {
            "marker": {
             "colorbar": {
              "outlinewidth": 0,
              "ticks": ""
             }
            },
            "type": "scattermap"
           }
          ],
          "scattermapbox": [
           {
            "marker": {
             "colorbar": {
              "outlinewidth": 0,
              "ticks": ""
             }
            },
            "type": "scattermapbox"
           }
          ],
          "scatterpolar": [
           {
            "marker": {
             "colorbar": {
              "outlinewidth": 0,
              "ticks": ""
             }
            },
            "type": "scatterpolar"
           }
          ],
          "scatterpolargl": [
           {
            "marker": {
             "colorbar": {
              "outlinewidth": 0,
              "ticks": ""
             }
            },
            "type": "scatterpolargl"
           }
          ],
          "scatterternary": [
           {
            "marker": {
             "colorbar": {
              "outlinewidth": 0,
              "ticks": ""
             }
            },
            "type": "scatterternary"
           }
          ],
          "surface": [
           {
            "colorbar": {
             "outlinewidth": 0,
             "ticks": ""
            },
            "colorscale": [
             [
              0,
              "#0d0887"
             ],
             [
              0.1111111111111111,
              "#46039f"
             ],
             [
              0.2222222222222222,
              "#7201a8"
             ],
             [
              0.3333333333333333,
              "#9c179e"
             ],
             [
              0.4444444444444444,
              "#bd3786"
             ],
             [
              0.5555555555555556,
              "#d8576b"
             ],
             [
              0.6666666666666666,
              "#ed7953"
             ],
             [
              0.7777777777777778,
              "#fb9f3a"
             ],
             [
              0.8888888888888888,
              "#fdca26"
             ],
             [
              1,
              "#f0f921"
             ]
            ],
            "type": "surface"
           }
          ],
          "table": [
           {
            "cells": {
             "fill": {
              "color": "#EBF0F8"
             },
             "line": {
              "color": "white"
             }
            },
            "header": {
             "fill": {
              "color": "#C8D4E3"
             },
             "line": {
              "color": "white"
             }
            },
            "type": "table"
           }
          ]
         },
         "layout": {
          "annotationdefaults": {
           "arrowcolor": "#2a3f5f",
           "arrowhead": 0,
           "arrowwidth": 1
          },
          "autotypenumbers": "strict",
          "coloraxis": {
           "colorbar": {
            "outlinewidth": 0,
            "ticks": ""
           }
          },
          "colorscale": {
           "diverging": [
            [
             0,
             "#8e0152"
            ],
            [
             0.1,
             "#c51b7d"
            ],
            [
             0.2,
             "#de77ae"
            ],
            [
             0.3,
             "#f1b6da"
            ],
            [
             0.4,
             "#fde0ef"
            ],
            [
             0.5,
             "#f7f7f7"
            ],
            [
             0.6,
             "#e6f5d0"
            ],
            [
             0.7,
             "#b8e186"
            ],
            [
             0.8,
             "#7fbc41"
            ],
            [
             0.9,
             "#4d9221"
            ],
            [
             1,
             "#276419"
            ]
           ],
           "sequential": [
            [
             0,
             "#0d0887"
            ],
            [
             0.1111111111111111,
             "#46039f"
            ],
            [
             0.2222222222222222,
             "#7201a8"
            ],
            [
             0.3333333333333333,
             "#9c179e"
            ],
            [
             0.4444444444444444,
             "#bd3786"
            ],
            [
             0.5555555555555556,
             "#d8576b"
            ],
            [
             0.6666666666666666,
             "#ed7953"
            ],
            [
             0.7777777777777778,
             "#fb9f3a"
            ],
            [
             0.8888888888888888,
             "#fdca26"
            ],
            [
             1,
             "#f0f921"
            ]
           ],
           "sequentialminus": [
            [
             0,
             "#0d0887"
            ],
            [
             0.1111111111111111,
             "#46039f"
            ],
            [
             0.2222222222222222,
             "#7201a8"
            ],
            [
             0.3333333333333333,
             "#9c179e"
            ],
            [
             0.4444444444444444,
             "#bd3786"
            ],
            [
             0.5555555555555556,
             "#d8576b"
            ],
            [
             0.6666666666666666,
             "#ed7953"
            ],
            [
             0.7777777777777778,
             "#fb9f3a"
            ],
            [
             0.8888888888888888,
             "#fdca26"
            ],
            [
             1,
             "#f0f921"
            ]
           ]
          },
          "colorway": [
           "#636efa",
           "#EF553B",
           "#00cc96",
           "#ab63fa",
           "#FFA15A",
           "#19d3f3",
           "#FF6692",
           "#B6E880",
           "#FF97FF",
           "#FECB52"
          ],
          "font": {
           "color": "#2a3f5f"
          },
          "geo": {
           "bgcolor": "white",
           "lakecolor": "white",
           "landcolor": "#E5ECF6",
           "showlakes": true,
           "showland": true,
           "subunitcolor": "white"
          },
          "hoverlabel": {
           "align": "left"
          },
          "hovermode": "closest",
          "mapbox": {
           "style": "light"
          },
          "paper_bgcolor": "white",
          "plot_bgcolor": "#E5ECF6",
          "polar": {
           "angularaxis": {
            "gridcolor": "white",
            "linecolor": "white",
            "ticks": ""
           },
           "bgcolor": "#E5ECF6",
           "radialaxis": {
            "gridcolor": "white",
            "linecolor": "white",
            "ticks": ""
           }
          },
          "scene": {
           "xaxis": {
            "backgroundcolor": "#E5ECF6",
            "gridcolor": "white",
            "gridwidth": 2,
            "linecolor": "white",
            "showbackground": true,
            "ticks": "",
            "zerolinecolor": "white"
           },
           "yaxis": {
            "backgroundcolor": "#E5ECF6",
            "gridcolor": "white",
            "gridwidth": 2,
            "linecolor": "white",
            "showbackground": true,
            "ticks": "",
            "zerolinecolor": "white"
           },
           "zaxis": {
            "backgroundcolor": "#E5ECF6",
            "gridcolor": "white",
            "gridwidth": 2,
            "linecolor": "white",
            "showbackground": true,
            "ticks": "",
            "zerolinecolor": "white"
           }
          },
          "shapedefaults": {
           "line": {
            "color": "#2a3f5f"
           }
          },
          "ternary": {
           "aaxis": {
            "gridcolor": "white",
            "linecolor": "white",
            "ticks": ""
           },
           "baxis": {
            "gridcolor": "white",
            "linecolor": "white",
            "ticks": ""
           },
           "bgcolor": "#E5ECF6",
           "caxis": {
            "gridcolor": "white",
            "linecolor": "white",
            "ticks": ""
           }
          },
          "title": {
           "x": 0.05
          },
          "xaxis": {
           "automargin": true,
           "gridcolor": "white",
           "linecolor": "white",
           "ticks": "",
           "title": {
            "standoff": 15
           },
           "zerolinecolor": "white",
           "zerolinewidth": 2
          },
          "yaxis": {
           "automargin": true,
           "gridcolor": "white",
           "linecolor": "white",
           "ticks": "",
           "title": {
            "standoff": 15
           },
           "zerolinecolor": "white",
           "zerolinewidth": 2
          }
         }
        },
        "title": {
         "text": "Соотношение суммы продаж и количества треков по континентам"
        },
        "xaxis": {
         "anchor": "y",
         "domain": [
          0,
          1
         ],
         "title": {
          "text": "Количество треков в заказе"
         }
        },
        "yaxis": {
         "anchor": "x",
         "domain": [
          0,
          1
         ],
         "title": {
          "text": "Сумма продажи ($)"
         }
        }
       }
      }
     },
     "metadata": {},
     "output_type": "display_data"
    }
   ],
   "source": [
    " # 3 exercise\n",
    "country_to_continent = {\n",
    "    'USA': 'North America',\n",
    "    'Canada': 'North America',\n",
    "    'Germany': 'Europe',\n",
    "    'France': 'Europe',\n",
    "    'UK': 'Europe',\n",
    "    'Japan': 'Asia',\n",
    "    'China': 'Asia',\n",
    "    'India': 'Asia'\n",
    "}\n",
    "query = \"\"\"\n",
    "    SELECT \n",
    "        i.invoice_id,\n",
    "        i.billing_country AS country,\n",
    "        i.total AS sales_amount,\n",
    "        COUNT(il.track_id) AS tracks_count\n",
    "    FROM invoice i\n",
    "    JOIN invoice_line il ON i.invoice_id = il.invoice_id\n",
    "    GROUP BY i.invoice_id, i.total, i.billing_country\n",
    "\"\"\"\n",
    "\n",
    "with set_connection() as conn:\n",
    "    df = pd.read_sql(query, conn)\n",
    "\n",
    "df['continent'] = df['country'].map(country_to_continent)\n",
    "\n",
    "fig = px.scatter(\n",
    "    df,\n",
    "    x='tracks_count',\n",
    "    y='sales_amount',\n",
    "    color='continent',\n",
    "    title='Соотношение суммы продаж и количества треков по континентам',\n",
    "    labels={\n",
    "        'tracks_count': 'Количество треков в заказе',\n",
    "        'sales_amount': 'Сумма продажи ($)',\n",
    "        'continent': 'Континент'\n",
    "    },\n",
    "    color_discrete_map={\n",
    "        'Asia': 'yellow',\n",
    "        'Europe': 'blue',\n",
    "        'North America': 'red'\n",
    "    },\n",
    "    category_orders={'continent': ['Asia', 'Europe', 'North America']},\n",
    "    height=600,\n",
    "    hover_data=['country']\n",
    ")\n",
    "fig.update_layout(\n",
    "    plot_bgcolor='rgba(245,245,245,1)',\n",
    "    legend=dict(\n",
    "        title='Континент',\n",
    "        orientation=\"h\",\n",
    "        yanchor=\"bottom\",\n",
    "        y=-0.3,\n",
    "        xanchor=\"center\",\n",
    "        x=0.5\n",
    "    ),\n",
    "    margin=dict(l=50, r=50, b=50, t=80)\n",
    ")\n",
    "\n",
    "fig.update_traces(marker=dict(size=8, opacity=0.7))\n",
    "\n",
    "fig.show()"
   ]
  },
  {
   "cell_type": "code",
   "execution_count": 10,
   "metadata": {},
   "outputs": [
    {
     "data": {
      "application/vnd.plotly.v1+json": {
       "config": {
        "plotlyServerURL": "https://plot.ly"
       },
       "data": [
        {
         "customdata": [
          [
           "India"
          ],
          [
           "India"
          ],
          [
           "India"
          ],
          [
           "India"
          ],
          [
           "India"
          ],
          [
           "India"
          ],
          [
           "India"
          ],
          [
           "India"
          ],
          [
           "India"
          ],
          [
           "India"
          ],
          [
           "India"
          ],
          [
           "India"
          ],
          [
           "India"
          ]
         ],
         "hovertemplate": "Континент=Asia<br>Количество треков в заказе=%{x}<br>Сумма продажи ($)=%{y}<br>country=%{customdata[0]}<extra></extra>",
         "legendgroup": "Asia",
         "marker": {
          "color": "yellow",
          "opacity": 0.7,
          "size": 8,
          "symbol": "circle"
         },
         "mode": "markers",
         "name": "Asia",
         "orientation": "v",
         "showlegend": true,
         "type": "scatter",
         "x": {
          "bdata": "AgIJDgEEAQ4GCQYCBA==",
          "dtype": "i1"
         },
         "xaxis": "x",
         "y": {
          "bdata": "rkfhehSu/z+uR+F6FK7/P1K4HoXr0SFAuB6F61G4K0DXo3A9Ctf/P65H4XoUrg9A16NwPQrX/z+4HoXrUbgrQMP1KFyPwhdAUrgehevRIUDD9Shcj8IXQK5H4XoUrv8/rkfhehSuD0A=",
          "dtype": "f8"
         },
         "yaxis": "y"
        },
        {
         "customdata": [
          [
           "Germany"
          ],
          [
           "Germany"
          ],
          [
           "Germany"
          ],
          [
           "France"
          ],
          [
           "Germany"
          ],
          [
           "Germany"
          ],
          [
           "Germany"
          ],
          [
           "France"
          ],
          [
           "France"
          ],
          [
           "France"
          ],
          [
           "Germany"
          ],
          [
           "Germany"
          ],
          [
           "France"
          ],
          [
           "Germany"
          ],
          [
           "France"
          ],
          [
           "France"
          ],
          [
           "Germany"
          ],
          [
           "Germany"
          ],
          [
           "Germany"
          ],
          [
           "France"
          ],
          [
           "France"
          ],
          [
           "France"
          ],
          [
           "France"
          ],
          [
           "Germany"
          ],
          [
           "Germany"
          ],
          [
           "Germany"
          ],
          [
           "France"
          ],
          [
           "France"
          ],
          [
           "France"
          ],
          [
           "France"
          ],
          [
           "France"
          ],
          [
           "Germany"
          ],
          [
           "Germany"
          ],
          [
           "France"
          ],
          [
           "France"
          ],
          [
           "France"
          ],
          [
           "France"
          ],
          [
           "Germany"
          ],
          [
           "France"
          ],
          [
           "France"
          ],
          [
           "Germany"
          ],
          [
           "France"
          ],
          [
           "France"
          ],
          [
           "Germany"
          ],
          [
           "France"
          ],
          [
           "France"
          ],
          [
           "France"
          ],
          [
           "Germany"
          ],
          [
           "Germany"
          ],
          [
           "France"
          ],
          [
           "Germany"
          ],
          [
           "France"
          ],
          [
           "France"
          ],
          [
           "Germany"
          ],
          [
           "Germany"
          ],
          [
           "Germany"
          ],
          [
           "France"
          ],
          [
           "France"
          ],
          [
           "Germany"
          ],
          [
           "France"
          ],
          [
           "Germany"
          ],
          [
           "France"
          ],
          [
           "France"
          ]
         ],
         "hovertemplate": "Континент=Europe<br>Количество треков в заказе=%{x}<br>Сумма продажи ($)=%{y}<br>country=%{customdata[0]}<extra></extra>",
         "legendgroup": "Europe",
         "marker": {
          "color": "blue",
          "opacity": 0.7,
          "size": 8,
          "symbol": "circle"
         },
         "mode": "markers",
         "name": "Europe",
         "orientation": "v",
         "showlegend": true,
         "type": "scatter",
         "x": {
          "bdata": "BA4GDg4CCQQOAgECAQECBAEEBgYJBAICCQICBgICBgYCAgkCAgIBBAkCCQQEAQkCDgEJDgEGAgQOBg4GAQ4J",
          "dtype": "i1"
         },
         "xaxis": "x",
         "y": {
          "bdata": "rkfhehSuD0C4HoXrUbgrQMP1KFyPwhdAuB6F61G4K0C4HoXrUbgrQK5H4XoUrv8/UrgehevRIUCuR+F6FK4PQLgehetRuCtA16NwPQrXD0CuR+F6FK7vP65H4XoUrv8/rkfhehSu7z+uR+F6FK7vP65H4XoUrv8/rkfhehSuD0CuR+F6FK7vP65H4XoUrg9Aw/UoXI/CF0DD9Shcj8IXQFK4HoXr0SFArkfhehSuD0CuR+F6FK7/P65H4XoUrv8/UrgehevRLUCuR+F6FK7/P65H4XoUrv8/w/UoXI/CF0DXo3A9CtcHQK5H4XoUrv8/w/UoXI/CF0DD9Shcj8IXQK5H4XoUrv8/rkfhehSu/z9SuB6F69EhQK5H4XoUrv8/rkfhehSu/z+uR+F6FK7/P9ejcD0K1/8/rkfhehSuD0BSuB6F69EhQK5H4XoUrv8/UrgehevRIUCuR+F6FK4PQK5H4XoUrg9ArkfhehSu7z9SuB6F69EhQK5H4XoUrv8/uB6F61G4K0CuR+F6FK7vP1K4HoXr0SFAuB6F61G4K0CuR+F6FK7vP8P1KFyPwhdArkfhehSu/z+uR+F6FK4PQFyPwvUo3DBAw/UoXI/CF0C4HoXrUbgrQMP1KFyPwhdArkfhehSu7z+4HoXrUbgrQFK4HoXr0SFA",
          "dtype": "f8"
         },
         "yaxis": "y"
        },
        {
         "customdata": [
          [
           "USA"
          ],
          [
           "Canada"
          ],
          [
           "Canada"
          ],
          [
           "USA"
          ],
          [
           "USA"
          ],
          [
           "USA"
          ],
          [
           "Canada"
          ],
          [
           "USA"
          ],
          [
           "Canada"
          ],
          [
           "USA"
          ],
          [
           "Canada"
          ],
          [
           "USA"
          ],
          [
           "USA"
          ],
          [
           "Canada"
          ],
          [
           "Canada"
          ],
          [
           "USA"
          ],
          [
           "USA"
          ],
          [
           "USA"
          ],
          [
           "USA"
          ],
          [
           "USA"
          ],
          [
           "USA"
          ],
          [
           "Canada"
          ],
          [
           "USA"
          ],
          [
           "USA"
          ],
          [
           "Canada"
          ],
          [
           "USA"
          ],
          [
           "USA"
          ],
          [
           "Canada"
          ],
          [
           "Canada"
          ],
          [
           "USA"
          ],
          [
           "USA"
          ],
          [
           "USA"
          ],
          [
           "Canada"
          ],
          [
           "USA"
          ],
          [
           "USA"
          ],
          [
           "USA"
          ],
          [
           "USA"
          ],
          [
           "Canada"
          ],
          [
           "USA"
          ],
          [
           "USA"
          ],
          [
           "USA"
          ],
          [
           "USA"
          ],
          [
           "Canada"
          ],
          [
           "Canada"
          ],
          [
           "USA"
          ],
          [
           "Canada"
          ],
          [
           "USA"
          ],
          [
           "Canada"
          ],
          [
           "Canada"
          ],
          [
           "Canada"
          ],
          [
           "USA"
          ],
          [
           "Canada"
          ],
          [
           "USA"
          ],
          [
           "USA"
          ],
          [
           "Canada"
          ],
          [
           "Canada"
          ],
          [
           "Canada"
          ],
          [
           "Canada"
          ],
          [
           "Canada"
          ],
          [
           "Canada"
          ],
          [
           "USA"
          ],
          [
           "Canada"
          ],
          [
           "Canada"
          ],
          [
           "USA"
          ],
          [
           "Canada"
          ],
          [
           "Canada"
          ],
          [
           "USA"
          ],
          [
           "USA"
          ],
          [
           "USA"
          ],
          [
           "Canada"
          ],
          [
           "Canada"
          ],
          [
           "USA"
          ],
          [
           "Canada"
          ],
          [
           "USA"
          ],
          [
           "USA"
          ],
          [
           "USA"
          ],
          [
           "USA"
          ],
          [
           "USA"
          ],
          [
           "USA"
          ],
          [
           "USA"
          ],
          [
           "USA"
          ],
          [
           "USA"
          ],
          [
           "USA"
          ],
          [
           "Canada"
          ],
          [
           "USA"
          ],
          [
           "USA"
          ],
          [
           "USA"
          ],
          [
           "Canada"
          ],
          [
           "USA"
          ],
          [
           "USA"
          ],
          [
           "Canada"
          ],
          [
           "Canada"
          ],
          [
           "Canada"
          ],
          [
           "USA"
          ],
          [
           "Canada"
          ],
          [
           "USA"
          ],
          [
           "Canada"
          ],
          [
           "USA"
          ],
          [
           "USA"
          ],
          [
           "USA"
          ],
          [
           "USA"
          ],
          [
           "USA"
          ],
          [
           "USA"
          ],
          [
           "USA"
          ],
          [
           "Canada"
          ],
          [
           "Canada"
          ],
          [
           "USA"
          ],
          [
           "Canada"
          ],
          [
           "USA"
          ],
          [
           "Canada"
          ],
          [
           "USA"
          ],
          [
           "Canada"
          ],
          [
           "USA"
          ],
          [
           "USA"
          ],
          [
           "USA"
          ],
          [
           "USA"
          ],
          [
           "USA"
          ],
          [
           "Canada"
          ],
          [
           "USA"
          ],
          [
           "Canada"
          ],
          [
           "Canada"
          ],
          [
           "USA"
          ],
          [
           "USA"
          ],
          [
           "USA"
          ],
          [
           "Canada"
          ],
          [
           "Canada"
          ],
          [
           "USA"
          ],
          [
           "Canada"
          ],
          [
           "USA"
          ],
          [
           "USA"
          ],
          [
           "USA"
          ],
          [
           "Canada"
          ],
          [
           "USA"
          ],
          [
           "Canada"
          ],
          [
           "USA"
          ],
          [
           "USA"
          ],
          [
           "USA"
          ],
          [
           "USA"
          ],
          [
           "USA"
          ],
          [
           "USA"
          ],
          [
           "Canada"
          ],
          [
           "USA"
          ],
          [
           "Canada"
          ],
          [
           "USA"
          ],
          [
           "USA"
          ],
          [
           "USA"
          ],
          [
           "Canada"
          ]
         ],
         "hovertemplate": "Континент=North America<br>Количество треков в заказе=%{x}<br>Сумма продажи ($)=%{y}<br>country=%{customdata[0]}<extra></extra>",
         "legendgroup": "North America",
         "marker": {
          "color": "red",
          "opacity": 0.7,
          "size": 8,
          "symbol": "circle"
         },
         "mode": "markers",
         "name": "North America",
         "orientation": "v",
         "showlegend": true,
         "type": "scatter",
         "x": {
          "bdata": "AQIJAgICDgICDgICAg4EBAYOAgECAQICAQkJDgEEAg4EAQ4CCQkOBAQBAgICAgEBAgYOAQ4GBA4OCQ4GDgECAgIBCQ4BBAYCBgEOCQYECQIEBgQEDgIJCQ4BDgIJDgQCBgIGBAQEBgYGCQECAgkBBAYCCQIEAgIOCQEJCQYEAQEBBAICBgIGAgYJCQQGBgICCQYC",
          "dtype": "i1"
         },
         "xaxis": "x",
         "y": {
          "bdata": "rkfhehSu7z+uR+F6FK7/P1K4HoXr0SFArkfhehSu/z+uR+F6FK7/P65H4XoUrv8/uB6F61G4K0CuR+F6FK7/P65H4XoUrv8/XI/C9SjcN0CuR+F6FK7/P9ejcD0K1w9ArkfhehSu/z+4HoXrUbgrQK5H4XoUrg9ArkfhehSuD0DhehSuR+EnQLgehetRuC9ArkfhehSu/z+uR+F6FK7vP65H4XoUrv8/rkfhehSu7z+uR+F6FK7/P65H4XoUrv8/rkfhehSu7z9SuB6F69ElQFK4HoXr0SFAuB6F61G4K0CuR+F6FK7vP65H4XoUrg9ArkfhehSu/z+4HoXrUbgrQK5H4XoUrg9A16NwPQrX/z+4HoXrUbgrQK5H4XoUrv8/UrgehevRIUBSuB6F69EhQFyPwvUo3DJArkfhehSuD0CuR+F6FK4PQK5H4XoUru8/rkfhehSu/z+uR+F6FK7/P65H4XoUrv8/rkfhehSu/z+uR+F6FK7vP65H4XoUru8/rkfhehSu/z/D9Shcj8IXQLgehetRuCtArkfhehSu7z+4HoXrUbgrQMP1KFyPwhdArkfhehSuD0C4HoXrUbgrQLgehetRuCtAUrgehevRIUC4HoXrUbgrQMP1KFyPwhdAuB6F61G4K0CuR+F6FK7vP65H4XoUrv8/rkfhehSu/z+uR+F6FK7/P65H4XoUru8/UrgehevRIUC4HoXrUbgrQK5H4XoUru8/rkfhehSuD0DD9Shcj8IXQK5H4XoUrv8/w/UoXI/CF0CuR+F6FK7vP7gehetRuCtAUrgehevRIUDD9Shcj8IXQK5H4XoUrg9AUrgehevRIUCuR+F6FK7/P65H4XoUrg9Aw/UoXI/CF0CuR+F6FK4PQK5H4XoUrg9AuB6F61G4K0CuR+F6FK7/P1K4HoXr0SFAUrgehevRIUC4HoXrUbgrQK5H4XoUru8/uB6F61G4K0CuR+F6FK7/P1K4HoXr0SFAuB6F61G4K0CuR+F6FK4PQK5H4XoUrv8/w/UoXI/CF0CuR+F6FK7/P8P1KFyPwhdA16NwPQrXH0CuR+F6FK4PQK5H4XoUrg9Aw/UoXI/CF0DD9Shcj8IXQMP1KFyPwhdAUrgehevRIUCuR+F6FK7vP65H4XoUrv8/rkfhehSu/z9SuB6F69EhQK5H4XoUru8/rkfhehSuD0DD9Shcj8IXQK5H4XoUrv8/UrgehevRIUCuR+F6FK7/P65H4XoUrg9ArkfhehSu/z+uR+F6FK7/P7gehetRuCtAUrgehevRI0CuR+F6FK7vP1K4HoXr0SFAUrgehevRIUDD9Shcj8IXQK5H4XoUrg9ArkfhehSu7z+uR+F6FK7vP65H4XoUru8/rkfhehSuD0CuR+F6FK7/P9ejcD0K1w9Aw/UoXI/CF0CuR+F6FK7/P8P1KFyPwhdA16NwPQrXD0DD9Shcj8IXQFK4HoXr0SFAUrgehevRIUCuR+F6FK4PQMP1KFyPwhdAw/UoXI/CF0CuR+F6FK7/P65H4XoUrv8/UrgehevRIUDD9Shcj8IXQK5H4XoUrv8/",
          "dtype": "f8"
         },
         "yaxis": "y"
        }
       ],
       "layout": {
        "height": 600,
        "legend": {
         "orientation": "h",
         "title": {
          "text": "Континент"
         },
         "tracegroupgap": 0,
         "x": 0.5,
         "xanchor": "center",
         "y": -0.3,
         "yanchor": "bottom"
        },
        "margin": {
         "b": 50,
         "l": 50,
         "r": 50,
         "t": 100
        },
        "plot_bgcolor": "rgba(245,245,245,1)",
        "template": {
         "data": {
          "bar": [
           {
            "error_x": {
             "color": "#2a3f5f"
            },
            "error_y": {
             "color": "#2a3f5f"
            },
            "marker": {
             "line": {
              "color": "#E5ECF6",
              "width": 0.5
             },
             "pattern": {
              "fillmode": "overlay",
              "size": 10,
              "solidity": 0.2
             }
            },
            "type": "bar"
           }
          ],
          "barpolar": [
           {
            "marker": {
             "line": {
              "color": "#E5ECF6",
              "width": 0.5
             },
             "pattern": {
              "fillmode": "overlay",
              "size": 10,
              "solidity": 0.2
             }
            },
            "type": "barpolar"
           }
          ],
          "carpet": [
           {
            "aaxis": {
             "endlinecolor": "#2a3f5f",
             "gridcolor": "white",
             "linecolor": "white",
             "minorgridcolor": "white",
             "startlinecolor": "#2a3f5f"
            },
            "baxis": {
             "endlinecolor": "#2a3f5f",
             "gridcolor": "white",
             "linecolor": "white",
             "minorgridcolor": "white",
             "startlinecolor": "#2a3f5f"
            },
            "type": "carpet"
           }
          ],
          "choropleth": [
           {
            "colorbar": {
             "outlinewidth": 0,
             "ticks": ""
            },
            "type": "choropleth"
           }
          ],
          "contour": [
           {
            "colorbar": {
             "outlinewidth": 0,
             "ticks": ""
            },
            "colorscale": [
             [
              0,
              "#0d0887"
             ],
             [
              0.1111111111111111,
              "#46039f"
             ],
             [
              0.2222222222222222,
              "#7201a8"
             ],
             [
              0.3333333333333333,
              "#9c179e"
             ],
             [
              0.4444444444444444,
              "#bd3786"
             ],
             [
              0.5555555555555556,
              "#d8576b"
             ],
             [
              0.6666666666666666,
              "#ed7953"
             ],
             [
              0.7777777777777778,
              "#fb9f3a"
             ],
             [
              0.8888888888888888,
              "#fdca26"
             ],
             [
              1,
              "#f0f921"
             ]
            ],
            "type": "contour"
           }
          ],
          "contourcarpet": [
           {
            "colorbar": {
             "outlinewidth": 0,
             "ticks": ""
            },
            "type": "contourcarpet"
           }
          ],
          "heatmap": [
           {
            "colorbar": {
             "outlinewidth": 0,
             "ticks": ""
            },
            "colorscale": [
             [
              0,
              "#0d0887"
             ],
             [
              0.1111111111111111,
              "#46039f"
             ],
             [
              0.2222222222222222,
              "#7201a8"
             ],
             [
              0.3333333333333333,
              "#9c179e"
             ],
             [
              0.4444444444444444,
              "#bd3786"
             ],
             [
              0.5555555555555556,
              "#d8576b"
             ],
             [
              0.6666666666666666,
              "#ed7953"
             ],
             [
              0.7777777777777778,
              "#fb9f3a"
             ],
             [
              0.8888888888888888,
              "#fdca26"
             ],
             [
              1,
              "#f0f921"
             ]
            ],
            "type": "heatmap"
           }
          ],
          "histogram": [
           {
            "marker": {
             "pattern": {
              "fillmode": "overlay",
              "size": 10,
              "solidity": 0.2
             }
            },
            "type": "histogram"
           }
          ],
          "histogram2d": [
           {
            "colorbar": {
             "outlinewidth": 0,
             "ticks": ""
            },
            "colorscale": [
             [
              0,
              "#0d0887"
             ],
             [
              0.1111111111111111,
              "#46039f"
             ],
             [
              0.2222222222222222,
              "#7201a8"
             ],
             [
              0.3333333333333333,
              "#9c179e"
             ],
             [
              0.4444444444444444,
              "#bd3786"
             ],
             [
              0.5555555555555556,
              "#d8576b"
             ],
             [
              0.6666666666666666,
              "#ed7953"
             ],
             [
              0.7777777777777778,
              "#fb9f3a"
             ],
             [
              0.8888888888888888,
              "#fdca26"
             ],
             [
              1,
              "#f0f921"
             ]
            ],
            "type": "histogram2d"
           }
          ],
          "histogram2dcontour": [
           {
            "colorbar": {
             "outlinewidth": 0,
             "ticks": ""
            },
            "colorscale": [
             [
              0,
              "#0d0887"
             ],
             [
              0.1111111111111111,
              "#46039f"
             ],
             [
              0.2222222222222222,
              "#7201a8"
             ],
             [
              0.3333333333333333,
              "#9c179e"
             ],
             [
              0.4444444444444444,
              "#bd3786"
             ],
             [
              0.5555555555555556,
              "#d8576b"
             ],
             [
              0.6666666666666666,
              "#ed7953"
             ],
             [
              0.7777777777777778,
              "#fb9f3a"
             ],
             [
              0.8888888888888888,
              "#fdca26"
             ],
             [
              1,
              "#f0f921"
             ]
            ],
            "type": "histogram2dcontour"
           }
          ],
          "mesh3d": [
           {
            "colorbar": {
             "outlinewidth": 0,
             "ticks": ""
            },
            "type": "mesh3d"
           }
          ],
          "parcoords": [
           {
            "line": {
             "colorbar": {
              "outlinewidth": 0,
              "ticks": ""
             }
            },
            "type": "parcoords"
           }
          ],
          "pie": [
           {
            "automargin": true,
            "type": "pie"
           }
          ],
          "scatter": [
           {
            "fillpattern": {
             "fillmode": "overlay",
             "size": 10,
             "solidity": 0.2
            },
            "type": "scatter"
           }
          ],
          "scatter3d": [
           {
            "line": {
             "colorbar": {
              "outlinewidth": 0,
              "ticks": ""
             }
            },
            "marker": {
             "colorbar": {
              "outlinewidth": 0,
              "ticks": ""
             }
            },
            "type": "scatter3d"
           }
          ],
          "scattercarpet": [
           {
            "marker": {
             "colorbar": {
              "outlinewidth": 0,
              "ticks": ""
             }
            },
            "type": "scattercarpet"
           }
          ],
          "scattergeo": [
           {
            "marker": {
             "colorbar": {
              "outlinewidth": 0,
              "ticks": ""
             }
            },
            "type": "scattergeo"
           }
          ],
          "scattergl": [
           {
            "marker": {
             "colorbar": {
              "outlinewidth": 0,
              "ticks": ""
             }
            },
            "type": "scattergl"
           }
          ],
          "scattermap": [
           {
            "marker": {
             "colorbar": {
              "outlinewidth": 0,
              "ticks": ""
             }
            },
            "type": "scattermap"
           }
          ],
          "scattermapbox": [
           {
            "marker": {
             "colorbar": {
              "outlinewidth": 0,
              "ticks": ""
             }
            },
            "type": "scattermapbox"
           }
          ],
          "scatterpolar": [
           {
            "marker": {
             "colorbar": {
              "outlinewidth": 0,
              "ticks": ""
             }
            },
            "type": "scatterpolar"
           }
          ],
          "scatterpolargl": [
           {
            "marker": {
             "colorbar": {
              "outlinewidth": 0,
              "ticks": ""
             }
            },
            "type": "scatterpolargl"
           }
          ],
          "scatterternary": [
           {
            "marker": {
             "colorbar": {
              "outlinewidth": 0,
              "ticks": ""
             }
            },
            "type": "scatterternary"
           }
          ],
          "surface": [
           {
            "colorbar": {
             "outlinewidth": 0,
             "ticks": ""
            },
            "colorscale": [
             [
              0,
              "#0d0887"
             ],
             [
              0.1111111111111111,
              "#46039f"
             ],
             [
              0.2222222222222222,
              "#7201a8"
             ],
             [
              0.3333333333333333,
              "#9c179e"
             ],
             [
              0.4444444444444444,
              "#bd3786"
             ],
             [
              0.5555555555555556,
              "#d8576b"
             ],
             [
              0.6666666666666666,
              "#ed7953"
             ],
             [
              0.7777777777777778,
              "#fb9f3a"
             ],
             [
              0.8888888888888888,
              "#fdca26"
             ],
             [
              1,
              "#f0f921"
             ]
            ],
            "type": "surface"
           }
          ],
          "table": [
           {
            "cells": {
             "fill": {
              "color": "#EBF0F8"
             },
             "line": {
              "color": "white"
             }
            },
            "header": {
             "fill": {
              "color": "#C8D4E3"
             },
             "line": {
              "color": "white"
             }
            },
            "type": "table"
           }
          ]
         },
         "layout": {
          "annotationdefaults": {
           "arrowcolor": "#2a3f5f",
           "arrowhead": 0,
           "arrowwidth": 1
          },
          "autotypenumbers": "strict",
          "coloraxis": {
           "colorbar": {
            "outlinewidth": 0,
            "ticks": ""
           }
          },
          "colorscale": {
           "diverging": [
            [
             0,
             "#8e0152"
            ],
            [
             0.1,
             "#c51b7d"
            ],
            [
             0.2,
             "#de77ae"
            ],
            [
             0.3,
             "#f1b6da"
            ],
            [
             0.4,
             "#fde0ef"
            ],
            [
             0.5,
             "#f7f7f7"
            ],
            [
             0.6,
             "#e6f5d0"
            ],
            [
             0.7,
             "#b8e186"
            ],
            [
             0.8,
             "#7fbc41"
            ],
            [
             0.9,
             "#4d9221"
            ],
            [
             1,
             "#276419"
            ]
           ],
           "sequential": [
            [
             0,
             "#0d0887"
            ],
            [
             0.1111111111111111,
             "#46039f"
            ],
            [
             0.2222222222222222,
             "#7201a8"
            ],
            [
             0.3333333333333333,
             "#9c179e"
            ],
            [
             0.4444444444444444,
             "#bd3786"
            ],
            [
             0.5555555555555556,
             "#d8576b"
            ],
            [
             0.6666666666666666,
             "#ed7953"
            ],
            [
             0.7777777777777778,
             "#fb9f3a"
            ],
            [
             0.8888888888888888,
             "#fdca26"
            ],
            [
             1,
             "#f0f921"
            ]
           ],
           "sequentialminus": [
            [
             0,
             "#0d0887"
            ],
            [
             0.1111111111111111,
             "#46039f"
            ],
            [
             0.2222222222222222,
             "#7201a8"
            ],
            [
             0.3333333333333333,
             "#9c179e"
            ],
            [
             0.4444444444444444,
             "#bd3786"
            ],
            [
             0.5555555555555556,
             "#d8576b"
            ],
            [
             0.6666666666666666,
             "#ed7953"
            ],
            [
             0.7777777777777778,
             "#fb9f3a"
            ],
            [
             0.8888888888888888,
             "#fdca26"
            ],
            [
             1,
             "#f0f921"
            ]
           ]
          },
          "colorway": [
           "#636efa",
           "#EF553B",
           "#00cc96",
           "#ab63fa",
           "#FFA15A",
           "#19d3f3",
           "#FF6692",
           "#B6E880",
           "#FF97FF",
           "#FECB52"
          ],
          "font": {
           "color": "#2a3f5f"
          },
          "geo": {
           "bgcolor": "white",
           "lakecolor": "white",
           "landcolor": "#E5ECF6",
           "showlakes": true,
           "showland": true,
           "subunitcolor": "white"
          },
          "hoverlabel": {
           "align": "left"
          },
          "hovermode": "closest",
          "mapbox": {
           "style": "light"
          },
          "paper_bgcolor": "white",
          "plot_bgcolor": "#E5ECF6",
          "polar": {
           "angularaxis": {
            "gridcolor": "white",
            "linecolor": "white",
            "ticks": ""
           },
           "bgcolor": "#E5ECF6",
           "radialaxis": {
            "gridcolor": "white",
            "linecolor": "white",
            "ticks": ""
           }
          },
          "scene": {
           "xaxis": {
            "backgroundcolor": "#E5ECF6",
            "gridcolor": "white",
            "gridwidth": 2,
            "linecolor": "white",
            "showbackground": true,
            "ticks": "",
            "zerolinecolor": "white"
           },
           "yaxis": {
            "backgroundcolor": "#E5ECF6",
            "gridcolor": "white",
            "gridwidth": 2,
            "linecolor": "white",
            "showbackground": true,
            "ticks": "",
            "zerolinecolor": "white"
           },
           "zaxis": {
            "backgroundcolor": "#E5ECF6",
            "gridcolor": "white",
            "gridwidth": 2,
            "linecolor": "white",
            "showbackground": true,
            "ticks": "",
            "zerolinecolor": "white"
           }
          },
          "shapedefaults": {
           "line": {
            "color": "#2a3f5f"
           }
          },
          "ternary": {
           "aaxis": {
            "gridcolor": "white",
            "linecolor": "white",
            "ticks": ""
           },
           "baxis": {
            "gridcolor": "white",
            "linecolor": "white",
            "ticks": ""
           },
           "bgcolor": "#E5ECF6",
           "caxis": {
            "gridcolor": "white",
            "linecolor": "white",
            "ticks": ""
           }
          },
          "title": {
           "x": 0.05
          },
          "xaxis": {
           "automargin": true,
           "gridcolor": "white",
           "linecolor": "white",
           "ticks": "",
           "title": {
            "standoff": 15
           },
           "zerolinecolor": "white",
           "zerolinewidth": 2
          },
          "yaxis": {
           "automargin": true,
           "gridcolor": "white",
           "linecolor": "white",
           "ticks": "",
           "title": {
            "standoff": 15
           },
           "zerolinecolor": "white",
           "zerolinewidth": 2
          }
         }
        },
        "title": {
         "font": {
          "color": "gray",
          "size": 30
         },
         "text": "Соотношение суммы продаж и количества треков"
        },
        "xaxis": {
         "anchor": "y",
         "domain": [
          0,
          1
         ],
         "title": {
          "text": "Количество треков в заказе"
         }
        },
        "yaxis": {
         "anchor": "x",
         "domain": [
          0,
          1
         ],
         "title": {
          "text": "Сумма продажи ($)"
         }
        }
       }
      }
     },
     "metadata": {},
     "output_type": "display_data"
    }
   ],
   "source": [
    "# 4 exercise\n",
    "fig.update_layout(\n",
    "    title={\n",
    "        'text': \"Соотношение суммы продаж и количества треков\",\n",
    "        'font': {\n",
    "            'size': 30,\n",
    "            'color': 'gray'\n",
    "        }\n",
    "    },\n",
    "    plot_bgcolor='rgba(245,245,245,1)',\n",
    "    margin=dict(l=50, r=50, b=50, t=100),\n",
    "    legend=dict(\n",
    "        title='Континент',\n",
    "        orientation=\"h\",\n",
    "        yanchor=\"bottom\",\n",
    "        y=-0.3,\n",
    "        xanchor=\"center\",\n",
    "        x=0.5\n",
    "    )\n",
    ")\n",
    "\n",
    "fig.update_traces(marker=dict(size=8, opacity=0.7))"
   ]
  },
  {
   "cell_type": "code",
   "execution_count": 11,
   "metadata": {},
   "outputs": [
    {
     "data": {
      "application/vnd.plotly.v1+json": {
       "config": {
        "plotlyServerURL": "https://plot.ly"
       },
       "data": [
        {
         "customdata": [
          [
           "India"
          ],
          [
           "India"
          ],
          [
           "India"
          ],
          [
           "India"
          ],
          [
           "India"
          ],
          [
           "India"
          ],
          [
           "India"
          ],
          [
           "India"
          ],
          [
           "India"
          ],
          [
           "India"
          ],
          [
           "India"
          ],
          [
           "India"
          ],
          [
           "India"
          ]
         ],
         "hovertemplate": "Континент=Asia<br>Количество треков в заказе=%{x}<br>Сумма продажи ($)=%{y}<br>country=%{customdata[0]}<extra></extra>",
         "legendgroup": "Asia",
         "marker": {
          "color": "yellow",
          "opacity": 0.7,
          "size": 8,
          "symbol": "circle"
         },
         "mode": "markers",
         "name": "Asia",
         "orientation": "v",
         "showlegend": true,
         "type": "scatter",
         "x": {
          "bdata": "AgIJDgEEAQ4GCQYCBA==",
          "dtype": "i1"
         },
         "xaxis": "x",
         "y": {
          "bdata": "rkfhehSu/z+uR+F6FK7/P1K4HoXr0SFAuB6F61G4K0DXo3A9Ctf/P65H4XoUrg9A16NwPQrX/z+4HoXrUbgrQMP1KFyPwhdAUrgehevRIUDD9Shcj8IXQK5H4XoUrv8/rkfhehSuD0A=",
          "dtype": "f8"
         },
         "yaxis": "y"
        },
        {
         "customdata": [
          [
           "Germany"
          ],
          [
           "Germany"
          ],
          [
           "Germany"
          ],
          [
           "France"
          ],
          [
           "Germany"
          ],
          [
           "Germany"
          ],
          [
           "Germany"
          ],
          [
           "France"
          ],
          [
           "France"
          ],
          [
           "France"
          ],
          [
           "Germany"
          ],
          [
           "Germany"
          ],
          [
           "France"
          ],
          [
           "Germany"
          ],
          [
           "France"
          ],
          [
           "France"
          ],
          [
           "Germany"
          ],
          [
           "Germany"
          ],
          [
           "Germany"
          ],
          [
           "France"
          ],
          [
           "France"
          ],
          [
           "France"
          ],
          [
           "France"
          ],
          [
           "Germany"
          ],
          [
           "Germany"
          ],
          [
           "Germany"
          ],
          [
           "France"
          ],
          [
           "France"
          ],
          [
           "France"
          ],
          [
           "France"
          ],
          [
           "France"
          ],
          [
           "Germany"
          ],
          [
           "Germany"
          ],
          [
           "France"
          ],
          [
           "France"
          ],
          [
           "France"
          ],
          [
           "France"
          ],
          [
           "Germany"
          ],
          [
           "France"
          ],
          [
           "France"
          ],
          [
           "Germany"
          ],
          [
           "France"
          ],
          [
           "France"
          ],
          [
           "Germany"
          ],
          [
           "France"
          ],
          [
           "France"
          ],
          [
           "France"
          ],
          [
           "Germany"
          ],
          [
           "Germany"
          ],
          [
           "France"
          ],
          [
           "Germany"
          ],
          [
           "France"
          ],
          [
           "France"
          ],
          [
           "Germany"
          ],
          [
           "Germany"
          ],
          [
           "Germany"
          ],
          [
           "France"
          ],
          [
           "France"
          ],
          [
           "Germany"
          ],
          [
           "France"
          ],
          [
           "Germany"
          ],
          [
           "France"
          ],
          [
           "France"
          ]
         ],
         "hovertemplate": "Континент=Europe<br>Количество треков в заказе=%{x}<br>Сумма продажи ($)=%{y}<br>country=%{customdata[0]}<extra></extra>",
         "legendgroup": "Europe",
         "marker": {
          "color": "blue",
          "opacity": 0.7,
          "size": 8,
          "symbol": "circle"
         },
         "mode": "markers",
         "name": "Europe",
         "orientation": "v",
         "showlegend": true,
         "type": "scatter",
         "x": {
          "bdata": "BA4GDg4CCQQOAgECAQECBAEEBgYJBAICCQICBgICBgYCAgkCAgIBBAkCCQQEAQkCDgEJDgEGAgQOBg4GAQ4J",
          "dtype": "i1"
         },
         "xaxis": "x",
         "y": {
          "bdata": "rkfhehSuD0C4HoXrUbgrQMP1KFyPwhdAuB6F61G4K0C4HoXrUbgrQK5H4XoUrv8/UrgehevRIUCuR+F6FK4PQLgehetRuCtA16NwPQrXD0CuR+F6FK7vP65H4XoUrv8/rkfhehSu7z+uR+F6FK7vP65H4XoUrv8/rkfhehSuD0CuR+F6FK7vP65H4XoUrg9Aw/UoXI/CF0DD9Shcj8IXQFK4HoXr0SFArkfhehSuD0CuR+F6FK7/P65H4XoUrv8/UrgehevRLUCuR+F6FK7/P65H4XoUrv8/w/UoXI/CF0DXo3A9CtcHQK5H4XoUrv8/w/UoXI/CF0DD9Shcj8IXQK5H4XoUrv8/rkfhehSu/z9SuB6F69EhQK5H4XoUrv8/rkfhehSu/z+uR+F6FK7/P9ejcD0K1/8/rkfhehSuD0BSuB6F69EhQK5H4XoUrv8/UrgehevRIUCuR+F6FK4PQK5H4XoUrg9ArkfhehSu7z9SuB6F69EhQK5H4XoUrv8/uB6F61G4K0CuR+F6FK7vP1K4HoXr0SFAuB6F61G4K0CuR+F6FK7vP8P1KFyPwhdArkfhehSu/z+uR+F6FK4PQFyPwvUo3DBAw/UoXI/CF0C4HoXrUbgrQMP1KFyPwhdArkfhehSu7z+4HoXrUbgrQFK4HoXr0SFA",
          "dtype": "f8"
         },
         "yaxis": "y"
        },
        {
         "customdata": [
          [
           "USA"
          ],
          [
           "Canada"
          ],
          [
           "Canada"
          ],
          [
           "USA"
          ],
          [
           "USA"
          ],
          [
           "USA"
          ],
          [
           "Canada"
          ],
          [
           "USA"
          ],
          [
           "Canada"
          ],
          [
           "USA"
          ],
          [
           "Canada"
          ],
          [
           "USA"
          ],
          [
           "USA"
          ],
          [
           "Canada"
          ],
          [
           "Canada"
          ],
          [
           "USA"
          ],
          [
           "USA"
          ],
          [
           "USA"
          ],
          [
           "USA"
          ],
          [
           "USA"
          ],
          [
           "USA"
          ],
          [
           "Canada"
          ],
          [
           "USA"
          ],
          [
           "USA"
          ],
          [
           "Canada"
          ],
          [
           "USA"
          ],
          [
           "USA"
          ],
          [
           "Canada"
          ],
          [
           "Canada"
          ],
          [
           "USA"
          ],
          [
           "USA"
          ],
          [
           "USA"
          ],
          [
           "Canada"
          ],
          [
           "USA"
          ],
          [
           "USA"
          ],
          [
           "USA"
          ],
          [
           "USA"
          ],
          [
           "Canada"
          ],
          [
           "USA"
          ],
          [
           "USA"
          ],
          [
           "USA"
          ],
          [
           "USA"
          ],
          [
           "Canada"
          ],
          [
           "Canada"
          ],
          [
           "USA"
          ],
          [
           "Canada"
          ],
          [
           "USA"
          ],
          [
           "Canada"
          ],
          [
           "Canada"
          ],
          [
           "Canada"
          ],
          [
           "USA"
          ],
          [
           "Canada"
          ],
          [
           "USA"
          ],
          [
           "USA"
          ],
          [
           "Canada"
          ],
          [
           "Canada"
          ],
          [
           "Canada"
          ],
          [
           "Canada"
          ],
          [
           "Canada"
          ],
          [
           "Canada"
          ],
          [
           "USA"
          ],
          [
           "Canada"
          ],
          [
           "Canada"
          ],
          [
           "USA"
          ],
          [
           "Canada"
          ],
          [
           "Canada"
          ],
          [
           "USA"
          ],
          [
           "USA"
          ],
          [
           "USA"
          ],
          [
           "Canada"
          ],
          [
           "Canada"
          ],
          [
           "USA"
          ],
          [
           "Canada"
          ],
          [
           "USA"
          ],
          [
           "USA"
          ],
          [
           "USA"
          ],
          [
           "USA"
          ],
          [
           "USA"
          ],
          [
           "USA"
          ],
          [
           "USA"
          ],
          [
           "USA"
          ],
          [
           "USA"
          ],
          [
           "USA"
          ],
          [
           "Canada"
          ],
          [
           "USA"
          ],
          [
           "USA"
          ],
          [
           "USA"
          ],
          [
           "Canada"
          ],
          [
           "USA"
          ],
          [
           "USA"
          ],
          [
           "Canada"
          ],
          [
           "Canada"
          ],
          [
           "Canada"
          ],
          [
           "USA"
          ],
          [
           "Canada"
          ],
          [
           "USA"
          ],
          [
           "Canada"
          ],
          [
           "USA"
          ],
          [
           "USA"
          ],
          [
           "USA"
          ],
          [
           "USA"
          ],
          [
           "USA"
          ],
          [
           "USA"
          ],
          [
           "USA"
          ],
          [
           "Canada"
          ],
          [
           "Canada"
          ],
          [
           "USA"
          ],
          [
           "Canada"
          ],
          [
           "USA"
          ],
          [
           "Canada"
          ],
          [
           "USA"
          ],
          [
           "Canada"
          ],
          [
           "USA"
          ],
          [
           "USA"
          ],
          [
           "USA"
          ],
          [
           "USA"
          ],
          [
           "USA"
          ],
          [
           "Canada"
          ],
          [
           "USA"
          ],
          [
           "Canada"
          ],
          [
           "Canada"
          ],
          [
           "USA"
          ],
          [
           "USA"
          ],
          [
           "USA"
          ],
          [
           "Canada"
          ],
          [
           "Canada"
          ],
          [
           "USA"
          ],
          [
           "Canada"
          ],
          [
           "USA"
          ],
          [
           "USA"
          ],
          [
           "USA"
          ],
          [
           "Canada"
          ],
          [
           "USA"
          ],
          [
           "Canada"
          ],
          [
           "USA"
          ],
          [
           "USA"
          ],
          [
           "USA"
          ],
          [
           "USA"
          ],
          [
           "USA"
          ],
          [
           "USA"
          ],
          [
           "Canada"
          ],
          [
           "USA"
          ],
          [
           "Canada"
          ],
          [
           "USA"
          ],
          [
           "USA"
          ],
          [
           "USA"
          ],
          [
           "Canada"
          ]
         ],
         "hovertemplate": "Континент=North America<br>Количество треков в заказе=%{x}<br>Сумма продажи ($)=%{y}<br>country=%{customdata[0]}<extra></extra>",
         "legendgroup": "North America",
         "marker": {
          "color": "red",
          "opacity": 0.7,
          "size": 8,
          "symbol": "circle"
         },
         "mode": "markers",
         "name": "North America",
         "orientation": "v",
         "showlegend": true,
         "type": "scatter",
         "x": {
          "bdata": "AQIJAgICDgICDgICAg4EBAYOAgECAQICAQkJDgEEAg4EAQ4CCQkOBAQBAgICAgEBAgYOAQ4GBA4OCQ4GDgECAgIBCQ4BBAYCBgEOCQYECQIEBgQEDgIJCQ4BDgIJDgQCBgIGBAQEBgYGCQECAgkBBAYCCQIEAgIOCQEJCQYEAQEBBAICBgIGAgYJCQQGBgICCQYC",
          "dtype": "i1"
         },
         "xaxis": "x",
         "y": {
          "bdata": "rkfhehSu7z+uR+F6FK7/P1K4HoXr0SFArkfhehSu/z+uR+F6FK7/P65H4XoUrv8/uB6F61G4K0CuR+F6FK7/P65H4XoUrv8/XI/C9SjcN0CuR+F6FK7/P9ejcD0K1w9ArkfhehSu/z+4HoXrUbgrQK5H4XoUrg9ArkfhehSuD0DhehSuR+EnQLgehetRuC9ArkfhehSu/z+uR+F6FK7vP65H4XoUrv8/rkfhehSu7z+uR+F6FK7/P65H4XoUrv8/rkfhehSu7z9SuB6F69ElQFK4HoXr0SFAuB6F61G4K0CuR+F6FK7vP65H4XoUrg9ArkfhehSu/z+4HoXrUbgrQK5H4XoUrg9A16NwPQrX/z+4HoXrUbgrQK5H4XoUrv8/UrgehevRIUBSuB6F69EhQFyPwvUo3DJArkfhehSuD0CuR+F6FK4PQK5H4XoUru8/rkfhehSu/z+uR+F6FK7/P65H4XoUrv8/rkfhehSu/z+uR+F6FK7vP65H4XoUru8/rkfhehSu/z/D9Shcj8IXQLgehetRuCtArkfhehSu7z+4HoXrUbgrQMP1KFyPwhdArkfhehSuD0C4HoXrUbgrQLgehetRuCtAUrgehevRIUC4HoXrUbgrQMP1KFyPwhdAuB6F61G4K0CuR+F6FK7vP65H4XoUrv8/rkfhehSu/z+uR+F6FK7/P65H4XoUru8/UrgehevRIUC4HoXrUbgrQK5H4XoUru8/rkfhehSuD0DD9Shcj8IXQK5H4XoUrv8/w/UoXI/CF0CuR+F6FK7vP7gehetRuCtAUrgehevRIUDD9Shcj8IXQK5H4XoUrg9AUrgehevRIUCuR+F6FK7/P65H4XoUrg9Aw/UoXI/CF0CuR+F6FK4PQK5H4XoUrg9AuB6F61G4K0CuR+F6FK7/P1K4HoXr0SFAUrgehevRIUC4HoXrUbgrQK5H4XoUru8/uB6F61G4K0CuR+F6FK7/P1K4HoXr0SFAuB6F61G4K0CuR+F6FK4PQK5H4XoUrv8/w/UoXI/CF0CuR+F6FK7/P8P1KFyPwhdA16NwPQrXH0CuR+F6FK4PQK5H4XoUrg9Aw/UoXI/CF0DD9Shcj8IXQMP1KFyPwhdAUrgehevRIUCuR+F6FK7vP65H4XoUrv8/rkfhehSu/z9SuB6F69EhQK5H4XoUru8/rkfhehSuD0DD9Shcj8IXQK5H4XoUrv8/UrgehevRIUCuR+F6FK7/P65H4XoUrg9ArkfhehSu/z+uR+F6FK7/P7gehetRuCtAUrgehevRI0CuR+F6FK7vP1K4HoXr0SFAUrgehevRIUDD9Shcj8IXQK5H4XoUrg9ArkfhehSu7z+uR+F6FK7vP65H4XoUru8/rkfhehSuD0CuR+F6FK7/P9ejcD0K1w9Aw/UoXI/CF0CuR+F6FK7/P8P1KFyPwhdA16NwPQrXD0DD9Shcj8IXQFK4HoXr0SFAUrgehevRIUCuR+F6FK4PQMP1KFyPwhdAw/UoXI/CF0CuR+F6FK7/P65H4XoUrv8/UrgehevRIUDD9Shcj8IXQK5H4XoUrv8/",
          "dtype": "f8"
         },
         "yaxis": "y"
        }
       ],
       "layout": {
        "height": 600,
        "legend": {
         "orientation": "h",
         "title": {
          "text": "Континент"
         },
         "tracegroupgap": 0,
         "x": 0.5,
         "xanchor": "center",
         "y": -0.3,
         "yanchor": "bottom"
        },
        "margin": {
         "b": 50,
         "l": 50,
         "r": 50,
         "t": 100
        },
        "plot_bgcolor": "rgba(245,245,245,1)",
        "template": {
         "data": {
          "bar": [
           {
            "error_x": {
             "color": "#2a3f5f"
            },
            "error_y": {
             "color": "#2a3f5f"
            },
            "marker": {
             "line": {
              "color": "#E5ECF6",
              "width": 0.5
             },
             "pattern": {
              "fillmode": "overlay",
              "size": 10,
              "solidity": 0.2
             }
            },
            "type": "bar"
           }
          ],
          "barpolar": [
           {
            "marker": {
             "line": {
              "color": "#E5ECF6",
              "width": 0.5
             },
             "pattern": {
              "fillmode": "overlay",
              "size": 10,
              "solidity": 0.2
             }
            },
            "type": "barpolar"
           }
          ],
          "carpet": [
           {
            "aaxis": {
             "endlinecolor": "#2a3f5f",
             "gridcolor": "white",
             "linecolor": "white",
             "minorgridcolor": "white",
             "startlinecolor": "#2a3f5f"
            },
            "baxis": {
             "endlinecolor": "#2a3f5f",
             "gridcolor": "white",
             "linecolor": "white",
             "minorgridcolor": "white",
             "startlinecolor": "#2a3f5f"
            },
            "type": "carpet"
           }
          ],
          "choropleth": [
           {
            "colorbar": {
             "outlinewidth": 0,
             "ticks": ""
            },
            "type": "choropleth"
           }
          ],
          "contour": [
           {
            "colorbar": {
             "outlinewidth": 0,
             "ticks": ""
            },
            "colorscale": [
             [
              0,
              "#0d0887"
             ],
             [
              0.1111111111111111,
              "#46039f"
             ],
             [
              0.2222222222222222,
              "#7201a8"
             ],
             [
              0.3333333333333333,
              "#9c179e"
             ],
             [
              0.4444444444444444,
              "#bd3786"
             ],
             [
              0.5555555555555556,
              "#d8576b"
             ],
             [
              0.6666666666666666,
              "#ed7953"
             ],
             [
              0.7777777777777778,
              "#fb9f3a"
             ],
             [
              0.8888888888888888,
              "#fdca26"
             ],
             [
              1,
              "#f0f921"
             ]
            ],
            "type": "contour"
           }
          ],
          "contourcarpet": [
           {
            "colorbar": {
             "outlinewidth": 0,
             "ticks": ""
            },
            "type": "contourcarpet"
           }
          ],
          "heatmap": [
           {
            "colorbar": {
             "outlinewidth": 0,
             "ticks": ""
            },
            "colorscale": [
             [
              0,
              "#0d0887"
             ],
             [
              0.1111111111111111,
              "#46039f"
             ],
             [
              0.2222222222222222,
              "#7201a8"
             ],
             [
              0.3333333333333333,
              "#9c179e"
             ],
             [
              0.4444444444444444,
              "#bd3786"
             ],
             [
              0.5555555555555556,
              "#d8576b"
             ],
             [
              0.6666666666666666,
              "#ed7953"
             ],
             [
              0.7777777777777778,
              "#fb9f3a"
             ],
             [
              0.8888888888888888,
              "#fdca26"
             ],
             [
              1,
              "#f0f921"
             ]
            ],
            "type": "heatmap"
           }
          ],
          "histogram": [
           {
            "marker": {
             "pattern": {
              "fillmode": "overlay",
              "size": 10,
              "solidity": 0.2
             }
            },
            "type": "histogram"
           }
          ],
          "histogram2d": [
           {
            "colorbar": {
             "outlinewidth": 0,
             "ticks": ""
            },
            "colorscale": [
             [
              0,
              "#0d0887"
             ],
             [
              0.1111111111111111,
              "#46039f"
             ],
             [
              0.2222222222222222,
              "#7201a8"
             ],
             [
              0.3333333333333333,
              "#9c179e"
             ],
             [
              0.4444444444444444,
              "#bd3786"
             ],
             [
              0.5555555555555556,
              "#d8576b"
             ],
             [
              0.6666666666666666,
              "#ed7953"
             ],
             [
              0.7777777777777778,
              "#fb9f3a"
             ],
             [
              0.8888888888888888,
              "#fdca26"
             ],
             [
              1,
              "#f0f921"
             ]
            ],
            "type": "histogram2d"
           }
          ],
          "histogram2dcontour": [
           {
            "colorbar": {
             "outlinewidth": 0,
             "ticks": ""
            },
            "colorscale": [
             [
              0,
              "#0d0887"
             ],
             [
              0.1111111111111111,
              "#46039f"
             ],
             [
              0.2222222222222222,
              "#7201a8"
             ],
             [
              0.3333333333333333,
              "#9c179e"
             ],
             [
              0.4444444444444444,
              "#bd3786"
             ],
             [
              0.5555555555555556,
              "#d8576b"
             ],
             [
              0.6666666666666666,
              "#ed7953"
             ],
             [
              0.7777777777777778,
              "#fb9f3a"
             ],
             [
              0.8888888888888888,
              "#fdca26"
             ],
             [
              1,
              "#f0f921"
             ]
            ],
            "type": "histogram2dcontour"
           }
          ],
          "mesh3d": [
           {
            "colorbar": {
             "outlinewidth": 0,
             "ticks": ""
            },
            "type": "mesh3d"
           }
          ],
          "parcoords": [
           {
            "line": {
             "colorbar": {
              "outlinewidth": 0,
              "ticks": ""
             }
            },
            "type": "parcoords"
           }
          ],
          "pie": [
           {
            "automargin": true,
            "type": "pie"
           }
          ],
          "scatter": [
           {
            "fillpattern": {
             "fillmode": "overlay",
             "size": 10,
             "solidity": 0.2
            },
            "type": "scatter"
           }
          ],
          "scatter3d": [
           {
            "line": {
             "colorbar": {
              "outlinewidth": 0,
              "ticks": ""
             }
            },
            "marker": {
             "colorbar": {
              "outlinewidth": 0,
              "ticks": ""
             }
            },
            "type": "scatter3d"
           }
          ],
          "scattercarpet": [
           {
            "marker": {
             "colorbar": {
              "outlinewidth": 0,
              "ticks": ""
             }
            },
            "type": "scattercarpet"
           }
          ],
          "scattergeo": [
           {
            "marker": {
             "colorbar": {
              "outlinewidth": 0,
              "ticks": ""
             }
            },
            "type": "scattergeo"
           }
          ],
          "scattergl": [
           {
            "marker": {
             "colorbar": {
              "outlinewidth": 0,
              "ticks": ""
             }
            },
            "type": "scattergl"
           }
          ],
          "scattermap": [
           {
            "marker": {
             "colorbar": {
              "outlinewidth": 0,
              "ticks": ""
             }
            },
            "type": "scattermap"
           }
          ],
          "scattermapbox": [
           {
            "marker": {
             "colorbar": {
              "outlinewidth": 0,
              "ticks": ""
             }
            },
            "type": "scattermapbox"
           }
          ],
          "scatterpolar": [
           {
            "marker": {
             "colorbar": {
              "outlinewidth": 0,
              "ticks": ""
             }
            },
            "type": "scatterpolar"
           }
          ],
          "scatterpolargl": [
           {
            "marker": {
             "colorbar": {
              "outlinewidth": 0,
              "ticks": ""
             }
            },
            "type": "scatterpolargl"
           }
          ],
          "scatterternary": [
           {
            "marker": {
             "colorbar": {
              "outlinewidth": 0,
              "ticks": ""
             }
            },
            "type": "scatterternary"
           }
          ],
          "surface": [
           {
            "colorbar": {
             "outlinewidth": 0,
             "ticks": ""
            },
            "colorscale": [
             [
              0,
              "#0d0887"
             ],
             [
              0.1111111111111111,
              "#46039f"
             ],
             [
              0.2222222222222222,
              "#7201a8"
             ],
             [
              0.3333333333333333,
              "#9c179e"
             ],
             [
              0.4444444444444444,
              "#bd3786"
             ],
             [
              0.5555555555555556,
              "#d8576b"
             ],
             [
              0.6666666666666666,
              "#ed7953"
             ],
             [
              0.7777777777777778,
              "#fb9f3a"
             ],
             [
              0.8888888888888888,
              "#fdca26"
             ],
             [
              1,
              "#f0f921"
             ]
            ],
            "type": "surface"
           }
          ],
          "table": [
           {
            "cells": {
             "fill": {
              "color": "#EBF0F8"
             },
             "line": {
              "color": "white"
             }
            },
            "header": {
             "fill": {
              "color": "#C8D4E3"
             },
             "line": {
              "color": "white"
             }
            },
            "type": "table"
           }
          ]
         },
         "layout": {
          "annotationdefaults": {
           "arrowcolor": "#2a3f5f",
           "arrowhead": 0,
           "arrowwidth": 1
          },
          "autotypenumbers": "strict",
          "coloraxis": {
           "colorbar": {
            "outlinewidth": 0,
            "ticks": ""
           }
          },
          "colorscale": {
           "diverging": [
            [
             0,
             "#8e0152"
            ],
            [
             0.1,
             "#c51b7d"
            ],
            [
             0.2,
             "#de77ae"
            ],
            [
             0.3,
             "#f1b6da"
            ],
            [
             0.4,
             "#fde0ef"
            ],
            [
             0.5,
             "#f7f7f7"
            ],
            [
             0.6,
             "#e6f5d0"
            ],
            [
             0.7,
             "#b8e186"
            ],
            [
             0.8,
             "#7fbc41"
            ],
            [
             0.9,
             "#4d9221"
            ],
            [
             1,
             "#276419"
            ]
           ],
           "sequential": [
            [
             0,
             "#0d0887"
            ],
            [
             0.1111111111111111,
             "#46039f"
            ],
            [
             0.2222222222222222,
             "#7201a8"
            ],
            [
             0.3333333333333333,
             "#9c179e"
            ],
            [
             0.4444444444444444,
             "#bd3786"
            ],
            [
             0.5555555555555556,
             "#d8576b"
            ],
            [
             0.6666666666666666,
             "#ed7953"
            ],
            [
             0.7777777777777778,
             "#fb9f3a"
            ],
            [
             0.8888888888888888,
             "#fdca26"
            ],
            [
             1,
             "#f0f921"
            ]
           ],
           "sequentialminus": [
            [
             0,
             "#0d0887"
            ],
            [
             0.1111111111111111,
             "#46039f"
            ],
            [
             0.2222222222222222,
             "#7201a8"
            ],
            [
             0.3333333333333333,
             "#9c179e"
            ],
            [
             0.4444444444444444,
             "#bd3786"
            ],
            [
             0.5555555555555556,
             "#d8576b"
            ],
            [
             0.6666666666666666,
             "#ed7953"
            ],
            [
             0.7777777777777778,
             "#fb9f3a"
            ],
            [
             0.8888888888888888,
             "#fdca26"
            ],
            [
             1,
             "#f0f921"
            ]
           ]
          },
          "colorway": [
           "#636efa",
           "#EF553B",
           "#00cc96",
           "#ab63fa",
           "#FFA15A",
           "#19d3f3",
           "#FF6692",
           "#B6E880",
           "#FF97FF",
           "#FECB52"
          ],
          "font": {
           "color": "#2a3f5f"
          },
          "geo": {
           "bgcolor": "white",
           "lakecolor": "white",
           "landcolor": "#E5ECF6",
           "showlakes": true,
           "showland": true,
           "subunitcolor": "white"
          },
          "hoverlabel": {
           "align": "left"
          },
          "hovermode": "closest",
          "mapbox": {
           "style": "light"
          },
          "paper_bgcolor": "white",
          "plot_bgcolor": "#E5ECF6",
          "polar": {
           "angularaxis": {
            "gridcolor": "white",
            "linecolor": "white",
            "ticks": ""
           },
           "bgcolor": "#E5ECF6",
           "radialaxis": {
            "gridcolor": "white",
            "linecolor": "white",
            "ticks": ""
           }
          },
          "scene": {
           "xaxis": {
            "backgroundcolor": "#E5ECF6",
            "gridcolor": "white",
            "gridwidth": 2,
            "linecolor": "white",
            "showbackground": true,
            "ticks": "",
            "zerolinecolor": "white"
           },
           "yaxis": {
            "backgroundcolor": "#E5ECF6",
            "gridcolor": "white",
            "gridwidth": 2,
            "linecolor": "white",
            "showbackground": true,
            "ticks": "",
            "zerolinecolor": "white"
           },
           "zaxis": {
            "backgroundcolor": "#E5ECF6",
            "gridcolor": "white",
            "gridwidth": 2,
            "linecolor": "white",
            "showbackground": true,
            "ticks": "",
            "zerolinecolor": "white"
           }
          },
          "shapedefaults": {
           "line": {
            "color": "#2a3f5f"
           }
          },
          "ternary": {
           "aaxis": {
            "gridcolor": "white",
            "linecolor": "white",
            "ticks": ""
           },
           "baxis": {
            "gridcolor": "white",
            "linecolor": "white",
            "ticks": ""
           },
           "bgcolor": "#E5ECF6",
           "caxis": {
            "gridcolor": "white",
            "linecolor": "white",
            "ticks": ""
           }
          },
          "title": {
           "x": 0.05
          },
          "xaxis": {
           "automargin": true,
           "gridcolor": "white",
           "linecolor": "white",
           "ticks": "",
           "title": {
            "standoff": 15
           },
           "zerolinecolor": "white",
           "zerolinewidth": 2
          },
          "yaxis": {
           "automargin": true,
           "gridcolor": "white",
           "linecolor": "white",
           "ticks": "",
           "title": {
            "standoff": 15
           },
           "zerolinecolor": "white",
           "zerolinewidth": 2
          }
         }
        },
        "title": {
         "font": {
          "color": "gray",
          "size": 30
         },
         "text": "Соотношение суммы продаж и количества треков"
        },
        "xaxis": {
         "anchor": "y",
         "domain": [
          0,
          1
         ],
         "gridcolor": "lightgray",
         "tickfont": {
          "color": "gray",
          "size": 14
         },
         "title": {
          "font": {
           "size": 14
          },
          "text": "Количество треков в заказе"
         }
        },
        "yaxis": {
         "anchor": "x",
         "domain": [
          0,
          1
         ],
         "gridcolor": "lightgray",
         "tickfont": {
          "color": "gray",
          "size": 14
         },
         "title": {
          "font": {
           "size": 14
          },
          "text": "Сумма продажи ($)"
         }
        }
       }
      }
     },
     "metadata": {},
     "output_type": "display_data"
    }
   ],
   "source": [
    "# 5 exercise\n",
    "fig.update_layout(\n",
    "    title={\n",
    "        'text': \"Соотношение суммы продаж и количества треков\",\n",
    "        'font': {\n",
    "            'size': 30,\n",
    "            'color': 'gray'\n",
    "        }\n",
    "    },\n",
    "    plot_bgcolor='rgba(245,245,245,1)',\n",
    "    margin=dict(l=50, r=50, b=50, t=100),\n",
    "    xaxis=dict(\n",
    "        title='Количество треков в заказе',\n",
    "        title_font=dict(size=14),\n",
    "        gridcolor='lightgray',\n",
    "        tickfont=dict(\n",
    "            size=14,\n",
    "            color='gray'\n",
    "        )\n",
    "    ),\n",
    "    yaxis=dict(\n",
    "        title='Сумма продажи ($)',\n",
    "        title_font=dict(size=14),\n",
    "        gridcolor='lightgray',\n",
    "        tickfont=dict(\n",
    "            size=14,\n",
    "            color='gray'\n",
    "        )\n",
    "    ),\n",
    "    legend=dict(\n",
    "        title='Континент',\n",
    "        orientation=\"h\",\n",
    "        yanchor=\"bottom\",\n",
    "        y=-0.3,\n",
    "        xanchor=\"center\",\n",
    "        x=0.5\n",
    "    )\n",
    ")"
   ]
  },
  {
   "cell_type": "code",
   "execution_count": 14,
   "metadata": {},
   "outputs": [
    {
     "name": "stdout",
     "output_type": "stream",
     "text": [
      "            genre_name  tracks_count\n",
      "0                 Rock          1297\n",
      "1                Latin           579\n",
      "2                Metal           374\n",
      "3   Alternative & Punk           332\n",
      "4                 Jazz           130\n",
      "5             TV Shows            93\n",
      "6                Blues            81\n",
      "7            Classical            74\n",
      "8                Drama            64\n",
      "9             R&B/Soul            61\n",
      "10              Reggae            58\n",
      "11                 Pop            48\n",
      "12          Soundtrack            43\n",
      "13         Alternative            40\n",
      "14         Hip Hop/Rap            35\n",
      "15   Electronica/Dance            30\n",
      "16         Heavy Metal            28\n",
      "17               World            28\n",
      "18    Sci Fi & Fantasy            26\n",
      "19      Easy Listening            24\n",
      "20              Comedy            17\n",
      "21          Bossa Nova            15\n",
      "22     Science Fiction            13\n",
      "23       Rock And Roll            12\n",
      "24               Opera             1\n"
     ]
    }
   ],
   "source": [
    "# задача № 2\n",
    "# 1 exercise\n",
    "query = \"\"\"\n",
    "    SELECT \n",
    "        g.name AS genre_name,\n",
    "        COUNT(*) AS tracks_count\n",
    "    FROM track t\n",
    "    JOIN genre g ON t.genre_id = g.genre_id\n",
    "    GROUP BY g.name\n",
    "    ORDER BY tracks_count DESC\n",
    "\"\"\"\n",
    "with set_connection() as conn:\n",
    "    df = pd.read_sql(query, conn)\n",
    "\n",
    "print(df)"
   ]
  },
  {
   "cell_type": "code",
   "execution_count": 15,
   "metadata": {},
   "outputs": [
    {
     "data": {
      "application/vnd.plotly.v1+json": {
       "config": {
        "plotlyServerURL": "https://plot.ly"
       },
       "data": [
        {
         "hovertemplate": "Жанр=%{x}<br>Количество треков=%{text}<extra></extra>",
         "legendgroup": "Rock",
         "marker": {
          "color": "#636efa",
          "pattern": {
           "shape": ""
          }
         },
         "name": "Rock",
         "orientation": "v",
         "showlegend": true,
         "text": {
          "bdata": "AAAAAABElEA=",
          "dtype": "f8"
         },
         "textposition": "auto",
         "type": "bar",
         "x": [
          "Rock"
         ],
         "xaxis": "x",
         "y": {
          "bdata": "EQU=",
          "dtype": "i2"
         },
         "yaxis": "y"
        },
        {
         "hovertemplate": "Жанр=%{x}<br>Количество треков=%{text}<extra></extra>",
         "legendgroup": "Latin",
         "marker": {
          "color": "#EF553B",
          "pattern": {
           "shape": ""
          }
         },
         "name": "Latin",
         "orientation": "v",
         "showlegend": true,
         "text": {
          "bdata": "AAAAAAAYgkA=",
          "dtype": "f8"
         },
         "textposition": "auto",
         "type": "bar",
         "x": [
          "Latin"
         ],
         "xaxis": "x",
         "y": {
          "bdata": "QwI=",
          "dtype": "i2"
         },
         "yaxis": "y"
        },
        {
         "hovertemplate": "Жанр=%{x}<br>Количество треков=%{text}<extra></extra>",
         "legendgroup": "Metal",
         "marker": {
          "color": "#00cc96",
          "pattern": {
           "shape": ""
          }
         },
         "name": "Metal",
         "orientation": "v",
         "showlegend": true,
         "text": {
          "bdata": "AAAAAABgd0A=",
          "dtype": "f8"
         },
         "textposition": "auto",
         "type": "bar",
         "x": [
          "Metal"
         ],
         "xaxis": "x",
         "y": {
          "bdata": "dgE=",
          "dtype": "i2"
         },
         "yaxis": "y"
        },
        {
         "hovertemplate": "Жанр=%{x}<br>Количество треков=%{text}<extra></extra>",
         "legendgroup": "Alternative & Punk",
         "marker": {
          "color": "#ab63fa",
          "pattern": {
           "shape": ""
          }
         },
         "name": "Alternative & Punk",
         "orientation": "v",
         "showlegend": true,
         "text": {
          "bdata": "AAAAAADAdEA=",
          "dtype": "f8"
         },
         "textposition": "auto",
         "type": "bar",
         "x": [
          "Alternative & Punk"
         ],
         "xaxis": "x",
         "y": {
          "bdata": "TAE=",
          "dtype": "i2"
         },
         "yaxis": "y"
        },
        {
         "hovertemplate": "Жанр=%{x}<br>Количество треков=%{text}<extra></extra>",
         "legendgroup": "Jazz",
         "marker": {
          "color": "#FFA15A",
          "pattern": {
           "shape": ""
          }
         },
         "name": "Jazz",
         "orientation": "v",
         "showlegend": true,
         "text": {
          "bdata": "AAAAAABAYEA=",
          "dtype": "f8"
         },
         "textposition": "auto",
         "type": "bar",
         "x": [
          "Jazz"
         ],
         "xaxis": "x",
         "y": {
          "bdata": "ggA=",
          "dtype": "i2"
         },
         "yaxis": "y"
        },
        {
         "hovertemplate": "Жанр=%{x}<br>Количество треков=%{text}<extra></extra>",
         "legendgroup": "TV Shows",
         "marker": {
          "color": "#19d3f3",
          "pattern": {
           "shape": ""
          }
         },
         "name": "TV Shows",
         "orientation": "v",
         "showlegend": true,
         "text": {
          "bdata": "AAAAAABAV0A=",
          "dtype": "f8"
         },
         "textposition": "auto",
         "type": "bar",
         "x": [
          "TV Shows"
         ],
         "xaxis": "x",
         "y": {
          "bdata": "XQ==",
          "dtype": "i1"
         },
         "yaxis": "y"
        },
        {
         "hovertemplate": "Жанр=%{x}<br>Количество треков=%{text}<extra></extra>",
         "legendgroup": "Blues",
         "marker": {
          "color": "#FF6692",
          "pattern": {
           "shape": ""
          }
         },
         "name": "Blues",
         "orientation": "v",
         "showlegend": true,
         "text": {
          "bdata": "AAAAAABAVEA=",
          "dtype": "f8"
         },
         "textposition": "auto",
         "type": "bar",
         "x": [
          "Blues"
         ],
         "xaxis": "x",
         "y": {
          "bdata": "UQ==",
          "dtype": "i1"
         },
         "yaxis": "y"
        },
        {
         "hovertemplate": "Жанр=%{x}<br>Количество треков=%{text}<extra></extra>",
         "legendgroup": "Classical",
         "marker": {
          "color": "#B6E880",
          "pattern": {
           "shape": ""
          }
         },
         "name": "Classical",
         "orientation": "v",
         "showlegend": true,
         "text": {
          "bdata": "AAAAAACAUkA=",
          "dtype": "f8"
         },
         "textposition": "auto",
         "type": "bar",
         "x": [
          "Classical"
         ],
         "xaxis": "x",
         "y": {
          "bdata": "Sg==",
          "dtype": "i1"
         },
         "yaxis": "y"
        },
        {
         "hovertemplate": "Жанр=%{x}<br>Количество треков=%{text}<extra></extra>",
         "legendgroup": "Drama",
         "marker": {
          "color": "#FF97FF",
          "pattern": {
           "shape": ""
          }
         },
         "name": "Drama",
         "orientation": "v",
         "showlegend": true,
         "text": {
          "bdata": "AAAAAAAAUEA=",
          "dtype": "f8"
         },
         "textposition": "auto",
         "type": "bar",
         "x": [
          "Drama"
         ],
         "xaxis": "x",
         "y": {
          "bdata": "QA==",
          "dtype": "i1"
         },
         "yaxis": "y"
        },
        {
         "hovertemplate": "Жанр=%{x}<br>Количество треков=%{text}<extra></extra>",
         "legendgroup": "R&B/Soul",
         "marker": {
          "color": "#FECB52",
          "pattern": {
           "shape": ""
          }
         },
         "name": "R&B/Soul",
         "orientation": "v",
         "showlegend": true,
         "text": {
          "bdata": "AAAAAACATkA=",
          "dtype": "f8"
         },
         "textposition": "auto",
         "type": "bar",
         "x": [
          "R&B/Soul"
         ],
         "xaxis": "x",
         "y": {
          "bdata": "PQ==",
          "dtype": "i1"
         },
         "yaxis": "y"
        },
        {
         "hovertemplate": "Жанр=%{x}<br>Количество треков=%{text}<extra></extra>",
         "legendgroup": "Reggae",
         "marker": {
          "color": "#636efa",
          "pattern": {
           "shape": ""
          }
         },
         "name": "Reggae",
         "orientation": "v",
         "showlegend": true,
         "text": {
          "bdata": "AAAAAAAATUA=",
          "dtype": "f8"
         },
         "textposition": "auto",
         "type": "bar",
         "x": [
          "Reggae"
         ],
         "xaxis": "x",
         "y": {
          "bdata": "Og==",
          "dtype": "i1"
         },
         "yaxis": "y"
        },
        {
         "hovertemplate": "Жанр=%{x}<br>Количество треков=%{text}<extra></extra>",
         "legendgroup": "Pop",
         "marker": {
          "color": "#EF553B",
          "pattern": {
           "shape": ""
          }
         },
         "name": "Pop",
         "orientation": "v",
         "showlegend": true,
         "text": {
          "bdata": "AAAAAAAASEA=",
          "dtype": "f8"
         },
         "textposition": "auto",
         "type": "bar",
         "x": [
          "Pop"
         ],
         "xaxis": "x",
         "y": {
          "bdata": "MA==",
          "dtype": "i1"
         },
         "yaxis": "y"
        },
        {
         "hovertemplate": "Жанр=%{x}<br>Количество треков=%{text}<extra></extra>",
         "legendgroup": "Soundtrack",
         "marker": {
          "color": "#00cc96",
          "pattern": {
           "shape": ""
          }
         },
         "name": "Soundtrack",
         "orientation": "v",
         "showlegend": true,
         "text": {
          "bdata": "AAAAAACARUA=",
          "dtype": "f8"
         },
         "textposition": "auto",
         "type": "bar",
         "x": [
          "Soundtrack"
         ],
         "xaxis": "x",
         "y": {
          "bdata": "Kw==",
          "dtype": "i1"
         },
         "yaxis": "y"
        },
        {
         "hovertemplate": "Жанр=%{x}<br>Количество треков=%{text}<extra></extra>",
         "legendgroup": "Alternative",
         "marker": {
          "color": "#ab63fa",
          "pattern": {
           "shape": ""
          }
         },
         "name": "Alternative",
         "orientation": "v",
         "showlegend": true,
         "text": {
          "bdata": "AAAAAAAAREA=",
          "dtype": "f8"
         },
         "textposition": "auto",
         "type": "bar",
         "x": [
          "Alternative"
         ],
         "xaxis": "x",
         "y": {
          "bdata": "KA==",
          "dtype": "i1"
         },
         "yaxis": "y"
        },
        {
         "hovertemplate": "Жанр=%{x}<br>Количество треков=%{text}<extra></extra>",
         "legendgroup": "Hip Hop/Rap",
         "marker": {
          "color": "#FFA15A",
          "pattern": {
           "shape": ""
          }
         },
         "name": "Hip Hop/Rap",
         "orientation": "v",
         "showlegend": true,
         "text": {
          "bdata": "AAAAAACAQUA=",
          "dtype": "f8"
         },
         "textposition": "auto",
         "type": "bar",
         "x": [
          "Hip Hop/Rap"
         ],
         "xaxis": "x",
         "y": {
          "bdata": "Iw==",
          "dtype": "i1"
         },
         "yaxis": "y"
        },
        {
         "hovertemplate": "Жанр=%{x}<br>Количество треков=%{text}<extra></extra>",
         "legendgroup": "Electronica/Dance",
         "marker": {
          "color": "#19d3f3",
          "pattern": {
           "shape": ""
          }
         },
         "name": "Electronica/Dance",
         "orientation": "v",
         "showlegend": true,
         "text": {
          "bdata": "AAAAAAAAPkA=",
          "dtype": "f8"
         },
         "textposition": "auto",
         "type": "bar",
         "x": [
          "Electronica/Dance"
         ],
         "xaxis": "x",
         "y": {
          "bdata": "Hg==",
          "dtype": "i1"
         },
         "yaxis": "y"
        },
        {
         "hovertemplate": "Жанр=%{x}<br>Количество треков=%{text}<extra></extra>",
         "legendgroup": "Heavy Metal",
         "marker": {
          "color": "#FF6692",
          "pattern": {
           "shape": ""
          }
         },
         "name": "Heavy Metal",
         "orientation": "v",
         "showlegend": true,
         "text": {
          "bdata": "AAAAAAAAPEA=",
          "dtype": "f8"
         },
         "textposition": "auto",
         "type": "bar",
         "x": [
          "Heavy Metal"
         ],
         "xaxis": "x",
         "y": {
          "bdata": "HA==",
          "dtype": "i1"
         },
         "yaxis": "y"
        },
        {
         "hovertemplate": "Жанр=%{x}<br>Количество треков=%{text}<extra></extra>",
         "legendgroup": "World",
         "marker": {
          "color": "#B6E880",
          "pattern": {
           "shape": ""
          }
         },
         "name": "World",
         "orientation": "v",
         "showlegend": true,
         "text": {
          "bdata": "AAAAAAAAPEA=",
          "dtype": "f8"
         },
         "textposition": "auto",
         "type": "bar",
         "x": [
          "World"
         ],
         "xaxis": "x",
         "y": {
          "bdata": "HA==",
          "dtype": "i1"
         },
         "yaxis": "y"
        },
        {
         "hovertemplate": "Жанр=%{x}<br>Количество треков=%{text}<extra></extra>",
         "legendgroup": "Sci Fi & Fantasy",
         "marker": {
          "color": "#FF97FF",
          "pattern": {
           "shape": ""
          }
         },
         "name": "Sci Fi & Fantasy",
         "orientation": "v",
         "showlegend": true,
         "text": {
          "bdata": "AAAAAAAAOkA=",
          "dtype": "f8"
         },
         "textposition": "auto",
         "type": "bar",
         "x": [
          "Sci Fi & Fantasy"
         ],
         "xaxis": "x",
         "y": {
          "bdata": "Gg==",
          "dtype": "i1"
         },
         "yaxis": "y"
        },
        {
         "hovertemplate": "Жанр=%{x}<br>Количество треков=%{text}<extra></extra>",
         "legendgroup": "Easy Listening",
         "marker": {
          "color": "#FECB52",
          "pattern": {
           "shape": ""
          }
         },
         "name": "Easy Listening",
         "orientation": "v",
         "showlegend": true,
         "text": {
          "bdata": "AAAAAAAAOEA=",
          "dtype": "f8"
         },
         "textposition": "auto",
         "type": "bar",
         "x": [
          "Easy Listening"
         ],
         "xaxis": "x",
         "y": {
          "bdata": "GA==",
          "dtype": "i1"
         },
         "yaxis": "y"
        },
        {
         "hovertemplate": "Жанр=%{x}<br>Количество треков=%{text}<extra></extra>",
         "legendgroup": "Comedy",
         "marker": {
          "color": "#636efa",
          "pattern": {
           "shape": ""
          }
         },
         "name": "Comedy",
         "orientation": "v",
         "showlegend": true,
         "text": {
          "bdata": "AAAAAAAAMUA=",
          "dtype": "f8"
         },
         "textposition": "auto",
         "type": "bar",
         "x": [
          "Comedy"
         ],
         "xaxis": "x",
         "y": {
          "bdata": "EQ==",
          "dtype": "i1"
         },
         "yaxis": "y"
        },
        {
         "hovertemplate": "Жанр=%{x}<br>Количество треков=%{text}<extra></extra>",
         "legendgroup": "Bossa Nova",
         "marker": {
          "color": "#EF553B",
          "pattern": {
           "shape": ""
          }
         },
         "name": "Bossa Nova",
         "orientation": "v",
         "showlegend": true,
         "text": {
          "bdata": "AAAAAAAALkA=",
          "dtype": "f8"
         },
         "textposition": "auto",
         "type": "bar",
         "x": [
          "Bossa Nova"
         ],
         "xaxis": "x",
         "y": {
          "bdata": "Dw==",
          "dtype": "i1"
         },
         "yaxis": "y"
        },
        {
         "hovertemplate": "Жанр=%{x}<br>Количество треков=%{text}<extra></extra>",
         "legendgroup": "Science Fiction",
         "marker": {
          "color": "#00cc96",
          "pattern": {
           "shape": ""
          }
         },
         "name": "Science Fiction",
         "orientation": "v",
         "showlegend": true,
         "text": {
          "bdata": "AAAAAAAAKkA=",
          "dtype": "f8"
         },
         "textposition": "auto",
         "type": "bar",
         "x": [
          "Science Fiction"
         ],
         "xaxis": "x",
         "y": {
          "bdata": "DQ==",
          "dtype": "i1"
         },
         "yaxis": "y"
        },
        {
         "hovertemplate": "Жанр=%{x}<br>Количество треков=%{text}<extra></extra>",
         "legendgroup": "Rock And Roll",
         "marker": {
          "color": "#ab63fa",
          "pattern": {
           "shape": ""
          }
         },
         "name": "Rock And Roll",
         "orientation": "v",
         "showlegend": true,
         "text": {
          "bdata": "AAAAAAAAKEA=",
          "dtype": "f8"
         },
         "textposition": "auto",
         "type": "bar",
         "x": [
          "Rock And Roll"
         ],
         "xaxis": "x",
         "y": {
          "bdata": "DA==",
          "dtype": "i1"
         },
         "yaxis": "y"
        },
        {
         "hovertemplate": "Жанр=%{x}<br>Количество треков=%{text}<extra></extra>",
         "legendgroup": "Opera",
         "marker": {
          "color": "#FFA15A",
          "pattern": {
           "shape": ""
          }
         },
         "name": "Opera",
         "orientation": "v",
         "showlegend": true,
         "text": {
          "bdata": "AAAAAAAA8D8=",
          "dtype": "f8"
         },
         "textposition": "auto",
         "type": "bar",
         "x": [
          "Opera"
         ],
         "xaxis": "x",
         "y": {
          "bdata": "AQ==",
          "dtype": "i1"
         },
         "yaxis": "y"
        }
       ],
       "layout": {
        "barmode": "relative",
        "font": {
         "color": "#555555"
        },
        "legend": {
         "title": {
          "text": "Жанр"
         },
         "tracegroupgap": 0
        },
        "plot_bgcolor": "rgba(255,255,255,1)",
        "showlegend": false,
        "template": {
         "data": {
          "bar": [
           {
            "error_x": {
             "color": "#2a3f5f"
            },
            "error_y": {
             "color": "#2a3f5f"
            },
            "marker": {
             "line": {
              "color": "#E5ECF6",
              "width": 0.5
             },
             "pattern": {
              "fillmode": "overlay",
              "size": 10,
              "solidity": 0.2
             }
            },
            "type": "bar"
           }
          ],
          "barpolar": [
           {
            "marker": {
             "line": {
              "color": "#E5ECF6",
              "width": 0.5
             },
             "pattern": {
              "fillmode": "overlay",
              "size": 10,
              "solidity": 0.2
             }
            },
            "type": "barpolar"
           }
          ],
          "carpet": [
           {
            "aaxis": {
             "endlinecolor": "#2a3f5f",
             "gridcolor": "white",
             "linecolor": "white",
             "minorgridcolor": "white",
             "startlinecolor": "#2a3f5f"
            },
            "baxis": {
             "endlinecolor": "#2a3f5f",
             "gridcolor": "white",
             "linecolor": "white",
             "minorgridcolor": "white",
             "startlinecolor": "#2a3f5f"
            },
            "type": "carpet"
           }
          ],
          "choropleth": [
           {
            "colorbar": {
             "outlinewidth": 0,
             "ticks": ""
            },
            "type": "choropleth"
           }
          ],
          "contour": [
           {
            "colorbar": {
             "outlinewidth": 0,
             "ticks": ""
            },
            "colorscale": [
             [
              0,
              "#0d0887"
             ],
             [
              0.1111111111111111,
              "#46039f"
             ],
             [
              0.2222222222222222,
              "#7201a8"
             ],
             [
              0.3333333333333333,
              "#9c179e"
             ],
             [
              0.4444444444444444,
              "#bd3786"
             ],
             [
              0.5555555555555556,
              "#d8576b"
             ],
             [
              0.6666666666666666,
              "#ed7953"
             ],
             [
              0.7777777777777778,
              "#fb9f3a"
             ],
             [
              0.8888888888888888,
              "#fdca26"
             ],
             [
              1,
              "#f0f921"
             ]
            ],
            "type": "contour"
           }
          ],
          "contourcarpet": [
           {
            "colorbar": {
             "outlinewidth": 0,
             "ticks": ""
            },
            "type": "contourcarpet"
           }
          ],
          "heatmap": [
           {
            "colorbar": {
             "outlinewidth": 0,
             "ticks": ""
            },
            "colorscale": [
             [
              0,
              "#0d0887"
             ],
             [
              0.1111111111111111,
              "#46039f"
             ],
             [
              0.2222222222222222,
              "#7201a8"
             ],
             [
              0.3333333333333333,
              "#9c179e"
             ],
             [
              0.4444444444444444,
              "#bd3786"
             ],
             [
              0.5555555555555556,
              "#d8576b"
             ],
             [
              0.6666666666666666,
              "#ed7953"
             ],
             [
              0.7777777777777778,
              "#fb9f3a"
             ],
             [
              0.8888888888888888,
              "#fdca26"
             ],
             [
              1,
              "#f0f921"
             ]
            ],
            "type": "heatmap"
           }
          ],
          "histogram": [
           {
            "marker": {
             "pattern": {
              "fillmode": "overlay",
              "size": 10,
              "solidity": 0.2
             }
            },
            "type": "histogram"
           }
          ],
          "histogram2d": [
           {
            "colorbar": {
             "outlinewidth": 0,
             "ticks": ""
            },
            "colorscale": [
             [
              0,
              "#0d0887"
             ],
             [
              0.1111111111111111,
              "#46039f"
             ],
             [
              0.2222222222222222,
              "#7201a8"
             ],
             [
              0.3333333333333333,
              "#9c179e"
             ],
             [
              0.4444444444444444,
              "#bd3786"
             ],
             [
              0.5555555555555556,
              "#d8576b"
             ],
             [
              0.6666666666666666,
              "#ed7953"
             ],
             [
              0.7777777777777778,
              "#fb9f3a"
             ],
             [
              0.8888888888888888,
              "#fdca26"
             ],
             [
              1,
              "#f0f921"
             ]
            ],
            "type": "histogram2d"
           }
          ],
          "histogram2dcontour": [
           {
            "colorbar": {
             "outlinewidth": 0,
             "ticks": ""
            },
            "colorscale": [
             [
              0,
              "#0d0887"
             ],
             [
              0.1111111111111111,
              "#46039f"
             ],
             [
              0.2222222222222222,
              "#7201a8"
             ],
             [
              0.3333333333333333,
              "#9c179e"
             ],
             [
              0.4444444444444444,
              "#bd3786"
             ],
             [
              0.5555555555555556,
              "#d8576b"
             ],
             [
              0.6666666666666666,
              "#ed7953"
             ],
             [
              0.7777777777777778,
              "#fb9f3a"
             ],
             [
              0.8888888888888888,
              "#fdca26"
             ],
             [
              1,
              "#f0f921"
             ]
            ],
            "type": "histogram2dcontour"
           }
          ],
          "mesh3d": [
           {
            "colorbar": {
             "outlinewidth": 0,
             "ticks": ""
            },
            "type": "mesh3d"
           }
          ],
          "parcoords": [
           {
            "line": {
             "colorbar": {
              "outlinewidth": 0,
              "ticks": ""
             }
            },
            "type": "parcoords"
           }
          ],
          "pie": [
           {
            "automargin": true,
            "type": "pie"
           }
          ],
          "scatter": [
           {
            "fillpattern": {
             "fillmode": "overlay",
             "size": 10,
             "solidity": 0.2
            },
            "type": "scatter"
           }
          ],
          "scatter3d": [
           {
            "line": {
             "colorbar": {
              "outlinewidth": 0,
              "ticks": ""
             }
            },
            "marker": {
             "colorbar": {
              "outlinewidth": 0,
              "ticks": ""
             }
            },
            "type": "scatter3d"
           }
          ],
          "scattercarpet": [
           {
            "marker": {
             "colorbar": {
              "outlinewidth": 0,
              "ticks": ""
             }
            },
            "type": "scattercarpet"
           }
          ],
          "scattergeo": [
           {
            "marker": {
             "colorbar": {
              "outlinewidth": 0,
              "ticks": ""
             }
            },
            "type": "scattergeo"
           }
          ],
          "scattergl": [
           {
            "marker": {
             "colorbar": {
              "outlinewidth": 0,
              "ticks": ""
             }
            },
            "type": "scattergl"
           }
          ],
          "scattermap": [
           {
            "marker": {
             "colorbar": {
              "outlinewidth": 0,
              "ticks": ""
             }
            },
            "type": "scattermap"
           }
          ],
          "scattermapbox": [
           {
            "marker": {
             "colorbar": {
              "outlinewidth": 0,
              "ticks": ""
             }
            },
            "type": "scattermapbox"
           }
          ],
          "scatterpolar": [
           {
            "marker": {
             "colorbar": {
              "outlinewidth": 0,
              "ticks": ""
             }
            },
            "type": "scatterpolar"
           }
          ],
          "scatterpolargl": [
           {
            "marker": {
             "colorbar": {
              "outlinewidth": 0,
              "ticks": ""
             }
            },
            "type": "scatterpolargl"
           }
          ],
          "scatterternary": [
           {
            "marker": {
             "colorbar": {
              "outlinewidth": 0,
              "ticks": ""
             }
            },
            "type": "scatterternary"
           }
          ],
          "surface": [
           {
            "colorbar": {
             "outlinewidth": 0,
             "ticks": ""
            },
            "colorscale": [
             [
              0,
              "#0d0887"
             ],
             [
              0.1111111111111111,
              "#46039f"
             ],
             [
              0.2222222222222222,
              "#7201a8"
             ],
             [
              0.3333333333333333,
              "#9c179e"
             ],
             [
              0.4444444444444444,
              "#bd3786"
             ],
             [
              0.5555555555555556,
              "#d8576b"
             ],
             [
              0.6666666666666666,
              "#ed7953"
             ],
             [
              0.7777777777777778,
              "#fb9f3a"
             ],
             [
              0.8888888888888888,
              "#fdca26"
             ],
             [
              1,
              "#f0f921"
             ]
            ],
            "type": "surface"
           }
          ],
          "table": [
           {
            "cells": {
             "fill": {
              "color": "#EBF0F8"
             },
             "line": {
              "color": "white"
             }
            },
            "header": {
             "fill": {
              "color": "#C8D4E3"
             },
             "line": {
              "color": "white"
             }
            },
            "type": "table"
           }
          ]
         },
         "layout": {
          "annotationdefaults": {
           "arrowcolor": "#2a3f5f",
           "arrowhead": 0,
           "arrowwidth": 1
          },
          "autotypenumbers": "strict",
          "coloraxis": {
           "colorbar": {
            "outlinewidth": 0,
            "ticks": ""
           }
          },
          "colorscale": {
           "diverging": [
            [
             0,
             "#8e0152"
            ],
            [
             0.1,
             "#c51b7d"
            ],
            [
             0.2,
             "#de77ae"
            ],
            [
             0.3,
             "#f1b6da"
            ],
            [
             0.4,
             "#fde0ef"
            ],
            [
             0.5,
             "#f7f7f7"
            ],
            [
             0.6,
             "#e6f5d0"
            ],
            [
             0.7,
             "#b8e186"
            ],
            [
             0.8,
             "#7fbc41"
            ],
            [
             0.9,
             "#4d9221"
            ],
            [
             1,
             "#276419"
            ]
           ],
           "sequential": [
            [
             0,
             "#0d0887"
            ],
            [
             0.1111111111111111,
             "#46039f"
            ],
            [
             0.2222222222222222,
             "#7201a8"
            ],
            [
             0.3333333333333333,
             "#9c179e"
            ],
            [
             0.4444444444444444,
             "#bd3786"
            ],
            [
             0.5555555555555556,
             "#d8576b"
            ],
            [
             0.6666666666666666,
             "#ed7953"
            ],
            [
             0.7777777777777778,
             "#fb9f3a"
            ],
            [
             0.8888888888888888,
             "#fdca26"
            ],
            [
             1,
             "#f0f921"
            ]
           ],
           "sequentialminus": [
            [
             0,
             "#0d0887"
            ],
            [
             0.1111111111111111,
             "#46039f"
            ],
            [
             0.2222222222222222,
             "#7201a8"
            ],
            [
             0.3333333333333333,
             "#9c179e"
            ],
            [
             0.4444444444444444,
             "#bd3786"
            ],
            [
             0.5555555555555556,
             "#d8576b"
            ],
            [
             0.6666666666666666,
             "#ed7953"
            ],
            [
             0.7777777777777778,
             "#fb9f3a"
            ],
            [
             0.8888888888888888,
             "#fdca26"
            ],
            [
             1,
             "#f0f921"
            ]
           ]
          },
          "colorway": [
           "#636efa",
           "#EF553B",
           "#00cc96",
           "#ab63fa",
           "#FFA15A",
           "#19d3f3",
           "#FF6692",
           "#B6E880",
           "#FF97FF",
           "#FECB52"
          ],
          "font": {
           "color": "#2a3f5f"
          },
          "geo": {
           "bgcolor": "white",
           "lakecolor": "white",
           "landcolor": "#E5ECF6",
           "showlakes": true,
           "showland": true,
           "subunitcolor": "white"
          },
          "hoverlabel": {
           "align": "left"
          },
          "hovermode": "closest",
          "mapbox": {
           "style": "light"
          },
          "paper_bgcolor": "white",
          "plot_bgcolor": "#E5ECF6",
          "polar": {
           "angularaxis": {
            "gridcolor": "white",
            "linecolor": "white",
            "ticks": ""
           },
           "bgcolor": "#E5ECF6",
           "radialaxis": {
            "gridcolor": "white",
            "linecolor": "white",
            "ticks": ""
           }
          },
          "scene": {
           "xaxis": {
            "backgroundcolor": "#E5ECF6",
            "gridcolor": "white",
            "gridwidth": 2,
            "linecolor": "white",
            "showbackground": true,
            "ticks": "",
            "zerolinecolor": "white"
           },
           "yaxis": {
            "backgroundcolor": "#E5ECF6",
            "gridcolor": "white",
            "gridwidth": 2,
            "linecolor": "white",
            "showbackground": true,
            "ticks": "",
            "zerolinecolor": "white"
           },
           "zaxis": {
            "backgroundcolor": "#E5ECF6",
            "gridcolor": "white",
            "gridwidth": 2,
            "linecolor": "white",
            "showbackground": true,
            "ticks": "",
            "zerolinecolor": "white"
           }
          },
          "shapedefaults": {
           "line": {
            "color": "#2a3f5f"
           }
          },
          "ternary": {
           "aaxis": {
            "gridcolor": "white",
            "linecolor": "white",
            "ticks": ""
           },
           "baxis": {
            "gridcolor": "white",
            "linecolor": "white",
            "ticks": ""
           },
           "bgcolor": "#E5ECF6",
           "caxis": {
            "gridcolor": "white",
            "linecolor": "white",
            "ticks": ""
           }
          },
          "title": {
           "x": 0.05
          },
          "xaxis": {
           "automargin": true,
           "gridcolor": "white",
           "linecolor": "white",
           "ticks": "",
           "title": {
            "standoff": 15
           },
           "zerolinecolor": "white",
           "zerolinewidth": 2
          },
          "yaxis": {
           "automargin": true,
           "gridcolor": "white",
           "linecolor": "white",
           "ticks": "",
           "title": {
            "standoff": 15
           },
           "zerolinecolor": "white",
           "zerolinewidth": 2
          }
         }
        },
        "title": {
         "text": "Распределение треков по жанрам"
        },
        "xaxis": {
         "anchor": "y",
         "categoryarray": [
          "Rock",
          "Latin",
          "Metal",
          "Alternative & Punk",
          "Jazz",
          "TV Shows",
          "Blues",
          "Classical",
          "Drama",
          "R&B/Soul",
          "Reggae",
          "Pop",
          "Soundtrack",
          "Alternative",
          "Hip Hop/Rap",
          "Electronica/Dance",
          "Heavy Metal",
          "World",
          "Sci Fi & Fantasy",
          "Easy Listening",
          "Comedy",
          "Bossa Nova",
          "Science Fiction",
          "Rock And Roll",
          "Opera"
         ],
         "categoryorder": "array",
         "domain": [
          0,
          1
         ],
         "tickangle": -45,
         "title": {
          "text": "Жанр"
         }
        },
        "yaxis": {
         "anchor": "x",
         "domain": [
          0,
          1
         ],
         "title": {
          "text": "Количество треков"
         }
        }
       }
      }
     },
     "metadata": {},
     "output_type": "display_data"
    }
   ],
   "source": [
    "# 2 ex\n",
    "fig = px.bar(\n",
    "    df,\n",
    "    x='genre_name',\n",
    "    y='tracks_count',\n",
    "    title='Распределение треков по жанрам',\n",
    "    labels={'genre_name': 'Жанр', 'tracks_count': 'Количество треков'},\n",
    "    color='genre_name',\n",
    "    text='tracks_count'\n",
    ")\n",
    "\n",
    "fig.update_layout(\n",
    "    xaxis_tickangle=-45,\n",
    "    plot_bgcolor='rgba(255,255,255,1)',\n",
    "    font=dict(color='#555555'),\n",
    "    showlegend=False\n",
    ")\n",
    "\n",
    "fig.show()"
   ]
  },
  {
   "cell_type": "code",
   "execution_count": null,
   "metadata": {},
   "outputs": [
    {
     "data": {
      "application/vnd.plotly.v1+json": {
       "config": {
        "plotlyServerURL": "https://plot.ly"
       },
       "data": [
        {
         "hovertemplate": "color_group=Rock<br>Жанр=%{x}<br>Количество треков=%{text}<extra></extra>",
         "legendgroup": "Rock",
         "marker": {
          "color": "red",
          "pattern": {
           "shape": ""
          }
         },
         "name": "Rock",
         "orientation": "v",
         "showlegend": true,
         "text": {
          "bdata": "AAAAAABElEA=",
          "dtype": "f8"
         },
         "textposition": "auto",
         "type": "bar",
         "x": [
          "Rock"
         ],
         "xaxis": "x",
         "y": {
          "bdata": "EQU=",
          "dtype": "i2"
         },
         "yaxis": "y"
        },
        {
         "hovertemplate": "color_group=Other<br>Жанр=%{x}<br>Количество треков=%{text}<extra></extra>",
         "legendgroup": "Other",
         "marker": {
          "color": "grey",
          "pattern": {
           "shape": ""
          }
         },
         "name": "Other",
         "orientation": "v",
         "showlegend": true,
         "text": {
          "bdata": "AAAAAAAYgkAAAAAAAGB3QAAAAAAAQFdAAAAAAABAVEAAAAAAAIBSQAAAAAAAAFBAAAAAAACATkAAAAAAAABNQAAAAAAAAEhAAAAAAACARUAAAAAAAABEQAAAAAAAgEFAAAAAAAAAPkAAAAAAAAA8QAAAAAAAADxAAAAAAAAAOkAAAAAAAAA4QAAAAAAAADFAAAAAAAAALkAAAAAAAAAqQAAAAAAAAChAAAAAAAAA8D8=",
          "dtype": "f8"
         },
         "textposition": "auto",
         "type": "bar",
         "x": [
          "Latin",
          "Metal",
          "TV Shows",
          "Blues",
          "Classical",
          "Drama",
          "R&B/Soul",
          "Reggae",
          "Pop",
          "Soundtrack",
          "Alternative",
          "Hip Hop/Rap",
          "Electronica/Dance",
          "Heavy Metal",
          "World",
          "Sci Fi & Fantasy",
          "Easy Listening",
          "Comedy",
          "Bossa Nova",
          "Science Fiction",
          "Rock And Roll",
          "Opera"
         ],
         "xaxis": "x",
         "y": {
          "bdata": "QwJ2AV0AUQBKAEAAPQA6ADAAKwAoACMAHgAcABwAGgAYABEADwANAAwAAQA=",
          "dtype": "i2"
         },
         "yaxis": "y"
        },
        {
         "hovertemplate": "color_group=Alternative & Punk<br>Жанр=%{x}<br>Количество треков=%{text}<extra></extra>",
         "legendgroup": "Alternative & Punk",
         "marker": {
          "color": "yellow",
          "pattern": {
           "shape": ""
          }
         },
         "name": "Alternative & Punk",
         "orientation": "v",
         "showlegend": true,
         "text": {
          "bdata": "AAAAAADAdEA=",
          "dtype": "f8"
         },
         "textposition": "auto",
         "type": "bar",
         "x": [
          "Alternative & Punk"
         ],
         "xaxis": "x",
         "y": {
          "bdata": "TAE=",
          "dtype": "i2"
         },
         "yaxis": "y"
        },
        {
         "hovertemplate": "color_group=Jazz<br>Жанр=%{x}<br>Количество треков=%{text}<extra></extra>",
         "legendgroup": "Jazz",
         "marker": {
          "color": "green",
          "pattern": {
           "shape": ""
          }
         },
         "name": "Jazz",
         "orientation": "v",
         "showlegend": true,
         "text": {
          "bdata": "AAAAAABAYEA=",
          "dtype": "f8"
         },
         "textposition": "auto",
         "type": "bar",
         "x": [
          "Jazz"
         ],
         "xaxis": "x",
         "y": {
          "bdata": "ggA=",
          "dtype": "i2"
         },
         "yaxis": "y"
        }
       ],
       "layout": {
        "barmode": "relative",
        "height": 600,
        "legend": {
         "title": {
          "text": "color_group"
         },
         "tracegroupgap": 0
        },
        "template": {
         "data": {
          "bar": [
           {
            "error_x": {
             "color": "#2a3f5f"
            },
            "error_y": {
             "color": "#2a3f5f"
            },
            "marker": {
             "line": {
              "color": "#E5ECF6",
              "width": 0.5
             },
             "pattern": {
              "fillmode": "overlay",
              "size": 10,
              "solidity": 0.2
             }
            },
            "type": "bar"
           }
          ],
          "barpolar": [
           {
            "marker": {
             "line": {
              "color": "#E5ECF6",
              "width": 0.5
             },
             "pattern": {
              "fillmode": "overlay",
              "size": 10,
              "solidity": 0.2
             }
            },
            "type": "barpolar"
           }
          ],
          "carpet": [
           {
            "aaxis": {
             "endlinecolor": "#2a3f5f",
             "gridcolor": "white",
             "linecolor": "white",
             "minorgridcolor": "white",
             "startlinecolor": "#2a3f5f"
            },
            "baxis": {
             "endlinecolor": "#2a3f5f",
             "gridcolor": "white",
             "linecolor": "white",
             "minorgridcolor": "white",
             "startlinecolor": "#2a3f5f"
            },
            "type": "carpet"
           }
          ],
          "choropleth": [
           {
            "colorbar": {
             "outlinewidth": 0,
             "ticks": ""
            },
            "type": "choropleth"
           }
          ],
          "contour": [
           {
            "colorbar": {
             "outlinewidth": 0,
             "ticks": ""
            },
            "colorscale": [
             [
              0,
              "#0d0887"
             ],
             [
              0.1111111111111111,
              "#46039f"
             ],
             [
              0.2222222222222222,
              "#7201a8"
             ],
             [
              0.3333333333333333,
              "#9c179e"
             ],
             [
              0.4444444444444444,
              "#bd3786"
             ],
             [
              0.5555555555555556,
              "#d8576b"
             ],
             [
              0.6666666666666666,
              "#ed7953"
             ],
             [
              0.7777777777777778,
              "#fb9f3a"
             ],
             [
              0.8888888888888888,
              "#fdca26"
             ],
             [
              1,
              "#f0f921"
             ]
            ],
            "type": "contour"
           }
          ],
          "contourcarpet": [
           {
            "colorbar": {
             "outlinewidth": 0,
             "ticks": ""
            },
            "type": "contourcarpet"
           }
          ],
          "heatmap": [
           {
            "colorbar": {
             "outlinewidth": 0,
             "ticks": ""
            },
            "colorscale": [
             [
              0,
              "#0d0887"
             ],
             [
              0.1111111111111111,
              "#46039f"
             ],
             [
              0.2222222222222222,
              "#7201a8"
             ],
             [
              0.3333333333333333,
              "#9c179e"
             ],
             [
              0.4444444444444444,
              "#bd3786"
             ],
             [
              0.5555555555555556,
              "#d8576b"
             ],
             [
              0.6666666666666666,
              "#ed7953"
             ],
             [
              0.7777777777777778,
              "#fb9f3a"
             ],
             [
              0.8888888888888888,
              "#fdca26"
             ],
             [
              1,
              "#f0f921"
             ]
            ],
            "type": "heatmap"
           }
          ],
          "histogram": [
           {
            "marker": {
             "pattern": {
              "fillmode": "overlay",
              "size": 10,
              "solidity": 0.2
             }
            },
            "type": "histogram"
           }
          ],
          "histogram2d": [
           {
            "colorbar": {
             "outlinewidth": 0,
             "ticks": ""
            },
            "colorscale": [
             [
              0,
              "#0d0887"
             ],
             [
              0.1111111111111111,
              "#46039f"
             ],
             [
              0.2222222222222222,
              "#7201a8"
             ],
             [
              0.3333333333333333,
              "#9c179e"
             ],
             [
              0.4444444444444444,
              "#bd3786"
             ],
             [
              0.5555555555555556,
              "#d8576b"
             ],
             [
              0.6666666666666666,
              "#ed7953"
             ],
             [
              0.7777777777777778,
              "#fb9f3a"
             ],
             [
              0.8888888888888888,
              "#fdca26"
             ],
             [
              1,
              "#f0f921"
             ]
            ],
            "type": "histogram2d"
           }
          ],
          "histogram2dcontour": [
           {
            "colorbar": {
             "outlinewidth": 0,
             "ticks": ""
            },
            "colorscale": [
             [
              0,
              "#0d0887"
             ],
             [
              0.1111111111111111,
              "#46039f"
             ],
             [
              0.2222222222222222,
              "#7201a8"
             ],
             [
              0.3333333333333333,
              "#9c179e"
             ],
             [
              0.4444444444444444,
              "#bd3786"
             ],
             [
              0.5555555555555556,
              "#d8576b"
             ],
             [
              0.6666666666666666,
              "#ed7953"
             ],
             [
              0.7777777777777778,
              "#fb9f3a"
             ],
             [
              0.8888888888888888,
              "#fdca26"
             ],
             [
              1,
              "#f0f921"
             ]
            ],
            "type": "histogram2dcontour"
           }
          ],
          "mesh3d": [
           {
            "colorbar": {
             "outlinewidth": 0,
             "ticks": ""
            },
            "type": "mesh3d"
           }
          ],
          "parcoords": [
           {
            "line": {
             "colorbar": {
              "outlinewidth": 0,
              "ticks": ""
             }
            },
            "type": "parcoords"
           }
          ],
          "pie": [
           {
            "automargin": true,
            "type": "pie"
           }
          ],
          "scatter": [
           {
            "fillpattern": {
             "fillmode": "overlay",
             "size": 10,
             "solidity": 0.2
            },
            "type": "scatter"
           }
          ],
          "scatter3d": [
           {
            "line": {
             "colorbar": {
              "outlinewidth": 0,
              "ticks": ""
             }
            },
            "marker": {
             "colorbar": {
              "outlinewidth": 0,
              "ticks": ""
             }
            },
            "type": "scatter3d"
           }
          ],
          "scattercarpet": [
           {
            "marker": {
             "colorbar": {
              "outlinewidth": 0,
              "ticks": ""
             }
            },
            "type": "scattercarpet"
           }
          ],
          "scattergeo": [
           {
            "marker": {
             "colorbar": {
              "outlinewidth": 0,
              "ticks": ""
             }
            },
            "type": "scattergeo"
           }
          ],
          "scattergl": [
           {
            "marker": {
             "colorbar": {
              "outlinewidth": 0,
              "ticks": ""
             }
            },
            "type": "scattergl"
           }
          ],
          "scattermap": [
           {
            "marker": {
             "colorbar": {
              "outlinewidth": 0,
              "ticks": ""
             }
            },
            "type": "scattermap"
           }
          ],
          "scattermapbox": [
           {
            "marker": {
             "colorbar": {
              "outlinewidth": 0,
              "ticks": ""
             }
            },
            "type": "scattermapbox"
           }
          ],
          "scatterpolar": [
           {
            "marker": {
             "colorbar": {
              "outlinewidth": 0,
              "ticks": ""
             }
            },
            "type": "scatterpolar"
           }
          ],
          "scatterpolargl": [
           {
            "marker": {
             "colorbar": {
              "outlinewidth": 0,
              "ticks": ""
             }
            },
            "type": "scatterpolargl"
           }
          ],
          "scatterternary": [
           {
            "marker": {
             "colorbar": {
              "outlinewidth": 0,
              "ticks": ""
             }
            },
            "type": "scatterternary"
           }
          ],
          "surface": [
           {
            "colorbar": {
             "outlinewidth": 0,
             "ticks": ""
            },
            "colorscale": [
             [
              0,
              "#0d0887"
             ],
             [
              0.1111111111111111,
              "#46039f"
             ],
             [
              0.2222222222222222,
              "#7201a8"
             ],
             [
              0.3333333333333333,
              "#9c179e"
             ],
             [
              0.4444444444444444,
              "#bd3786"
             ],
             [
              0.5555555555555556,
              "#d8576b"
             ],
             [
              0.6666666666666666,
              "#ed7953"
             ],
             [
              0.7777777777777778,
              "#fb9f3a"
             ],
             [
              0.8888888888888888,
              "#fdca26"
             ],
             [
              1,
              "#f0f921"
             ]
            ],
            "type": "surface"
           }
          ],
          "table": [
           {
            "cells": {
             "fill": {
              "color": "#EBF0F8"
             },
             "line": {
              "color": "white"
             }
            },
            "header": {
             "fill": {
              "color": "#C8D4E3"
             },
             "line": {
              "color": "white"
             }
            },
            "type": "table"
           }
          ]
         },
         "layout": {
          "annotationdefaults": {
           "arrowcolor": "#2a3f5f",
           "arrowhead": 0,
           "arrowwidth": 1
          },
          "autotypenumbers": "strict",
          "coloraxis": {
           "colorbar": {
            "outlinewidth": 0,
            "ticks": ""
           }
          },
          "colorscale": {
           "diverging": [
            [
             0,
             "#8e0152"
            ],
            [
             0.1,
             "#c51b7d"
            ],
            [
             0.2,
             "#de77ae"
            ],
            [
             0.3,
             "#f1b6da"
            ],
            [
             0.4,
             "#fde0ef"
            ],
            [
             0.5,
             "#f7f7f7"
            ],
            [
             0.6,
             "#e6f5d0"
            ],
            [
             0.7,
             "#b8e186"
            ],
            [
             0.8,
             "#7fbc41"
            ],
            [
             0.9,
             "#4d9221"
            ],
            [
             1,
             "#276419"
            ]
           ],
           "sequential": [
            [
             0,
             "#0d0887"
            ],
            [
             0.1111111111111111,
             "#46039f"
            ],
            [
             0.2222222222222222,
             "#7201a8"
            ],
            [
             0.3333333333333333,
             "#9c179e"
            ],
            [
             0.4444444444444444,
             "#bd3786"
            ],
            [
             0.5555555555555556,
             "#d8576b"
            ],
            [
             0.6666666666666666,
             "#ed7953"
            ],
            [
             0.7777777777777778,
             "#fb9f3a"
            ],
            [
             0.8888888888888888,
             "#fdca26"
            ],
            [
             1,
             "#f0f921"
            ]
           ],
           "sequentialminus": [
            [
             0,
             "#0d0887"
            ],
            [
             0.1111111111111111,
             "#46039f"
            ],
            [
             0.2222222222222222,
             "#7201a8"
            ],
            [
             0.3333333333333333,
             "#9c179e"
            ],
            [
             0.4444444444444444,
             "#bd3786"
            ],
            [
             0.5555555555555556,
             "#d8576b"
            ],
            [
             0.6666666666666666,
             "#ed7953"
            ],
            [
             0.7777777777777778,
             "#fb9f3a"
            ],
            [
             0.8888888888888888,
             "#fdca26"
            ],
            [
             1,
             "#f0f921"
            ]
           ]
          },
          "colorway": [
           "#636efa",
           "#EF553B",
           "#00cc96",
           "#ab63fa",
           "#FFA15A",
           "#19d3f3",
           "#FF6692",
           "#B6E880",
           "#FF97FF",
           "#FECB52"
          ],
          "font": {
           "color": "#2a3f5f"
          },
          "geo": {
           "bgcolor": "white",
           "lakecolor": "white",
           "landcolor": "#E5ECF6",
           "showlakes": true,
           "showland": true,
           "subunitcolor": "white"
          },
          "hoverlabel": {
           "align": "left"
          },
          "hovermode": "closest",
          "mapbox": {
           "style": "light"
          },
          "paper_bgcolor": "white",
          "plot_bgcolor": "#E5ECF6",
          "polar": {
           "angularaxis": {
            "gridcolor": "white",
            "linecolor": "white",
            "ticks": ""
           },
           "bgcolor": "#E5ECF6",
           "radialaxis": {
            "gridcolor": "white",
            "linecolor": "white",
            "ticks": ""
           }
          },
          "scene": {
           "xaxis": {
            "backgroundcolor": "#E5ECF6",
            "gridcolor": "white",
            "gridwidth": 2,
            "linecolor": "white",
            "showbackground": true,
            "ticks": "",
            "zerolinecolor": "white"
           },
           "yaxis": {
            "backgroundcolor": "#E5ECF6",
            "gridcolor": "white",
            "gridwidth": 2,
            "linecolor": "white",
            "showbackground": true,
            "ticks": "",
            "zerolinecolor": "white"
           },
           "zaxis": {
            "backgroundcolor": "#E5ECF6",
            "gridcolor": "white",
            "gridwidth": 2,
            "linecolor": "white",
            "showbackground": true,
            "ticks": "",
            "zerolinecolor": "white"
           }
          },
          "shapedefaults": {
           "line": {
            "color": "#2a3f5f"
           }
          },
          "ternary": {
           "aaxis": {
            "gridcolor": "white",
            "linecolor": "white",
            "ticks": ""
           },
           "baxis": {
            "gridcolor": "white",
            "linecolor": "white",
            "ticks": ""
           },
           "bgcolor": "#E5ECF6",
           "caxis": {
            "gridcolor": "white",
            "linecolor": "white",
            "ticks": ""
           }
          },
          "title": {
           "x": 0.05
          },
          "xaxis": {
           "automargin": true,
           "gridcolor": "white",
           "linecolor": "white",
           "ticks": "",
           "title": {
            "standoff": 15
           },
           "zerolinecolor": "white",
           "zerolinewidth": 2
          },
          "yaxis": {
           "automargin": true,
           "gridcolor": "white",
           "linecolor": "white",
           "ticks": "",
           "title": {
            "standoff": 15
           },
           "zerolinecolor": "white",
           "zerolinewidth": 2
          }
         }
        },
        "title": {
         "text": "Распределение треков по жанрам"
        },
        "xaxis": {
         "anchor": "y",
         "categoryarray": [
          "Rock",
          "Latin",
          "Metal",
          "Alternative & Punk",
          "Jazz",
          "TV Shows",
          "Blues",
          "Classical",
          "Drama",
          "R&B/Soul",
          "Reggae",
          "Pop",
          "Soundtrack",
          "Alternative",
          "Hip Hop/Rap",
          "Electronica/Dance",
          "Heavy Metal",
          "World",
          "Sci Fi & Fantasy",
          "Easy Listening",
          "Comedy",
          "Bossa Nova",
          "Science Fiction",
          "Rock And Roll",
          "Opera"
         ],
         "categoryorder": "array",
         "domain": [
          0,
          1
         ],
         "title": {
          "text": "Жанр"
         }
        },
        "yaxis": {
         "anchor": "x",
         "domain": [
          0,
          1
         ],
         "title": {
          "text": "Количество треков"
         }
        }
       }
      }
     },
     "metadata": {},
     "output_type": "display_data"
    }
   ],
   "source": [
    "# 3 ex\n",
    "\n",
    "query = \"\"\"\n",
    "    SELECT \n",
    "        g.name AS genre_name,\n",
    "        COUNT(*) AS tracks_count\n",
    "    FROM track t\n",
    "    JOIN genre g ON t.genre_id = g.genre_id\n",
    "    GROUP BY g.name\n",
    "    ORDER BY COUNT(*) DESC\n",
    "\"\"\"\n",
    "\n",
    "with set_connection() as conn:\n",
    "    df = pd.read_sql(query, conn)\n",
    "\n",
    "highlight_genres = ['Rock', 'Jazz', 'Alternative & Punk']\n",
    "df['color_group'] = df['genre_name'].apply(\n",
    "    lambda x: x if x in highlight_genres else 'Other'\n",
    ")\n",
    "\n",
    "color_map = {\n",
    "    'Rock': 'red',\n",
    "    'Jazz': 'green',\n",
    "    'Alternative & Punk': 'yellow',\n",
    "    'Other': 'grey'\n",
    "}\n",
    "fig = px.bar(\n",
    "    df,\n",
    "    x='genre_name',\n",
    "    y='tracks_count',\n",
    "    title='Распределение треков по жанрам',\n",
    "    labels={'genre_name': 'Жанр', 'tracks_count': 'Количество треков'},\n",
    "    color='color_group',\n",
    "    color_discrete_map=color_map,\n",
    "    category_orders={'genre_name': df['genre_name']},\n",
    "    text='tracks_count',\n",
    "    height=600)\n",
    "\n",
    "\n",
    "fig.show()"
   ]
  },
  {
   "cell_type": "code",
   "execution_count": 39,
   "metadata": {},
   "outputs": [
    {
     "data": {
      "application/vnd.plotly.v1+json": {
       "config": {
        "plotlyServerURL": "https://plot.ly"
       },
       "data": [
        {
         "hovertemplate": "color_group=Rock<br>Жанр=%{x}<br>Количество треков=%{text}<extra></extra>",
         "legendgroup": "Rock",
         "marker": {
          "color": "red",
          "pattern": {
           "shape": ""
          }
         },
         "name": "Rock",
         "orientation": "v",
         "showlegend": true,
         "text": {
          "bdata": "AAAAAABElEA=",
          "dtype": "f8"
         },
         "textposition": "auto",
         "type": "bar",
         "x": [
          "Rock"
         ],
         "xaxis": "x",
         "y": {
          "bdata": "EQU=",
          "dtype": "i2"
         },
         "yaxis": "y"
        },
        {
         "hovertemplate": "color_group=Other<br>Жанр=%{x}<br>Количество треков=%{text}<extra></extra>",
         "legendgroup": "Other",
         "marker": {
          "color": "grey",
          "pattern": {
           "shape": ""
          }
         },
         "name": "Other",
         "orientation": "v",
         "showlegend": true,
         "text": {
          "bdata": "AAAAAAAYgkAAAAAAAGB3QAAAAAAAQFdAAAAAAABAVEAAAAAAAIBSQAAAAAAAAFBAAAAAAACATkAAAAAAAABNQAAAAAAAAEhAAAAAAACARUAAAAAAAABEQAAAAAAAgEFAAAAAAAAAPkAAAAAAAAA8QAAAAAAAADxAAAAAAAAAOkAAAAAAAAA4QAAAAAAAADFAAAAAAAAALkAAAAAAAAAqQAAAAAAAAChAAAAAAAAA8D8=",
          "dtype": "f8"
         },
         "textposition": "auto",
         "type": "bar",
         "x": [
          "Latin",
          "Metal",
          "TV Shows",
          "Blues",
          "Classical",
          "Drama",
          "R&B/Soul",
          "Reggae",
          "Pop",
          "Soundtrack",
          "Alternative",
          "Hip Hop/Rap",
          "Electronica/Dance",
          "Heavy Metal",
          "World",
          "Sci Fi & Fantasy",
          "Easy Listening",
          "Comedy",
          "Bossa Nova",
          "Science Fiction",
          "Rock And Roll",
          "Opera"
         ],
         "xaxis": "x",
         "y": {
          "bdata": "QwJ2AV0AUQBKAEAAPQA6ADAAKwAoACMAHgAcABwAGgAYABEADwANAAwAAQA=",
          "dtype": "i2"
         },
         "yaxis": "y"
        },
        {
         "hovertemplate": "color_group=Alternative & Punk<br>Жанр=%{x}<br>Количество треков=%{text}<extra></extra>",
         "legendgroup": "Alternative & Punk",
         "marker": {
          "color": "yellow",
          "pattern": {
           "shape": ""
          }
         },
         "name": "Alternative & Punk",
         "orientation": "v",
         "showlegend": true,
         "text": {
          "bdata": "AAAAAADAdEA=",
          "dtype": "f8"
         },
         "textposition": "auto",
         "type": "bar",
         "x": [
          "Alternative & Punk"
         ],
         "xaxis": "x",
         "y": {
          "bdata": "TAE=",
          "dtype": "i2"
         },
         "yaxis": "y"
        },
        {
         "hovertemplate": "color_group=Jazz<br>Жанр=%{x}<br>Количество треков=%{text}<extra></extra>",
         "legendgroup": "Jazz",
         "marker": {
          "color": "green",
          "pattern": {
           "shape": ""
          }
         },
         "name": "Jazz",
         "orientation": "v",
         "showlegend": true,
         "text": {
          "bdata": "AAAAAABAYEA=",
          "dtype": "f8"
         },
         "textposition": "auto",
         "type": "bar",
         "x": [
          "Jazz"
         ],
         "xaxis": "x",
         "y": {
          "bdata": "ggA=",
          "dtype": "i2"
         },
         "yaxis": "y"
        }
       ],
       "layout": {
        "barmode": "relative",
        "height": 600,
        "legend": {
         "title": {
          "text": "color_group"
         },
         "tracegroupgap": 0
        },
        "template": {
         "data": {
          "bar": [
           {
            "error_x": {
             "color": "#2a3f5f"
            },
            "error_y": {
             "color": "#2a3f5f"
            },
            "marker": {
             "line": {
              "color": "#E5ECF6",
              "width": 0.5
             },
             "pattern": {
              "fillmode": "overlay",
              "size": 10,
              "solidity": 0.2
             }
            },
            "type": "bar"
           }
          ],
          "barpolar": [
           {
            "marker": {
             "line": {
              "color": "#E5ECF6",
              "width": 0.5
             },
             "pattern": {
              "fillmode": "overlay",
              "size": 10,
              "solidity": 0.2
             }
            },
            "type": "barpolar"
           }
          ],
          "carpet": [
           {
            "aaxis": {
             "endlinecolor": "#2a3f5f",
             "gridcolor": "white",
             "linecolor": "white",
             "minorgridcolor": "white",
             "startlinecolor": "#2a3f5f"
            },
            "baxis": {
             "endlinecolor": "#2a3f5f",
             "gridcolor": "white",
             "linecolor": "white",
             "minorgridcolor": "white",
             "startlinecolor": "#2a3f5f"
            },
            "type": "carpet"
           }
          ],
          "choropleth": [
           {
            "colorbar": {
             "outlinewidth": 0,
             "ticks": ""
            },
            "type": "choropleth"
           }
          ],
          "contour": [
           {
            "colorbar": {
             "outlinewidth": 0,
             "ticks": ""
            },
            "colorscale": [
             [
              0,
              "#0d0887"
             ],
             [
              0.1111111111111111,
              "#46039f"
             ],
             [
              0.2222222222222222,
              "#7201a8"
             ],
             [
              0.3333333333333333,
              "#9c179e"
             ],
             [
              0.4444444444444444,
              "#bd3786"
             ],
             [
              0.5555555555555556,
              "#d8576b"
             ],
             [
              0.6666666666666666,
              "#ed7953"
             ],
             [
              0.7777777777777778,
              "#fb9f3a"
             ],
             [
              0.8888888888888888,
              "#fdca26"
             ],
             [
              1,
              "#f0f921"
             ]
            ],
            "type": "contour"
           }
          ],
          "contourcarpet": [
           {
            "colorbar": {
             "outlinewidth": 0,
             "ticks": ""
            },
            "type": "contourcarpet"
           }
          ],
          "heatmap": [
           {
            "colorbar": {
             "outlinewidth": 0,
             "ticks": ""
            },
            "colorscale": [
             [
              0,
              "#0d0887"
             ],
             [
              0.1111111111111111,
              "#46039f"
             ],
             [
              0.2222222222222222,
              "#7201a8"
             ],
             [
              0.3333333333333333,
              "#9c179e"
             ],
             [
              0.4444444444444444,
              "#bd3786"
             ],
             [
              0.5555555555555556,
              "#d8576b"
             ],
             [
              0.6666666666666666,
              "#ed7953"
             ],
             [
              0.7777777777777778,
              "#fb9f3a"
             ],
             [
              0.8888888888888888,
              "#fdca26"
             ],
             [
              1,
              "#f0f921"
             ]
            ],
            "type": "heatmap"
           }
          ],
          "histogram": [
           {
            "marker": {
             "pattern": {
              "fillmode": "overlay",
              "size": 10,
              "solidity": 0.2
             }
            },
            "type": "histogram"
           }
          ],
          "histogram2d": [
           {
            "colorbar": {
             "outlinewidth": 0,
             "ticks": ""
            },
            "colorscale": [
             [
              0,
              "#0d0887"
             ],
             [
              0.1111111111111111,
              "#46039f"
             ],
             [
              0.2222222222222222,
              "#7201a8"
             ],
             [
              0.3333333333333333,
              "#9c179e"
             ],
             [
              0.4444444444444444,
              "#bd3786"
             ],
             [
              0.5555555555555556,
              "#d8576b"
             ],
             [
              0.6666666666666666,
              "#ed7953"
             ],
             [
              0.7777777777777778,
              "#fb9f3a"
             ],
             [
              0.8888888888888888,
              "#fdca26"
             ],
             [
              1,
              "#f0f921"
             ]
            ],
            "type": "histogram2d"
           }
          ],
          "histogram2dcontour": [
           {
            "colorbar": {
             "outlinewidth": 0,
             "ticks": ""
            },
            "colorscale": [
             [
              0,
              "#0d0887"
             ],
             [
              0.1111111111111111,
              "#46039f"
             ],
             [
              0.2222222222222222,
              "#7201a8"
             ],
             [
              0.3333333333333333,
              "#9c179e"
             ],
             [
              0.4444444444444444,
              "#bd3786"
             ],
             [
              0.5555555555555556,
              "#d8576b"
             ],
             [
              0.6666666666666666,
              "#ed7953"
             ],
             [
              0.7777777777777778,
              "#fb9f3a"
             ],
             [
              0.8888888888888888,
              "#fdca26"
             ],
             [
              1,
              "#f0f921"
             ]
            ],
            "type": "histogram2dcontour"
           }
          ],
          "mesh3d": [
           {
            "colorbar": {
             "outlinewidth": 0,
             "ticks": ""
            },
            "type": "mesh3d"
           }
          ],
          "parcoords": [
           {
            "line": {
             "colorbar": {
              "outlinewidth": 0,
              "ticks": ""
             }
            },
            "type": "parcoords"
           }
          ],
          "pie": [
           {
            "automargin": true,
            "type": "pie"
           }
          ],
          "scatter": [
           {
            "fillpattern": {
             "fillmode": "overlay",
             "size": 10,
             "solidity": 0.2
            },
            "type": "scatter"
           }
          ],
          "scatter3d": [
           {
            "line": {
             "colorbar": {
              "outlinewidth": 0,
              "ticks": ""
             }
            },
            "marker": {
             "colorbar": {
              "outlinewidth": 0,
              "ticks": ""
             }
            },
            "type": "scatter3d"
           }
          ],
          "scattercarpet": [
           {
            "marker": {
             "colorbar": {
              "outlinewidth": 0,
              "ticks": ""
             }
            },
            "type": "scattercarpet"
           }
          ],
          "scattergeo": [
           {
            "marker": {
             "colorbar": {
              "outlinewidth": 0,
              "ticks": ""
             }
            },
            "type": "scattergeo"
           }
          ],
          "scattergl": [
           {
            "marker": {
             "colorbar": {
              "outlinewidth": 0,
              "ticks": ""
             }
            },
            "type": "scattergl"
           }
          ],
          "scattermap": [
           {
            "marker": {
             "colorbar": {
              "outlinewidth": 0,
              "ticks": ""
             }
            },
            "type": "scattermap"
           }
          ],
          "scattermapbox": [
           {
            "marker": {
             "colorbar": {
              "outlinewidth": 0,
              "ticks": ""
             }
            },
            "type": "scattermapbox"
           }
          ],
          "scatterpolar": [
           {
            "marker": {
             "colorbar": {
              "outlinewidth": 0,
              "ticks": ""
             }
            },
            "type": "scatterpolar"
           }
          ],
          "scatterpolargl": [
           {
            "marker": {
             "colorbar": {
              "outlinewidth": 0,
              "ticks": ""
             }
            },
            "type": "scatterpolargl"
           }
          ],
          "scatterternary": [
           {
            "marker": {
             "colorbar": {
              "outlinewidth": 0,
              "ticks": ""
             }
            },
            "type": "scatterternary"
           }
          ],
          "surface": [
           {
            "colorbar": {
             "outlinewidth": 0,
             "ticks": ""
            },
            "colorscale": [
             [
              0,
              "#0d0887"
             ],
             [
              0.1111111111111111,
              "#46039f"
             ],
             [
              0.2222222222222222,
              "#7201a8"
             ],
             [
              0.3333333333333333,
              "#9c179e"
             ],
             [
              0.4444444444444444,
              "#bd3786"
             ],
             [
              0.5555555555555556,
              "#d8576b"
             ],
             [
              0.6666666666666666,
              "#ed7953"
             ],
             [
              0.7777777777777778,
              "#fb9f3a"
             ],
             [
              0.8888888888888888,
              "#fdca26"
             ],
             [
              1,
              "#f0f921"
             ]
            ],
            "type": "surface"
           }
          ],
          "table": [
           {
            "cells": {
             "fill": {
              "color": "#EBF0F8"
             },
             "line": {
              "color": "white"
             }
            },
            "header": {
             "fill": {
              "color": "#C8D4E3"
             },
             "line": {
              "color": "white"
             }
            },
            "type": "table"
           }
          ]
         },
         "layout": {
          "annotationdefaults": {
           "arrowcolor": "#2a3f5f",
           "arrowhead": 0,
           "arrowwidth": 1
          },
          "autotypenumbers": "strict",
          "coloraxis": {
           "colorbar": {
            "outlinewidth": 0,
            "ticks": ""
           }
          },
          "colorscale": {
           "diverging": [
            [
             0,
             "#8e0152"
            ],
            [
             0.1,
             "#c51b7d"
            ],
            [
             0.2,
             "#de77ae"
            ],
            [
             0.3,
             "#f1b6da"
            ],
            [
             0.4,
             "#fde0ef"
            ],
            [
             0.5,
             "#f7f7f7"
            ],
            [
             0.6,
             "#e6f5d0"
            ],
            [
             0.7,
             "#b8e186"
            ],
            [
             0.8,
             "#7fbc41"
            ],
            [
             0.9,
             "#4d9221"
            ],
            [
             1,
             "#276419"
            ]
           ],
           "sequential": [
            [
             0,
             "#0d0887"
            ],
            [
             0.1111111111111111,
             "#46039f"
            ],
            [
             0.2222222222222222,
             "#7201a8"
            ],
            [
             0.3333333333333333,
             "#9c179e"
            ],
            [
             0.4444444444444444,
             "#bd3786"
            ],
            [
             0.5555555555555556,
             "#d8576b"
            ],
            [
             0.6666666666666666,
             "#ed7953"
            ],
            [
             0.7777777777777778,
             "#fb9f3a"
            ],
            [
             0.8888888888888888,
             "#fdca26"
            ],
            [
             1,
             "#f0f921"
            ]
           ],
           "sequentialminus": [
            [
             0,
             "#0d0887"
            ],
            [
             0.1111111111111111,
             "#46039f"
            ],
            [
             0.2222222222222222,
             "#7201a8"
            ],
            [
             0.3333333333333333,
             "#9c179e"
            ],
            [
             0.4444444444444444,
             "#bd3786"
            ],
            [
             0.5555555555555556,
             "#d8576b"
            ],
            [
             0.6666666666666666,
             "#ed7953"
            ],
            [
             0.7777777777777778,
             "#fb9f3a"
            ],
            [
             0.8888888888888888,
             "#fdca26"
            ],
            [
             1,
             "#f0f921"
            ]
           ]
          },
          "colorway": [
           "#636efa",
           "#EF553B",
           "#00cc96",
           "#ab63fa",
           "#FFA15A",
           "#19d3f3",
           "#FF6692",
           "#B6E880",
           "#FF97FF",
           "#FECB52"
          ],
          "font": {
           "color": "#2a3f5f"
          },
          "geo": {
           "bgcolor": "white",
           "lakecolor": "white",
           "landcolor": "#E5ECF6",
           "showlakes": true,
           "showland": true,
           "subunitcolor": "white"
          },
          "hoverlabel": {
           "align": "left"
          },
          "hovermode": "closest",
          "mapbox": {
           "style": "light"
          },
          "paper_bgcolor": "white",
          "plot_bgcolor": "#E5ECF6",
          "polar": {
           "angularaxis": {
            "gridcolor": "white",
            "linecolor": "white",
            "ticks": ""
           },
           "bgcolor": "#E5ECF6",
           "radialaxis": {
            "gridcolor": "white",
            "linecolor": "white",
            "ticks": ""
           }
          },
          "scene": {
           "xaxis": {
            "backgroundcolor": "#E5ECF6",
            "gridcolor": "white",
            "gridwidth": 2,
            "linecolor": "white",
            "showbackground": true,
            "ticks": "",
            "zerolinecolor": "white"
           },
           "yaxis": {
            "backgroundcolor": "#E5ECF6",
            "gridcolor": "white",
            "gridwidth": 2,
            "linecolor": "white",
            "showbackground": true,
            "ticks": "",
            "zerolinecolor": "white"
           },
           "zaxis": {
            "backgroundcolor": "#E5ECF6",
            "gridcolor": "white",
            "gridwidth": 2,
            "linecolor": "white",
            "showbackground": true,
            "ticks": "",
            "zerolinecolor": "white"
           }
          },
          "shapedefaults": {
           "line": {
            "color": "#2a3f5f"
           }
          },
          "ternary": {
           "aaxis": {
            "gridcolor": "white",
            "linecolor": "white",
            "ticks": ""
           },
           "baxis": {
            "gridcolor": "white",
            "linecolor": "white",
            "ticks": ""
           },
           "bgcolor": "#E5ECF6",
           "caxis": {
            "gridcolor": "white",
            "linecolor": "white",
            "ticks": ""
           }
          },
          "title": {
           "x": 0.05
          },
          "xaxis": {
           "automargin": true,
           "gridcolor": "white",
           "linecolor": "white",
           "ticks": "",
           "title": {
            "standoff": 15
           },
           "zerolinecolor": "white",
           "zerolinewidth": 2
          },
          "yaxis": {
           "automargin": true,
           "gridcolor": "white",
           "linecolor": "white",
           "ticks": "",
           "title": {
            "standoff": 15
           },
           "zerolinecolor": "white",
           "zerolinewidth": 2
          }
         }
        },
        "title": {
         "font": {
          "color": "#333333",
          "size": 20
         },
         "text": "<i>Распределение треков по жанрам</i>",
         "x": 0.5,
         "xanchor": "center",
         "y": 0.95,
         "yanchor": "top"
        },
        "xaxis": {
         "anchor": "y",
         "categoryarray": [
          "Rock",
          "Latin",
          "Metal",
          "Alternative & Punk",
          "Jazz",
          "TV Shows",
          "Blues",
          "Classical",
          "Drama",
          "R&B/Soul",
          "Reggae",
          "Pop",
          "Soundtrack",
          "Alternative",
          "Hip Hop/Rap",
          "Electronica/Dance",
          "Heavy Metal",
          "World",
          "Sci Fi & Fantasy",
          "Easy Listening",
          "Comedy",
          "Bossa Nova",
          "Science Fiction",
          "Rock And Roll",
          "Opera"
         ],
         "categoryorder": "array",
         "domain": [
          0,
          1
         ],
         "title": {
          "text": "Жанр"
         }
        },
        "yaxis": {
         "anchor": "x",
         "domain": [
          0,
          1
         ],
         "title": {
          "text": "Количество треков"
         }
        }
       }
      }
     },
     "metadata": {},
     "output_type": "display_data"
    }
   ],
   "source": [
    "# 5 ex\n",
    "query = \"\"\"\n",
    "    SELECT \n",
    "        g.name AS genre_name,\n",
    "        COUNT(*) AS tracks_count\n",
    "    FROM track t\n",
    "    JOIN genre g ON t.genre_id = g.genre_id\n",
    "    GROUP BY g.name\n",
    "    ORDER BY COUNT(*) DESC\n",
    "\"\"\"\n",
    "\n",
    "with set_connection() as conn:\n",
    "    df = pd.read_sql(query, conn)\n",
    "\n",
    "highlight_genres = ['Rock', 'Jazz', 'Alternative & Punk']\n",
    "df['color_group'] = df['genre_name'].apply(\n",
    "    lambda x: x if x in highlight_genres else 'Other'\n",
    ")\n",
    "\n",
    "color_map = {\n",
    "    'Rock': 'red',\n",
    "    'Jazz': 'green',\n",
    "    'Alternative & Punk': 'yellow',\n",
    "    'Other': 'grey'\n",
    "}\n",
    "fig = px.bar(\n",
    "    df,\n",
    "    x='genre_name',\n",
    "    y='tracks_count',\n",
    "    title='Распределение треков по жанрам',\n",
    "    labels={'genre_name': 'Жанр', 'tracks_count': 'Количество треков'},\n",
    "    color='color_group',\n",
    "    color_discrete_map=color_map,\n",
    "    category_orders={'genre_name': df['genre_name']},\n",
    "    text='tracks_count',\n",
    "    height=600)\n",
    "\n",
    "fig.update_layout(\n",
    "    title={\n",
    "        'text': '<i>Распределение треков по жанрам</i>',\n",
    "        'y':0.95,\n",
    "        'x':0.5,\n",
    "        'xanchor': 'center',\n",
    "        'yanchor': 'top',\n",
    "        'font': {\n",
    "            'size': 20,\n",
    "            'color': '#333333'\n",
    "        }\n",
    "    })\n",
    "\n",
    "fig.show()"
   ]
  },
  {
   "cell_type": "code",
   "execution_count": 47,
   "metadata": {},
   "outputs": [
    {
     "data": {
      "application/vnd.plotly.v1+json": {
       "config": {
        "plotlyServerURL": "https://plot.ly"
       },
       "data": [
        {
         "hovertemplate": "color_group=Rock<br>Жанр=%{x}<br>Количество треков=%{text}<extra></extra>",
         "legendgroup": "Rock",
         "marker": {
          "color": "red",
          "pattern": {
           "shape": ""
          }
         },
         "name": "Rock",
         "orientation": "v",
         "showlegend": true,
         "text": {
          "bdata": "AAAAAABElEA=",
          "dtype": "f8"
         },
         "textposition": "auto",
         "type": "bar",
         "x": [
          "Rock"
         ],
         "xaxis": "x",
         "y": {
          "bdata": "EQU=",
          "dtype": "i2"
         },
         "yaxis": "y"
        },
        {
         "hovertemplate": "color_group=Other<br>Жанр=%{x}<br>Количество треков=%{text}<extra></extra>",
         "legendgroup": "Other",
         "marker": {
          "color": "grey",
          "pattern": {
           "shape": ""
          }
         },
         "name": "Other",
         "orientation": "v",
         "showlegend": true,
         "text": {
          "bdata": "AAAAAAAYgkAAAAAAAGB3QAAAAAAAQFdAAAAAAABAVEAAAAAAAIBSQAAAAAAAAFBAAAAAAACATkAAAAAAAABNQAAAAAAAAEhAAAAAAACARUAAAAAAAABEQAAAAAAAgEFAAAAAAAAAPkAAAAAAAAA8QAAAAAAAADxAAAAAAAAAOkAAAAAAAAA4QAAAAAAAADFAAAAAAAAALkAAAAAAAAAqQAAAAAAAAChAAAAAAAAA8D8=",
          "dtype": "f8"
         },
         "textposition": "auto",
         "type": "bar",
         "x": [
          "Latin",
          "Metal",
          "TV Shows",
          "Blues",
          "Classical",
          "Drama",
          "R&B/Soul",
          "Reggae",
          "Pop",
          "Soundtrack",
          "Alternative",
          "Hip Hop/Rap",
          "Electronica/Dance",
          "Heavy Metal",
          "World",
          "Sci Fi & Fantasy",
          "Easy Listening",
          "Comedy",
          "Bossa Nova",
          "Science Fiction",
          "Rock And Roll",
          "Opera"
         ],
         "xaxis": "x",
         "y": {
          "bdata": "QwJ2AV0AUQBKAEAAPQA6ADAAKwAoACMAHgAcABwAGgAYABEADwANAAwAAQA=",
          "dtype": "i2"
         },
         "yaxis": "y"
        },
        {
         "hovertemplate": "color_group=Alternative & Punk<br>Жанр=%{x}<br>Количество треков=%{text}<extra></extra>",
         "legendgroup": "Alternative & Punk",
         "marker": {
          "color": "yellow",
          "pattern": {
           "shape": ""
          }
         },
         "name": "Alternative & Punk",
         "orientation": "v",
         "showlegend": true,
         "text": {
          "bdata": "AAAAAADAdEA=",
          "dtype": "f8"
         },
         "textposition": "auto",
         "type": "bar",
         "x": [
          "Alternative & Punk"
         ],
         "xaxis": "x",
         "y": {
          "bdata": "TAE=",
          "dtype": "i2"
         },
         "yaxis": "y"
        },
        {
         "hovertemplate": "color_group=Jazz<br>Жанр=%{x}<br>Количество треков=%{text}<extra></extra>",
         "legendgroup": "Jazz",
         "marker": {
          "color": "green",
          "pattern": {
           "shape": ""
          }
         },
         "name": "Jazz",
         "orientation": "v",
         "showlegend": true,
         "text": {
          "bdata": "AAAAAABAYEA=",
          "dtype": "f8"
         },
         "textposition": "auto",
         "type": "bar",
         "x": [
          "Jazz"
         ],
         "xaxis": "x",
         "y": {
          "bdata": "ggA=",
          "dtype": "i2"
         },
         "yaxis": "y"
        }
       ],
       "layout": {
        "barmode": "relative",
        "font": {
         "color": "black"
        },
        "height": 600,
        "legend": {
         "title": {
          "text": "color_group"
         },
         "tracegroupgap": 0
        },
        "margin": {
         "b": 100,
         "l": 50,
         "r": 50,
         "t": 100
        },
        "paper_bgcolor": "white",
        "plot_bgcolor": "white",
        "template": {
         "data": {
          "bar": [
           {
            "error_x": {
             "color": "#2a3f5f"
            },
            "error_y": {
             "color": "#2a3f5f"
            },
            "marker": {
             "line": {
              "color": "#E5ECF6",
              "width": 0.5
             },
             "pattern": {
              "fillmode": "overlay",
              "size": 10,
              "solidity": 0.2
             }
            },
            "type": "bar"
           }
          ],
          "barpolar": [
           {
            "marker": {
             "line": {
              "color": "#E5ECF6",
              "width": 0.5
             },
             "pattern": {
              "fillmode": "overlay",
              "size": 10,
              "solidity": 0.2
             }
            },
            "type": "barpolar"
           }
          ],
          "carpet": [
           {
            "aaxis": {
             "endlinecolor": "#2a3f5f",
             "gridcolor": "white",
             "linecolor": "white",
             "minorgridcolor": "white",
             "startlinecolor": "#2a3f5f"
            },
            "baxis": {
             "endlinecolor": "#2a3f5f",
             "gridcolor": "white",
             "linecolor": "white",
             "minorgridcolor": "white",
             "startlinecolor": "#2a3f5f"
            },
            "type": "carpet"
           }
          ],
          "choropleth": [
           {
            "colorbar": {
             "outlinewidth": 0,
             "ticks": ""
            },
            "type": "choropleth"
           }
          ],
          "contour": [
           {
            "colorbar": {
             "outlinewidth": 0,
             "ticks": ""
            },
            "colorscale": [
             [
              0,
              "#0d0887"
             ],
             [
              0.1111111111111111,
              "#46039f"
             ],
             [
              0.2222222222222222,
              "#7201a8"
             ],
             [
              0.3333333333333333,
              "#9c179e"
             ],
             [
              0.4444444444444444,
              "#bd3786"
             ],
             [
              0.5555555555555556,
              "#d8576b"
             ],
             [
              0.6666666666666666,
              "#ed7953"
             ],
             [
              0.7777777777777778,
              "#fb9f3a"
             ],
             [
              0.8888888888888888,
              "#fdca26"
             ],
             [
              1,
              "#f0f921"
             ]
            ],
            "type": "contour"
           }
          ],
          "contourcarpet": [
           {
            "colorbar": {
             "outlinewidth": 0,
             "ticks": ""
            },
            "type": "contourcarpet"
           }
          ],
          "heatmap": [
           {
            "colorbar": {
             "outlinewidth": 0,
             "ticks": ""
            },
            "colorscale": [
             [
              0,
              "#0d0887"
             ],
             [
              0.1111111111111111,
              "#46039f"
             ],
             [
              0.2222222222222222,
              "#7201a8"
             ],
             [
              0.3333333333333333,
              "#9c179e"
             ],
             [
              0.4444444444444444,
              "#bd3786"
             ],
             [
              0.5555555555555556,
              "#d8576b"
             ],
             [
              0.6666666666666666,
              "#ed7953"
             ],
             [
              0.7777777777777778,
              "#fb9f3a"
             ],
             [
              0.8888888888888888,
              "#fdca26"
             ],
             [
              1,
              "#f0f921"
             ]
            ],
            "type": "heatmap"
           }
          ],
          "histogram": [
           {
            "marker": {
             "pattern": {
              "fillmode": "overlay",
              "size": 10,
              "solidity": 0.2
             }
            },
            "type": "histogram"
           }
          ],
          "histogram2d": [
           {
            "colorbar": {
             "outlinewidth": 0,
             "ticks": ""
            },
            "colorscale": [
             [
              0,
              "#0d0887"
             ],
             [
              0.1111111111111111,
              "#46039f"
             ],
             [
              0.2222222222222222,
              "#7201a8"
             ],
             [
              0.3333333333333333,
              "#9c179e"
             ],
             [
              0.4444444444444444,
              "#bd3786"
             ],
             [
              0.5555555555555556,
              "#d8576b"
             ],
             [
              0.6666666666666666,
              "#ed7953"
             ],
             [
              0.7777777777777778,
              "#fb9f3a"
             ],
             [
              0.8888888888888888,
              "#fdca26"
             ],
             [
              1,
              "#f0f921"
             ]
            ],
            "type": "histogram2d"
           }
          ],
          "histogram2dcontour": [
           {
            "colorbar": {
             "outlinewidth": 0,
             "ticks": ""
            },
            "colorscale": [
             [
              0,
              "#0d0887"
             ],
             [
              0.1111111111111111,
              "#46039f"
             ],
             [
              0.2222222222222222,
              "#7201a8"
             ],
             [
              0.3333333333333333,
              "#9c179e"
             ],
             [
              0.4444444444444444,
              "#bd3786"
             ],
             [
              0.5555555555555556,
              "#d8576b"
             ],
             [
              0.6666666666666666,
              "#ed7953"
             ],
             [
              0.7777777777777778,
              "#fb9f3a"
             ],
             [
              0.8888888888888888,
              "#fdca26"
             ],
             [
              1,
              "#f0f921"
             ]
            ],
            "type": "histogram2dcontour"
           }
          ],
          "mesh3d": [
           {
            "colorbar": {
             "outlinewidth": 0,
             "ticks": ""
            },
            "type": "mesh3d"
           }
          ],
          "parcoords": [
           {
            "line": {
             "colorbar": {
              "outlinewidth": 0,
              "ticks": ""
             }
            },
            "type": "parcoords"
           }
          ],
          "pie": [
           {
            "automargin": true,
            "type": "pie"
           }
          ],
          "scatter": [
           {
            "fillpattern": {
             "fillmode": "overlay",
             "size": 10,
             "solidity": 0.2
            },
            "type": "scatter"
           }
          ],
          "scatter3d": [
           {
            "line": {
             "colorbar": {
              "outlinewidth": 0,
              "ticks": ""
             }
            },
            "marker": {
             "colorbar": {
              "outlinewidth": 0,
              "ticks": ""
             }
            },
            "type": "scatter3d"
           }
          ],
          "scattercarpet": [
           {
            "marker": {
             "colorbar": {
              "outlinewidth": 0,
              "ticks": ""
             }
            },
            "type": "scattercarpet"
           }
          ],
          "scattergeo": [
           {
            "marker": {
             "colorbar": {
              "outlinewidth": 0,
              "ticks": ""
             }
            },
            "type": "scattergeo"
           }
          ],
          "scattergl": [
           {
            "marker": {
             "colorbar": {
              "outlinewidth": 0,
              "ticks": ""
             }
            },
            "type": "scattergl"
           }
          ],
          "scattermap": [
           {
            "marker": {
             "colorbar": {
              "outlinewidth": 0,
              "ticks": ""
             }
            },
            "type": "scattermap"
           }
          ],
          "scattermapbox": [
           {
            "marker": {
             "colorbar": {
              "outlinewidth": 0,
              "ticks": ""
             }
            },
            "type": "scattermapbox"
           }
          ],
          "scatterpolar": [
           {
            "marker": {
             "colorbar": {
              "outlinewidth": 0,
              "ticks": ""
             }
            },
            "type": "scatterpolar"
           }
          ],
          "scatterpolargl": [
           {
            "marker": {
             "colorbar": {
              "outlinewidth": 0,
              "ticks": ""
             }
            },
            "type": "scatterpolargl"
           }
          ],
          "scatterternary": [
           {
            "marker": {
             "colorbar": {
              "outlinewidth": 0,
              "ticks": ""
             }
            },
            "type": "scatterternary"
           }
          ],
          "surface": [
           {
            "colorbar": {
             "outlinewidth": 0,
             "ticks": ""
            },
            "colorscale": [
             [
              0,
              "#0d0887"
             ],
             [
              0.1111111111111111,
              "#46039f"
             ],
             [
              0.2222222222222222,
              "#7201a8"
             ],
             [
              0.3333333333333333,
              "#9c179e"
             ],
             [
              0.4444444444444444,
              "#bd3786"
             ],
             [
              0.5555555555555556,
              "#d8576b"
             ],
             [
              0.6666666666666666,
              "#ed7953"
             ],
             [
              0.7777777777777778,
              "#fb9f3a"
             ],
             [
              0.8888888888888888,
              "#fdca26"
             ],
             [
              1,
              "#f0f921"
             ]
            ],
            "type": "surface"
           }
          ],
          "table": [
           {
            "cells": {
             "fill": {
              "color": "#EBF0F8"
             },
             "line": {
              "color": "white"
             }
            },
            "header": {
             "fill": {
              "color": "#C8D4E3"
             },
             "line": {
              "color": "white"
             }
            },
            "type": "table"
           }
          ]
         },
         "layout": {
          "annotationdefaults": {
           "arrowcolor": "#2a3f5f",
           "arrowhead": 0,
           "arrowwidth": 1
          },
          "autotypenumbers": "strict",
          "coloraxis": {
           "colorbar": {
            "outlinewidth": 0,
            "ticks": ""
           }
          },
          "colorscale": {
           "diverging": [
            [
             0,
             "#8e0152"
            ],
            [
             0.1,
             "#c51b7d"
            ],
            [
             0.2,
             "#de77ae"
            ],
            [
             0.3,
             "#f1b6da"
            ],
            [
             0.4,
             "#fde0ef"
            ],
            [
             0.5,
             "#f7f7f7"
            ],
            [
             0.6,
             "#e6f5d0"
            ],
            [
             0.7,
             "#b8e186"
            ],
            [
             0.8,
             "#7fbc41"
            ],
            [
             0.9,
             "#4d9221"
            ],
            [
             1,
             "#276419"
            ]
           ],
           "sequential": [
            [
             0,
             "#0d0887"
            ],
            [
             0.1111111111111111,
             "#46039f"
            ],
            [
             0.2222222222222222,
             "#7201a8"
            ],
            [
             0.3333333333333333,
             "#9c179e"
            ],
            [
             0.4444444444444444,
             "#bd3786"
            ],
            [
             0.5555555555555556,
             "#d8576b"
            ],
            [
             0.6666666666666666,
             "#ed7953"
            ],
            [
             0.7777777777777778,
             "#fb9f3a"
            ],
            [
             0.8888888888888888,
             "#fdca26"
            ],
            [
             1,
             "#f0f921"
            ]
           ],
           "sequentialminus": [
            [
             0,
             "#0d0887"
            ],
            [
             0.1111111111111111,
             "#46039f"
            ],
            [
             0.2222222222222222,
             "#7201a8"
            ],
            [
             0.3333333333333333,
             "#9c179e"
            ],
            [
             0.4444444444444444,
             "#bd3786"
            ],
            [
             0.5555555555555556,
             "#d8576b"
            ],
            [
             0.6666666666666666,
             "#ed7953"
            ],
            [
             0.7777777777777778,
             "#fb9f3a"
            ],
            [
             0.8888888888888888,
             "#fdca26"
            ],
            [
             1,
             "#f0f921"
            ]
           ]
          },
          "colorway": [
           "#636efa",
           "#EF553B",
           "#00cc96",
           "#ab63fa",
           "#FFA15A",
           "#19d3f3",
           "#FF6692",
           "#B6E880",
           "#FF97FF",
           "#FECB52"
          ],
          "font": {
           "color": "#2a3f5f"
          },
          "geo": {
           "bgcolor": "white",
           "lakecolor": "white",
           "landcolor": "#E5ECF6",
           "showlakes": true,
           "showland": true,
           "subunitcolor": "white"
          },
          "hoverlabel": {
           "align": "left"
          },
          "hovermode": "closest",
          "mapbox": {
           "style": "light"
          },
          "paper_bgcolor": "white",
          "plot_bgcolor": "#E5ECF6",
          "polar": {
           "angularaxis": {
            "gridcolor": "white",
            "linecolor": "white",
            "ticks": ""
           },
           "bgcolor": "#E5ECF6",
           "radialaxis": {
            "gridcolor": "white",
            "linecolor": "white",
            "ticks": ""
           }
          },
          "scene": {
           "xaxis": {
            "backgroundcolor": "#E5ECF6",
            "gridcolor": "white",
            "gridwidth": 2,
            "linecolor": "white",
            "showbackground": true,
            "ticks": "",
            "zerolinecolor": "white"
           },
           "yaxis": {
            "backgroundcolor": "#E5ECF6",
            "gridcolor": "white",
            "gridwidth": 2,
            "linecolor": "white",
            "showbackground": true,
            "ticks": "",
            "zerolinecolor": "white"
           },
           "zaxis": {
            "backgroundcolor": "#E5ECF6",
            "gridcolor": "white",
            "gridwidth": 2,
            "linecolor": "white",
            "showbackground": true,
            "ticks": "",
            "zerolinecolor": "white"
           }
          },
          "shapedefaults": {
           "line": {
            "color": "#2a3f5f"
           }
          },
          "ternary": {
           "aaxis": {
            "gridcolor": "white",
            "linecolor": "white",
            "ticks": ""
           },
           "baxis": {
            "gridcolor": "white",
            "linecolor": "white",
            "ticks": ""
           },
           "bgcolor": "#E5ECF6",
           "caxis": {
            "gridcolor": "white",
            "linecolor": "white",
            "ticks": ""
           }
          },
          "title": {
           "x": 0.05
          },
          "xaxis": {
           "automargin": true,
           "gridcolor": "white",
           "linecolor": "white",
           "ticks": "",
           "title": {
            "standoff": 15
           },
           "zerolinecolor": "white",
           "zerolinewidth": 2
          },
          "yaxis": {
           "automargin": true,
           "gridcolor": "white",
           "linecolor": "white",
           "ticks": "",
           "title": {
            "standoff": 15
           },
           "zerolinecolor": "white",
           "zerolinewidth": 2
          }
         }
        },
        "title": {
         "font": {
          "color": "red",
          "size": 20
         },
         "text": "<i>Распределение треков по жанрам</i>",
         "x": 0.5,
         "xanchor": "center",
         "y": 0.95,
         "yanchor": "top"
        },
        "xaxis": {
         "anchor": "y",
         "categoryarray": [
          "Rock",
          "Latin",
          "Metal",
          "Alternative & Punk",
          "Jazz",
          "TV Shows",
          "Blues",
          "Classical",
          "Drama",
          "R&B/Soul",
          "Reggae",
          "Pop",
          "Soundtrack",
          "Alternative",
          "Hip Hop/Rap",
          "Electronica/Dance",
          "Heavy Metal",
          "World",
          "Sci Fi & Fantasy",
          "Easy Listening",
          "Comedy",
          "Bossa Nova",
          "Science Fiction",
          "Rock And Roll",
          "Opera"
         ],
         "categoryorder": "array",
         "domain": [
          0,
          1
         ],
         "tickangle": -45,
         "title": {
          "text": "Жанр"
         }
        },
        "yaxis": {
         "anchor": "x",
         "domain": [
          0,
          1
         ],
         "title": {
          "text": "Количество треков"
         }
        }
       }
      }
     },
     "metadata": {},
     "output_type": "display_data"
    }
   ],
   "source": [
    "# 6 ex\n",
    "query = \"\"\"\n",
    "    SELECT \n",
    "        g.name AS genre_name,\n",
    "        COUNT(*) AS tracks_count\n",
    "    FROM track t\n",
    "    JOIN genre g ON t.genre_id = g.genre_id\n",
    "    GROUP BY g.name\n",
    "    ORDER BY COUNT(*) DESC\n",
    "\"\"\"\n",
    "\n",
    "with set_connection() as conn:\n",
    "    df = pd.read_sql(query, conn)\n",
    "\n",
    "highlight_genres = ['Rock', 'Jazz', 'Alternative & Punk']\n",
    "df['color_group'] = df['genre_name'].apply(\n",
    "    lambda x: x if x in highlight_genres else 'Other'\n",
    ")\n",
    "\n",
    "color_map = {\n",
    "    'Rock': 'red',\n",
    "    'Jazz': 'green',\n",
    "    'Alternative & Punk': 'yellow',\n",
    "    'Other': 'grey'\n",
    "}\n",
    "fig = px.bar(\n",
    "    df,\n",
    "    x='genre_name',\n",
    "    y='tracks_count',\n",
    "    title='Распределение треков по жанрам',\n",
    "    labels={'genre_name': 'Жанр', 'tracks_count': 'Количество треков'},\n",
    "    color='color_group',\n",
    "    color_discrete_map=color_map,\n",
    "    category_orders={'genre_name': df['genre_name']},\n",
    "    text='tracks_count',\n",
    "    height=600)\n",
    "\n",
    "fig.update_layout(\n",
    "    title={\n",
    "        'text': '<i>Распределение треков по жанрам</i>',\n",
    "        'y':0.95,\n",
    "        'x':0.5,\n",
    "        'xanchor': 'center',\n",
    "        'yanchor': 'top',\n",
    "        'font': {'size': 20, 'color': 'red'}\n",
    "    },\n",
    "    plot_bgcolor='white',  # Белый фон области диаграммы\n",
    "    paper_bgcolor='white', # Белый фон вокруг диаграммы\n",
    "    xaxis_tickangle=-45,\n",
    "    font=dict(color='black'),\n",
    "    margin=dict(l=50, r=50, b=100, t=100))\n",
    "     \n",
    "fig.show() \n"
   ]
  }
 ],
 "metadata": {
  "kernelspec": {
   "display_name": ".venv",
   "language": "python",
   "name": "python3"
  },
  "language_info": {
   "codemirror_mode": {
    "name": "ipython",
    "version": 3
   },
   "file_extension": ".py",
   "mimetype": "text/x-python",
   "name": "python",
   "nbconvert_exporter": "python",
   "pygments_lexer": "ipython3",
   "version": "3.13.1"
  }
 },
 "nbformat": 4,
 "nbformat_minor": 2
}
