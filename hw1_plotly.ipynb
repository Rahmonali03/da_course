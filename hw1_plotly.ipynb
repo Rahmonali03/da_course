{
 "cells": [
  {
   "cell_type": "markdown",
   "metadata": {},
   "source": [
    "Домашнее задание №1\n",
    " Гадоев Рахмонали \n",
    " 1.На основе данных из таблицы track создайте столбчатую диаграмму, показывающую общую сумму минут (длительность треков) в разбивке по жанрам.\n",
    " 2.На основе данных из таблицы track создайте диаграмму рассеивания, показывающую соотношение минут и мегабайтов.\n",
    " 3.На основе данных из таблицы invoice создайте коробчатую диаграмму, показывающую распределение дохода (поле total) в разбивке по странам.\n",
    " 4.На основе данных из таблицы invoice создайте линейчатую диаграмму, показывающую изменение дохода по месяцам за 2025 год.\n",
    " 5.На основе данных из таблицы invoice, создайте круговую диаграмму, показывающую соотношение продаж в США и в остальном мире. Т.е. ваша круговая диаграмма должна состоять лишь из двух секций: США и остальной мир.\n"
   ]
  },
  {
   "cell_type": "code",
   "execution_count": 59,
   "metadata": {},
   "outputs": [],
   "source": [
    "from connect import set_connection\n",
    "from sqlalchemy import text\n",
    "import pandas as pd\n",
    "import matplotlib as plt\n",
    "import plotly.express as px\n",
    "import statsmodels.api as sm"
   ]
  },
  {
   "cell_type": "code",
   "execution_count": 2,
   "metadata": {},
   "outputs": [],
   "source": [
    "with set_connection() as pg:\n",
    "    pg.execute(text(\"select 1\"))"
   ]
  },
  {
   "cell_type": "code",
   "execution_count": 5,
   "metadata": {},
   "outputs": [],
   "source": [
    "query = text(\"select * from track limit 100\")\n",
    "with set_connection() as conn:\n",
    "    df = pd.read_sql(query, conn)"
   ]
  },
  {
   "cell_type": "markdown",
   "metadata": {},
   "source": [
    "1.На основе данных из таблицы track создайте столбчатую диаграмму, показывающую общую сумму минут (длительность треков) в разбивке по жанрам."
   ]
  },
  {
   "cell_type": "code",
   "execution_count": 30,
   "metadata": {},
   "outputs": [],
   "source": [
    "query = text(\"\"\"\n",
    "    SELECT \n",
    "        g.name AS genre,\n",
    "        ROUND(SUM(t.milliseconds) / 60000) AS total_minutes\n",
    "    FROM track t\n",
    "    JOIN genre g ON t.genre_id = g.genre_id\n",
    "    GROUP BY g.name\n",
    "    ORDER BY total_minutes DESC\n",
    "\"\"\")\n",
    "with set_connection() as conn:\n",
    "    df = pd.read_sql(query, conn)"
   ]
  },
  {
   "cell_type": "code",
   "execution_count": 38,
   "metadata": {},
   "outputs": [],
   "source": [
    "fig = px.bar(\n",
    "    df,\n",
    "    x='genre',\n",
    "    y='total_minutes',\n",
    "    title='Общая длительность треков по жанрам',\n",
    "    labels={'genre': 'Жанр', 'total_minutes': 'Длительность (минуты)'},\n",
    "    color='genre',\n",
    "    text='total_minutes',\n",
    "    height=600)"
   ]
  },
  {
   "cell_type": "code",
   "execution_count": 40,
   "metadata": {},
   "outputs": [
    {
     "data": {
      "application/vnd.plotly.v1+json": {
       "config": {
        "plotlyServerURL": "https://plot.ly"
       },
       "data": [
        {
         "hovertemplate": "Жанр=%{x}<br>Длительность (минуты)=%{text}<extra></extra>",
         "legendgroup": "Rock",
         "marker": {
          "color": "#636efa",
          "pattern": {
           "shape": ""
          }
         },
         "name": "Rock",
         "orientation": "v",
         "showlegend": true,
         "text": {
          "bdata": "AAAAAAD5t0A=",
          "dtype": "f8"
         },
         "textposition": "auto",
         "type": "bar",
         "x": [
          "Rock"
         ],
         "xaxis": "x",
         "y": {
          "bdata": "AAAAAAD5t0A=",
          "dtype": "f8"
         },
         "yaxis": "y"
        },
        {
         "hovertemplate": "Жанр=%{x}<br>Длительность (минуты)=%{text}<extra></extra>",
         "legendgroup": "TV Shows",
         "marker": {
          "color": "#EF553B",
          "pattern": {
           "shape": ""
          }
         },
         "name": "TV Shows",
         "orientation": "v",
         "showlegend": true,
         "text": {
          "bdata": "AAAAAAD4qUA=",
          "dtype": "f8"
         },
         "textposition": "auto",
         "type": "bar",
         "x": [
          "TV Shows"
         ],
         "xaxis": "x",
         "y": {
          "bdata": "AAAAAAD4qUA=",
          "dtype": "f8"
         },
         "yaxis": "y"
        },
        {
         "hovertemplate": "Жанр=%{x}<br>Длительность (минуты)=%{text}<extra></extra>",
         "legendgroup": "Drama",
         "marker": {
          "color": "#00cc96",
          "pattern": {
           "shape": ""
          }
         },
         "name": "Drama",
         "orientation": "v",
         "showlegend": true,
         "text": {
          "bdata": "AAAAAAB0pUA=",
          "dtype": "f8"
         },
         "textposition": "auto",
         "type": "bar",
         "x": [
          "Drama"
         ],
         "xaxis": "x",
         "y": {
          "bdata": "AAAAAAB0pUA=",
          "dtype": "f8"
         },
         "yaxis": "y"
        },
        {
         "hovertemplate": "Жанр=%{x}<br>Длительность (минуты)=%{text}<extra></extra>",
         "legendgroup": "Latin",
         "marker": {
          "color": "#ab63fa",
          "pattern": {
           "shape": ""
          }
         },
         "name": "Latin",
         "orientation": "v",
         "showlegend": true,
         "text": {
          "bdata": "AAAAAACOoUA=",
          "dtype": "f8"
         },
         "textposition": "auto",
         "type": "bar",
         "x": [
          "Latin"
         ],
         "xaxis": "x",
         "y": {
          "bdata": "AAAAAACOoUA=",
          "dtype": "f8"
         },
         "yaxis": "y"
        },
        {
         "hovertemplate": "Жанр=%{x}<br>Длительность (минуты)=%{text}<extra></extra>",
         "legendgroup": "Metal",
         "marker": {
          "color": "#FFA15A",
          "pattern": {
           "shape": ""
          }
         },
         "name": "Metal",
         "orientation": "v",
         "showlegend": true,
         "text": {
          "bdata": "AAAAAAAonkA=",
          "dtype": "f8"
         },
         "textposition": "auto",
         "type": "bar",
         "x": [
          "Metal"
         ],
         "xaxis": "x",
         "y": {
          "bdata": "AAAAAAAonkA=",
          "dtype": "f8"
         },
         "yaxis": "y"
        },
        {
         "hovertemplate": "Жанр=%{x}<br>Длительность (минуты)=%{text}<extra></extra>",
         "legendgroup": "Alternative & Punk",
         "marker": {
          "color": "#19d3f3",
          "pattern": {
           "shape": ""
          }
         },
         "name": "Alternative & Punk",
         "orientation": "v",
         "showlegend": true,
         "text": {
          "bdata": "AAAAAABAlEA=",
          "dtype": "f8"
         },
         "textposition": "auto",
         "type": "bar",
         "x": [
          "Alternative & Punk"
         ],
         "xaxis": "x",
         "y": {
          "bdata": "AAAAAABAlEA=",
          "dtype": "f8"
         },
         "yaxis": "y"
        },
        {
         "hovertemplate": "Жанр=%{x}<br>Длительность (минуты)=%{text}<extra></extra>",
         "legendgroup": "Sci Fi & Fantasy",
         "marker": {
          "color": "#FF6692",
          "pattern": {
           "shape": ""
          }
         },
         "name": "Sci Fi & Fantasy",
         "orientation": "v",
         "showlegend": true,
         "text": {
          "bdata": "AAAAAAC0k0A=",
          "dtype": "f8"
         },
         "textposition": "auto",
         "type": "bar",
         "x": [
          "Sci Fi & Fantasy"
         ],
         "xaxis": "x",
         "y": {
          "bdata": "AAAAAAC0k0A=",
          "dtype": "f8"
         },
         "yaxis": "y"
        },
        {
         "hovertemplate": "Жанр=%{x}<br>Длительность (минуты)=%{text}<extra></extra>",
         "legendgroup": "Jazz",
         "marker": {
          "color": "#B6E880",
          "pattern": {
           "shape": ""
          }
         },
         "name": "Jazz",
         "orientation": "v",
         "showlegend": true,
         "text": {
          "bdata": "AAAAAADAg0A=",
          "dtype": "f8"
         },
         "textposition": "auto",
         "type": "bar",
         "x": [
          "Jazz"
         ],
         "xaxis": "x",
         "y": {
          "bdata": "AAAAAADAg0A=",
          "dtype": "f8"
         },
         "yaxis": "y"
        },
        {
         "hovertemplate": "Жанр=%{x}<br>Длительность (минуты)=%{text}<extra></extra>",
         "legendgroup": "Science Fiction",
         "marker": {
          "color": "#FF97FF",
          "pattern": {
           "shape": ""
          }
         },
         "name": "Science Fiction",
         "orientation": "v",
         "showlegend": true,
         "text": {
          "bdata": "AAAAAADAgUA=",
          "dtype": "f8"
         },
         "textposition": "auto",
         "type": "bar",
         "x": [
          "Science Fiction"
         ],
         "xaxis": "x",
         "y": {
          "bdata": "AAAAAADAgUA=",
          "dtype": "f8"
         },
         "yaxis": "y"
        },
        {
         "hovertemplate": "Жанр=%{x}<br>Длительность (минуты)=%{text}<extra></extra>",
         "legendgroup": "Comedy",
         "marker": {
          "color": "#FECB52",
          "pattern": {
           "shape": ""
          }
         },
         "name": "Comedy",
         "orientation": "v",
         "showlegend": true,
         "text": {
          "bdata": "AAAAAAAQfEA=",
          "dtype": "f8"
         },
         "textposition": "auto",
         "type": "bar",
         "x": [
          "Comedy"
         ],
         "xaxis": "x",
         "y": {
          "bdata": "AAAAAAAQfEA=",
          "dtype": "f8"
         },
         "yaxis": "y"
        },
        {
         "hovertemplate": "Жанр=%{x}<br>Длительность (минуты)=%{text}<extra></extra>",
         "legendgroup": "Blues",
         "marker": {
          "color": "#636efa",
          "pattern": {
           "shape": ""
          }
         },
         "name": "Blues",
         "orientation": "v",
         "showlegend": true,
         "text": {
          "bdata": "AAAAAADAdkA=",
          "dtype": "f8"
         },
         "textposition": "auto",
         "type": "bar",
         "x": [
          "Blues"
         ],
         "xaxis": "x",
         "y": {
          "bdata": "AAAAAADAdkA=",
          "dtype": "f8"
         },
         "yaxis": "y"
        },
        {
         "hovertemplate": "Жанр=%{x}<br>Длительность (минуты)=%{text}<extra></extra>",
         "legendgroup": "Classical",
         "marker": {
          "color": "#EF553B",
          "pattern": {
           "shape": ""
          }
         },
         "name": "Classical",
         "orientation": "v",
         "showlegend": true,
         "text": {
          "bdata": "AAAAAACgdkA=",
          "dtype": "f8"
         },
         "textposition": "auto",
         "type": "bar",
         "x": [
          "Classical"
         ],
         "xaxis": "x",
         "y": {
          "bdata": "AAAAAACgdkA=",
          "dtype": "f8"
         },
         "yaxis": "y"
        },
        {
         "hovertemplate": "Жанр=%{x}<br>Длительность (минуты)=%{text}<extra></extra>",
         "legendgroup": "Reggae",
         "marker": {
          "color": "#00cc96",
          "pattern": {
           "shape": ""
          }
         },
         "name": "Reggae",
         "orientation": "v",
         "showlegend": true,
         "text": {
          "bdata": "AAAAAADAbUA=",
          "dtype": "f8"
         },
         "textposition": "auto",
         "type": "bar",
         "x": [
          "Reggae"
         ],
         "xaxis": "x",
         "y": {
          "bdata": "AAAAAADAbUA=",
          "dtype": "f8"
         },
         "yaxis": "y"
        },
        {
         "hovertemplate": "Жанр=%{x}<br>Длительность (минуты)=%{text}<extra></extra>",
         "legendgroup": "R&B/Soul",
         "marker": {
          "color": "#ab63fa",
          "pattern": {
           "shape": ""
          }
         },
         "name": "R&B/Soul",
         "orientation": "v",
         "showlegend": true,
         "text": {
          "bdata": "AAAAAADga0A=",
          "dtype": "f8"
         },
         "textposition": "auto",
         "type": "bar",
         "x": [
          "R&B/Soul"
         ],
         "xaxis": "x",
         "y": {
          "bdata": "AAAAAADga0A=",
          "dtype": "f8"
         },
         "yaxis": "y"
        },
        {
         "hovertemplate": "Жанр=%{x}<br>Длительность (минуты)=%{text}<extra></extra>",
         "legendgroup": "Pop",
         "marker": {
          "color": "#FFA15A",
          "pattern": {
           "shape": ""
          }
         },
         "name": "Pop",
         "orientation": "v",
         "showlegend": true,
         "text": {
          "bdata": "AAAAAADgZkA=",
          "dtype": "f8"
         },
         "textposition": "auto",
         "type": "bar",
         "x": [
          "Pop"
         ],
         "xaxis": "x",
         "y": {
          "bdata": "AAAAAADgZkA=",
          "dtype": "f8"
         },
         "yaxis": "y"
        },
        {
         "hovertemplate": "Жанр=%{x}<br>Длительность (минуты)=%{text}<extra></extra>",
         "legendgroup": "Alternative",
         "marker": {
          "color": "#19d3f3",
          "pattern": {
           "shape": ""
          }
         },
         "name": "Alternative",
         "orientation": "v",
         "showlegend": true,
         "text": {
          "bdata": "AAAAAAAAZkA=",
          "dtype": "f8"
         },
         "textposition": "auto",
         "type": "bar",
         "x": [
          "Alternative"
         ],
         "xaxis": "x",
         "y": {
          "bdata": "AAAAAAAAZkA=",
          "dtype": "f8"
         },
         "yaxis": "y"
        },
        {
         "hovertemplate": "Жанр=%{x}<br>Длительность (минуты)=%{text}<extra></extra>",
         "legendgroup": "Soundtrack",
         "marker": {
          "color": "#FF6692",
          "pattern": {
           "shape": ""
          }
         },
         "name": "Soundtrack",
         "orientation": "v",
         "showlegend": true,
         "text": {
          "bdata": "AAAAAADgZUA=",
          "dtype": "f8"
         },
         "textposition": "auto",
         "type": "bar",
         "x": [
          "Soundtrack"
         ],
         "xaxis": "x",
         "y": {
          "bdata": "AAAAAADgZUA=",
          "dtype": "f8"
         },
         "yaxis": "y"
        },
        {
         "hovertemplate": "Жанр=%{x}<br>Длительность (минуты)=%{text}<extra></extra>",
         "legendgroup": "Electronica/Dance",
         "marker": {
          "color": "#B6E880",
          "pattern": {
           "shape": ""
          }
         },
         "name": "Electronica/Dance",
         "orientation": "v",
         "showlegend": true,
         "text": {
          "bdata": "AAAAAADgYkA=",
          "dtype": "f8"
         },
         "textposition": "auto",
         "type": "bar",
         "x": [
          "Electronica/Dance"
         ],
         "xaxis": "x",
         "y": {
          "bdata": "AAAAAADgYkA=",
          "dtype": "f8"
         },
         "yaxis": "y"
        },
        {
         "hovertemplate": "Жанр=%{x}<br>Длительность (минуты)=%{text}<extra></extra>",
         "legendgroup": "Heavy Metal",
         "marker": {
          "color": "#FF97FF",
          "pattern": {
           "shape": ""
          }
         },
         "name": "Heavy Metal",
         "orientation": "v",
         "showlegend": true,
         "text": {
          "bdata": "AAAAAABAYUA=",
          "dtype": "f8"
         },
         "textposition": "auto",
         "type": "bar",
         "x": [
          "Heavy Metal"
         ],
         "xaxis": "x",
         "y": {
          "bdata": "AAAAAABAYUA=",
          "dtype": "f8"
         },
         "yaxis": "y"
        },
        {
         "hovertemplate": "Жанр=%{x}<br>Длительность (минуты)=%{text}<extra></extra>",
         "legendgroup": "World",
         "marker": {
          "color": "#FECB52",
          "pattern": {
           "shape": ""
          }
         },
         "name": "World",
         "orientation": "v",
         "showlegend": true,
         "text": {
          "bdata": "AAAAAAAAWkA=",
          "dtype": "f8"
         },
         "textposition": "auto",
         "type": "bar",
         "x": [
          "World"
         ],
         "xaxis": "x",
         "y": {
          "bdata": "AAAAAAAAWkA=",
          "dtype": "f8"
         },
         "yaxis": "y"
        },
        {
         "hovertemplate": "Жанр=%{x}<br>Длительность (минуты)=%{text}<extra></extra>",
         "legendgroup": "Hip Hop/Rap",
         "marker": {
          "color": "#636efa",
          "pattern": {
           "shape": ""
          }
         },
         "name": "Hip Hop/Rap",
         "orientation": "v",
         "showlegend": true,
         "text": {
          "bdata": "AAAAAADAWUA=",
          "dtype": "f8"
         },
         "textposition": "auto",
         "type": "bar",
         "x": [
          "Hip Hop/Rap"
         ],
         "xaxis": "x",
         "y": {
          "bdata": "AAAAAADAWUA=",
          "dtype": "f8"
         },
         "yaxis": "y"
        },
        {
         "hovertemplate": "Жанр=%{x}<br>Длительность (минуты)=%{text}<extra></extra>",
         "legendgroup": "Easy Listening",
         "marker": {
          "color": "#EF553B",
          "pattern": {
           "shape": ""
          }
         },
         "name": "Easy Listening",
         "orientation": "v",
         "showlegend": true,
         "text": {
          "bdata": "AAAAAADAUkA=",
          "dtype": "f8"
         },
         "textposition": "auto",
         "type": "bar",
         "x": [
          "Easy Listening"
         ],
         "xaxis": "x",
         "y": {
          "bdata": "AAAAAADAUkA=",
          "dtype": "f8"
         },
         "yaxis": "y"
        },
        {
         "hovertemplate": "Жанр=%{x}<br>Длительность (минуты)=%{text}<extra></extra>",
         "legendgroup": "Bossa Nova",
         "marker": {
          "color": "#00cc96",
          "pattern": {
           "shape": ""
          }
         },
         "name": "Bossa Nova",
         "orientation": "v",
         "showlegend": true,
         "text": {
          "bdata": "AAAAAAAAS0A=",
          "dtype": "f8"
         },
         "textposition": "auto",
         "type": "bar",
         "x": [
          "Bossa Nova"
         ],
         "xaxis": "x",
         "y": {
          "bdata": "AAAAAAAAS0A=",
          "dtype": "f8"
         },
         "yaxis": "y"
        },
        {
         "hovertemplate": "Жанр=%{x}<br>Длительность (минуты)=%{text}<extra></extra>",
         "legendgroup": "Rock And Roll",
         "marker": {
          "color": "#ab63fa",
          "pattern": {
           "shape": ""
          }
         },
         "name": "Rock And Roll",
         "orientation": "v",
         "showlegend": true,
         "text": {
          "bdata": "AAAAAAAAOkA=",
          "dtype": "f8"
         },
         "textposition": "auto",
         "type": "bar",
         "x": [
          "Rock And Roll"
         ],
         "xaxis": "x",
         "y": {
          "bdata": "AAAAAAAAOkA=",
          "dtype": "f8"
         },
         "yaxis": "y"
        },
        {
         "hovertemplate": "Жанр=%{x}<br>Длительность (минуты)=%{text}<extra></extra>",
         "legendgroup": "Opera",
         "marker": {
          "color": "#FFA15A",
          "pattern": {
           "shape": ""
          }
         },
         "name": "Opera",
         "orientation": "v",
         "showlegend": true,
         "text": {
          "bdata": "AAAAAAAAAEA=",
          "dtype": "f8"
         },
         "textposition": "auto",
         "type": "bar",
         "x": [
          "Opera"
         ],
         "xaxis": "x",
         "y": {
          "bdata": "AAAAAAAAAEA=",
          "dtype": "f8"
         },
         "yaxis": "y"
        }
       ],
       "layout": {
        "barmode": "relative",
        "height": 600,
        "legend": {
         "title": {
          "text": "Жанр"
         },
         "tracegroupgap": 0
        },
        "template": {
         "data": {
          "bar": [
           {
            "error_x": {
             "color": "#2a3f5f"
            },
            "error_y": {
             "color": "#2a3f5f"
            },
            "marker": {
             "line": {
              "color": "#E5ECF6",
              "width": 0.5
             },
             "pattern": {
              "fillmode": "overlay",
              "size": 10,
              "solidity": 0.2
             }
            },
            "type": "bar"
           }
          ],
          "barpolar": [
           {
            "marker": {
             "line": {
              "color": "#E5ECF6",
              "width": 0.5
             },
             "pattern": {
              "fillmode": "overlay",
              "size": 10,
              "solidity": 0.2
             }
            },
            "type": "barpolar"
           }
          ],
          "carpet": [
           {
            "aaxis": {
             "endlinecolor": "#2a3f5f",
             "gridcolor": "white",
             "linecolor": "white",
             "minorgridcolor": "white",
             "startlinecolor": "#2a3f5f"
            },
            "baxis": {
             "endlinecolor": "#2a3f5f",
             "gridcolor": "white",
             "linecolor": "white",
             "minorgridcolor": "white",
             "startlinecolor": "#2a3f5f"
            },
            "type": "carpet"
           }
          ],
          "choropleth": [
           {
            "colorbar": {
             "outlinewidth": 0,
             "ticks": ""
            },
            "type": "choropleth"
           }
          ],
          "contour": [
           {
            "colorbar": {
             "outlinewidth": 0,
             "ticks": ""
            },
            "colorscale": [
             [
              0,
              "#0d0887"
             ],
             [
              0.1111111111111111,
              "#46039f"
             ],
             [
              0.2222222222222222,
              "#7201a8"
             ],
             [
              0.3333333333333333,
              "#9c179e"
             ],
             [
              0.4444444444444444,
              "#bd3786"
             ],
             [
              0.5555555555555556,
              "#d8576b"
             ],
             [
              0.6666666666666666,
              "#ed7953"
             ],
             [
              0.7777777777777778,
              "#fb9f3a"
             ],
             [
              0.8888888888888888,
              "#fdca26"
             ],
             [
              1,
              "#f0f921"
             ]
            ],
            "type": "contour"
           }
          ],
          "contourcarpet": [
           {
            "colorbar": {
             "outlinewidth": 0,
             "ticks": ""
            },
            "type": "contourcarpet"
           }
          ],
          "heatmap": [
           {
            "colorbar": {
             "outlinewidth": 0,
             "ticks": ""
            },
            "colorscale": [
             [
              0,
              "#0d0887"
             ],
             [
              0.1111111111111111,
              "#46039f"
             ],
             [
              0.2222222222222222,
              "#7201a8"
             ],
             [
              0.3333333333333333,
              "#9c179e"
             ],
             [
              0.4444444444444444,
              "#bd3786"
             ],
             [
              0.5555555555555556,
              "#d8576b"
             ],
             [
              0.6666666666666666,
              "#ed7953"
             ],
             [
              0.7777777777777778,
              "#fb9f3a"
             ],
             [
              0.8888888888888888,
              "#fdca26"
             ],
             [
              1,
              "#f0f921"
             ]
            ],
            "type": "heatmap"
           }
          ],
          "histogram": [
           {
            "marker": {
             "pattern": {
              "fillmode": "overlay",
              "size": 10,
              "solidity": 0.2
             }
            },
            "type": "histogram"
           }
          ],
          "histogram2d": [
           {
            "colorbar": {
             "outlinewidth": 0,
             "ticks": ""
            },
            "colorscale": [
             [
              0,
              "#0d0887"
             ],
             [
              0.1111111111111111,
              "#46039f"
             ],
             [
              0.2222222222222222,
              "#7201a8"
             ],
             [
              0.3333333333333333,
              "#9c179e"
             ],
             [
              0.4444444444444444,
              "#bd3786"
             ],
             [
              0.5555555555555556,
              "#d8576b"
             ],
             [
              0.6666666666666666,
              "#ed7953"
             ],
             [
              0.7777777777777778,
              "#fb9f3a"
             ],
             [
              0.8888888888888888,
              "#fdca26"
             ],
             [
              1,
              "#f0f921"
             ]
            ],
            "type": "histogram2d"
           }
          ],
          "histogram2dcontour": [
           {
            "colorbar": {
             "outlinewidth": 0,
             "ticks": ""
            },
            "colorscale": [
             [
              0,
              "#0d0887"
             ],
             [
              0.1111111111111111,
              "#46039f"
             ],
             [
              0.2222222222222222,
              "#7201a8"
             ],
             [
              0.3333333333333333,
              "#9c179e"
             ],
             [
              0.4444444444444444,
              "#bd3786"
             ],
             [
              0.5555555555555556,
              "#d8576b"
             ],
             [
              0.6666666666666666,
              "#ed7953"
             ],
             [
              0.7777777777777778,
              "#fb9f3a"
             ],
             [
              0.8888888888888888,
              "#fdca26"
             ],
             [
              1,
              "#f0f921"
             ]
            ],
            "type": "histogram2dcontour"
           }
          ],
          "mesh3d": [
           {
            "colorbar": {
             "outlinewidth": 0,
             "ticks": ""
            },
            "type": "mesh3d"
           }
          ],
          "parcoords": [
           {
            "line": {
             "colorbar": {
              "outlinewidth": 0,
              "ticks": ""
             }
            },
            "type": "parcoords"
           }
          ],
          "pie": [
           {
            "automargin": true,
            "type": "pie"
           }
          ],
          "scatter": [
           {
            "fillpattern": {
             "fillmode": "overlay",
             "size": 10,
             "solidity": 0.2
            },
            "type": "scatter"
           }
          ],
          "scatter3d": [
           {
            "line": {
             "colorbar": {
              "outlinewidth": 0,
              "ticks": ""
             }
            },
            "marker": {
             "colorbar": {
              "outlinewidth": 0,
              "ticks": ""
             }
            },
            "type": "scatter3d"
           }
          ],
          "scattercarpet": [
           {
            "marker": {
             "colorbar": {
              "outlinewidth": 0,
              "ticks": ""
             }
            },
            "type": "scattercarpet"
           }
          ],
          "scattergeo": [
           {
            "marker": {
             "colorbar": {
              "outlinewidth": 0,
              "ticks": ""
             }
            },
            "type": "scattergeo"
           }
          ],
          "scattergl": [
           {
            "marker": {
             "colorbar": {
              "outlinewidth": 0,
              "ticks": ""
             }
            },
            "type": "scattergl"
           }
          ],
          "scattermap": [
           {
            "marker": {
             "colorbar": {
              "outlinewidth": 0,
              "ticks": ""
             }
            },
            "type": "scattermap"
           }
          ],
          "scattermapbox": [
           {
            "marker": {
             "colorbar": {
              "outlinewidth": 0,
              "ticks": ""
             }
            },
            "type": "scattermapbox"
           }
          ],
          "scatterpolar": [
           {
            "marker": {
             "colorbar": {
              "outlinewidth": 0,
              "ticks": ""
             }
            },
            "type": "scatterpolar"
           }
          ],
          "scatterpolargl": [
           {
            "marker": {
             "colorbar": {
              "outlinewidth": 0,
              "ticks": ""
             }
            },
            "type": "scatterpolargl"
           }
          ],
          "scatterternary": [
           {
            "marker": {
             "colorbar": {
              "outlinewidth": 0,
              "ticks": ""
             }
            },
            "type": "scatterternary"
           }
          ],
          "surface": [
           {
            "colorbar": {
             "outlinewidth": 0,
             "ticks": ""
            },
            "colorscale": [
             [
              0,
              "#0d0887"
             ],
             [
              0.1111111111111111,
              "#46039f"
             ],
             [
              0.2222222222222222,
              "#7201a8"
             ],
             [
              0.3333333333333333,
              "#9c179e"
             ],
             [
              0.4444444444444444,
              "#bd3786"
             ],
             [
              0.5555555555555556,
              "#d8576b"
             ],
             [
              0.6666666666666666,
              "#ed7953"
             ],
             [
              0.7777777777777778,
              "#fb9f3a"
             ],
             [
              0.8888888888888888,
              "#fdca26"
             ],
             [
              1,
              "#f0f921"
             ]
            ],
            "type": "surface"
           }
          ],
          "table": [
           {
            "cells": {
             "fill": {
              "color": "#EBF0F8"
             },
             "line": {
              "color": "white"
             }
            },
            "header": {
             "fill": {
              "color": "#C8D4E3"
             },
             "line": {
              "color": "white"
             }
            },
            "type": "table"
           }
          ]
         },
         "layout": {
          "annotationdefaults": {
           "arrowcolor": "#2a3f5f",
           "arrowhead": 0,
           "arrowwidth": 1
          },
          "autotypenumbers": "strict",
          "coloraxis": {
           "colorbar": {
            "outlinewidth": 0,
            "ticks": ""
           }
          },
          "colorscale": {
           "diverging": [
            [
             0,
             "#8e0152"
            ],
            [
             0.1,
             "#c51b7d"
            ],
            [
             0.2,
             "#de77ae"
            ],
            [
             0.3,
             "#f1b6da"
            ],
            [
             0.4,
             "#fde0ef"
            ],
            [
             0.5,
             "#f7f7f7"
            ],
            [
             0.6,
             "#e6f5d0"
            ],
            [
             0.7,
             "#b8e186"
            ],
            [
             0.8,
             "#7fbc41"
            ],
            [
             0.9,
             "#4d9221"
            ],
            [
             1,
             "#276419"
            ]
           ],
           "sequential": [
            [
             0,
             "#0d0887"
            ],
            [
             0.1111111111111111,
             "#46039f"
            ],
            [
             0.2222222222222222,
             "#7201a8"
            ],
            [
             0.3333333333333333,
             "#9c179e"
            ],
            [
             0.4444444444444444,
             "#bd3786"
            ],
            [
             0.5555555555555556,
             "#d8576b"
            ],
            [
             0.6666666666666666,
             "#ed7953"
            ],
            [
             0.7777777777777778,
             "#fb9f3a"
            ],
            [
             0.8888888888888888,
             "#fdca26"
            ],
            [
             1,
             "#f0f921"
            ]
           ],
           "sequentialminus": [
            [
             0,
             "#0d0887"
            ],
            [
             0.1111111111111111,
             "#46039f"
            ],
            [
             0.2222222222222222,
             "#7201a8"
            ],
            [
             0.3333333333333333,
             "#9c179e"
            ],
            [
             0.4444444444444444,
             "#bd3786"
            ],
            [
             0.5555555555555556,
             "#d8576b"
            ],
            [
             0.6666666666666666,
             "#ed7953"
            ],
            [
             0.7777777777777778,
             "#fb9f3a"
            ],
            [
             0.8888888888888888,
             "#fdca26"
            ],
            [
             1,
             "#f0f921"
            ]
           ]
          },
          "colorway": [
           "#636efa",
           "#EF553B",
           "#00cc96",
           "#ab63fa",
           "#FFA15A",
           "#19d3f3",
           "#FF6692",
           "#B6E880",
           "#FF97FF",
           "#FECB52"
          ],
          "font": {
           "color": "#2a3f5f"
          },
          "geo": {
           "bgcolor": "white",
           "lakecolor": "white",
           "landcolor": "#E5ECF6",
           "showlakes": true,
           "showland": true,
           "subunitcolor": "white"
          },
          "hoverlabel": {
           "align": "left"
          },
          "hovermode": "closest",
          "mapbox": {
           "style": "light"
          },
          "paper_bgcolor": "white",
          "plot_bgcolor": "#E5ECF6",
          "polar": {
           "angularaxis": {
            "gridcolor": "white",
            "linecolor": "white",
            "ticks": ""
           },
           "bgcolor": "#E5ECF6",
           "radialaxis": {
            "gridcolor": "white",
            "linecolor": "white",
            "ticks": ""
           }
          },
          "scene": {
           "xaxis": {
            "backgroundcolor": "#E5ECF6",
            "gridcolor": "white",
            "gridwidth": 2,
            "linecolor": "white",
            "showbackground": true,
            "ticks": "",
            "zerolinecolor": "white"
           },
           "yaxis": {
            "backgroundcolor": "#E5ECF6",
            "gridcolor": "white",
            "gridwidth": 2,
            "linecolor": "white",
            "showbackground": true,
            "ticks": "",
            "zerolinecolor": "white"
           },
           "zaxis": {
            "backgroundcolor": "#E5ECF6",
            "gridcolor": "white",
            "gridwidth": 2,
            "linecolor": "white",
            "showbackground": true,
            "ticks": "",
            "zerolinecolor": "white"
           }
          },
          "shapedefaults": {
           "line": {
            "color": "#2a3f5f"
           }
          },
          "ternary": {
           "aaxis": {
            "gridcolor": "white",
            "linecolor": "white",
            "ticks": ""
           },
           "baxis": {
            "gridcolor": "white",
            "linecolor": "white",
            "ticks": ""
           },
           "bgcolor": "#E5ECF6",
           "caxis": {
            "gridcolor": "white",
            "linecolor": "white",
            "ticks": ""
           }
          },
          "title": {
           "x": 0.05
          },
          "xaxis": {
           "automargin": true,
           "gridcolor": "white",
           "linecolor": "white",
           "ticks": "",
           "title": {
            "standoff": 15
           },
           "zerolinecolor": "white",
           "zerolinewidth": 2
          },
          "yaxis": {
           "automargin": true,
           "gridcolor": "white",
           "linecolor": "white",
           "ticks": "",
           "title": {
            "standoff": 15
           },
           "zerolinecolor": "white",
           "zerolinewidth": 2
          }
         }
        },
        "title": {
         "text": "Общая длительность треков по жанрам"
        },
        "xaxis": {
         "anchor": "y",
         "categoryarray": [
          "Rock",
          "TV Shows",
          "Drama",
          "Latin",
          "Metal",
          "Alternative & Punk",
          "Sci Fi & Fantasy",
          "Jazz",
          "Science Fiction",
          "Comedy",
          "Blues",
          "Classical",
          "Reggae",
          "R&B/Soul",
          "Pop",
          "Alternative",
          "Soundtrack",
          "Electronica/Dance",
          "Heavy Metal",
          "World",
          "Hip Hop/Rap",
          "Easy Listening",
          "Bossa Nova",
          "Rock And Roll",
          "Opera"
         ],
         "categoryorder": "array",
         "domain": [
          0,
          1
         ],
         "title": {
          "text": "Жанр"
         }
        },
        "yaxis": {
         "anchor": "x",
         "domain": [
          0,
          1
         ],
         "title": {
          "text": "Длительность (минуты)"
         }
        }
       }
      }
     },
     "metadata": {},
     "output_type": "display_data"
    }
   ],
   "source": [
    "fig"
   ]
  },
  {
   "cell_type": "code",
   "execution_count": null,
   "metadata": {},
   "outputs": [],
   "source": []
  },
  {
   "cell_type": "markdown",
   "metadata": {},
   "source": [
    "2.На основе данных из таблицы track создайте диаграмму рассеивания, показывающую соотношение минут и мегабайтов."
   ]
  },
  {
   "cell_type": "code",
   "execution_count": 43,
   "metadata": {},
   "outputs": [],
   "source": [
    "query = text(\"\"\"\n",
    "    SELECT \n",
    "        name AS track_name,\n",
    "        ROUND(milliseconds / 60000.0, 2) AS minutes,\n",
    "        ROUND(bytes / (1024*1024.0), 2) AS megabytes\n",
    "    FROM track\n",
    "    WHERE milliseconds > 0 AND bytes > 0\n",
    "\"\"\")\n",
    "with set_connection() as conn:\n",
    "    df = pd.read_sql(query, conn)"
   ]
  },
  {
   "cell_type": "code",
   "execution_count": 46,
   "metadata": {},
   "outputs": [
    {
     "data": {
      "text/html": [
       "<div>\n",
       "<style scoped>\n",
       "    .dataframe tbody tr th:only-of-type {\n",
       "        vertical-align: middle;\n",
       "    }\n",
       "\n",
       "    .dataframe tbody tr th {\n",
       "        vertical-align: top;\n",
       "    }\n",
       "\n",
       "    .dataframe thead th {\n",
       "        text-align: right;\n",
       "    }\n",
       "</style>\n",
       "<table border=\"1\" class=\"dataframe\">\n",
       "  <thead>\n",
       "    <tr style=\"text-align: right;\">\n",
       "      <th></th>\n",
       "      <th>track_name</th>\n",
       "      <th>minutes</th>\n",
       "      <th>megabytes</th>\n",
       "    </tr>\n",
       "  </thead>\n",
       "  <tbody>\n",
       "    <tr>\n",
       "      <th>0</th>\n",
       "      <td>For Those About To Rock (We Salute You)</td>\n",
       "      <td>5.73</td>\n",
       "      <td>10.65</td>\n",
       "    </tr>\n",
       "    <tr>\n",
       "      <th>1</th>\n",
       "      <td>Balls to the Wall</td>\n",
       "      <td>5.71</td>\n",
       "      <td>5.26</td>\n",
       "    </tr>\n",
       "    <tr>\n",
       "      <th>2</th>\n",
       "      <td>Fast As a Shark</td>\n",
       "      <td>3.84</td>\n",
       "      <td>3.81</td>\n",
       "    </tr>\n",
       "    <tr>\n",
       "      <th>3</th>\n",
       "      <td>Restless and Wild</td>\n",
       "      <td>4.20</td>\n",
       "      <td>4.13</td>\n",
       "    </tr>\n",
       "    <tr>\n",
       "      <th>4</th>\n",
       "      <td>Princess of the Dawn</td>\n",
       "      <td>6.26</td>\n",
       "      <td>6.00</td>\n",
       "    </tr>\n",
       "    <tr>\n",
       "      <th>...</th>\n",
       "      <td>...</td>\n",
       "      <td>...</td>\n",
       "      <td>...</td>\n",
       "    </tr>\n",
       "    <tr>\n",
       "      <th>3498</th>\n",
       "      <td>Pini Di Roma (Pinien Von Rom) \\ I Pini Della V...</td>\n",
       "      <td>4.78</td>\n",
       "      <td>4.50</td>\n",
       "    </tr>\n",
       "    <tr>\n",
       "      <th>3499</th>\n",
       "      <td>String Quartet No. 12 in C Minor, D. 703 \"Quar...</td>\n",
       "      <td>2.32</td>\n",
       "      <td>2.18</td>\n",
       "    </tr>\n",
       "    <tr>\n",
       "      <th>3500</th>\n",
       "      <td>L'orfeo, Act 3, Sinfonia (Orchestra)</td>\n",
       "      <td>1.11</td>\n",
       "      <td>1.13</td>\n",
       "    </tr>\n",
       "    <tr>\n",
       "      <th>3501</th>\n",
       "      <td>Quintet for Horn, Violin, 2 Violas, and Cello ...</td>\n",
       "      <td>3.69</td>\n",
       "      <td>3.50</td>\n",
       "    </tr>\n",
       "    <tr>\n",
       "      <th>3502</th>\n",
       "      <td>Koyaanisqatsi</td>\n",
       "      <td>3.43</td>\n",
       "      <td>3.15</td>\n",
       "    </tr>\n",
       "  </tbody>\n",
       "</table>\n",
       "<p>3503 rows × 3 columns</p>\n",
       "</div>"
      ],
      "text/plain": [
       "                                             track_name  minutes  megabytes\n",
       "0               For Those About To Rock (We Salute You)     5.73      10.65\n",
       "1                                     Balls to the Wall     5.71       5.26\n",
       "2                                       Fast As a Shark     3.84       3.81\n",
       "3                                     Restless and Wild     4.20       4.13\n",
       "4                                  Princess of the Dawn     6.26       6.00\n",
       "...                                                 ...      ...        ...\n",
       "3498  Pini Di Roma (Pinien Von Rom) \\ I Pini Della V...     4.78       4.50\n",
       "3499  String Quartet No. 12 in C Minor, D. 703 \"Quar...     2.32       2.18\n",
       "3500               L'orfeo, Act 3, Sinfonia (Orchestra)     1.11       1.13\n",
       "3501  Quintet for Horn, Violin, 2 Violas, and Cello ...     3.69       3.50\n",
       "3502                                      Koyaanisqatsi     3.43       3.15\n",
       "\n",
       "[3503 rows x 3 columns]"
      ]
     },
     "execution_count": 46,
     "metadata": {},
     "output_type": "execute_result"
    }
   ],
   "source": [
    "df"
   ]
  },
  {
   "cell_type": "code",
   "execution_count": 54,
   "metadata": {},
   "outputs": [],
   "source": [
    "fig = px.scatter(\n",
    "    df,\n",
    "    x='minutes',\n",
    "    y='megabytes',\n",
    "    title='Соотношение длительности и размера треков',\n",
    "    labels={\n",
    "        'minutes': 'Длительность (минуты)',\n",
    "        'megabytes': 'Размер (мегабайты)'\n",
    "    }\n",
    ")\n"
   ]
  },
  {
   "cell_type": "code",
   "execution_count": 55,
   "metadata": {},
   "outputs": [
    {
     "data": {
      "application/vnd.plotly.v1+json": {
       "config": {
        "plotlyServerURL": "https://plot.ly"
       },
       "data": [
        {
         "hovertemplate": "Длительность (минуты)=%{x}<br>Размер (мегабайты)=%{y}<extra></extra>",
         "legendgroup": "",
         "marker": {
          "color": "#636efa",
          "symbol": "circle"
         },
         "mode": "markers",
         "name": "",
         "showlegend": false,
         "type": "scattergl",
         "x": {
          "bdata": "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",
          "dtype": "f8"
         },
         "xaxis": "x",
         "y": {
          "bdata": "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",
          "dtype": "f8"
         },
         "yaxis": "y"
        }
       ],
       "layout": {
        "legend": {
         "tracegroupgap": 0
        },
        "template": {
         "data": {
          "bar": [
           {
            "error_x": {
             "color": "#2a3f5f"
            },
            "error_y": {
             "color": "#2a3f5f"
            },
            "marker": {
             "line": {
              "color": "#E5ECF6",
              "width": 0.5
             },
             "pattern": {
              "fillmode": "overlay",
              "size": 10,
              "solidity": 0.2
             }
            },
            "type": "bar"
           }
          ],
          "barpolar": [
           {
            "marker": {
             "line": {
              "color": "#E5ECF6",
              "width": 0.5
             },
             "pattern": {
              "fillmode": "overlay",
              "size": 10,
              "solidity": 0.2
             }
            },
            "type": "barpolar"
           }
          ],
          "carpet": [
           {
            "aaxis": {
             "endlinecolor": "#2a3f5f",
             "gridcolor": "white",
             "linecolor": "white",
             "minorgridcolor": "white",
             "startlinecolor": "#2a3f5f"
            },
            "baxis": {
             "endlinecolor": "#2a3f5f",
             "gridcolor": "white",
             "linecolor": "white",
             "minorgridcolor": "white",
             "startlinecolor": "#2a3f5f"
            },
            "type": "carpet"
           }
          ],
          "choropleth": [
           {
            "colorbar": {
             "outlinewidth": 0,
             "ticks": ""
            },
            "type": "choropleth"
           }
          ],
          "contour": [
           {
            "colorbar": {
             "outlinewidth": 0,
             "ticks": ""
            },
            "colorscale": [
             [
              0,
              "#0d0887"
             ],
             [
              0.1111111111111111,
              "#46039f"
             ],
             [
              0.2222222222222222,
              "#7201a8"
             ],
             [
              0.3333333333333333,
              "#9c179e"
             ],
             [
              0.4444444444444444,
              "#bd3786"
             ],
             [
              0.5555555555555556,
              "#d8576b"
             ],
             [
              0.6666666666666666,
              "#ed7953"
             ],
             [
              0.7777777777777778,
              "#fb9f3a"
             ],
             [
              0.8888888888888888,
              "#fdca26"
             ],
             [
              1,
              "#f0f921"
             ]
            ],
            "type": "contour"
           }
          ],
          "contourcarpet": [
           {
            "colorbar": {
             "outlinewidth": 0,
             "ticks": ""
            },
            "type": "contourcarpet"
           }
          ],
          "heatmap": [
           {
            "colorbar": {
             "outlinewidth": 0,
             "ticks": ""
            },
            "colorscale": [
             [
              0,
              "#0d0887"
             ],
             [
              0.1111111111111111,
              "#46039f"
             ],
             [
              0.2222222222222222,
              "#7201a8"
             ],
             [
              0.3333333333333333,
              "#9c179e"
             ],
             [
              0.4444444444444444,
              "#bd3786"
             ],
             [
              0.5555555555555556,
              "#d8576b"
             ],
             [
              0.6666666666666666,
              "#ed7953"
             ],
             [
              0.7777777777777778,
              "#fb9f3a"
             ],
             [
              0.8888888888888888,
              "#fdca26"
             ],
             [
              1,
              "#f0f921"
             ]
            ],
            "type": "heatmap"
           }
          ],
          "histogram": [
           {
            "marker": {
             "pattern": {
              "fillmode": "overlay",
              "size": 10,
              "solidity": 0.2
             }
            },
            "type": "histogram"
           }
          ],
          "histogram2d": [
           {
            "colorbar": {
             "outlinewidth": 0,
             "ticks": ""
            },
            "colorscale": [
             [
              0,
              "#0d0887"
             ],
             [
              0.1111111111111111,
              "#46039f"
             ],
             [
              0.2222222222222222,
              "#7201a8"
             ],
             [
              0.3333333333333333,
              "#9c179e"
             ],
             [
              0.4444444444444444,
              "#bd3786"
             ],
             [
              0.5555555555555556,
              "#d8576b"
             ],
             [
              0.6666666666666666,
              "#ed7953"
             ],
             [
              0.7777777777777778,
              "#fb9f3a"
             ],
             [
              0.8888888888888888,
              "#fdca26"
             ],
             [
              1,
              "#f0f921"
             ]
            ],
            "type": "histogram2d"
           }
          ],
          "histogram2dcontour": [
           {
            "colorbar": {
             "outlinewidth": 0,
             "ticks": ""
            },
            "colorscale": [
             [
              0,
              "#0d0887"
             ],
             [
              0.1111111111111111,
              "#46039f"
             ],
             [
              0.2222222222222222,
              "#7201a8"
             ],
             [
              0.3333333333333333,
              "#9c179e"
             ],
             [
              0.4444444444444444,
              "#bd3786"
             ],
             [
              0.5555555555555556,
              "#d8576b"
             ],
             [
              0.6666666666666666,
              "#ed7953"
             ],
             [
              0.7777777777777778,
              "#fb9f3a"
             ],
             [
              0.8888888888888888,
              "#fdca26"
             ],
             [
              1,
              "#f0f921"
             ]
            ],
            "type": "histogram2dcontour"
           }
          ],
          "mesh3d": [
           {
            "colorbar": {
             "outlinewidth": 0,
             "ticks": ""
            },
            "type": "mesh3d"
           }
          ],
          "parcoords": [
           {
            "line": {
             "colorbar": {
              "outlinewidth": 0,
              "ticks": ""
             }
            },
            "type": "parcoords"
           }
          ],
          "pie": [
           {
            "automargin": true,
            "type": "pie"
           }
          ],
          "scatter": [
           {
            "fillpattern": {
             "fillmode": "overlay",
             "size": 10,
             "solidity": 0.2
            },
            "type": "scatter"
           }
          ],
          "scatter3d": [
           {
            "line": {
             "colorbar": {
              "outlinewidth": 0,
              "ticks": ""
             }
            },
            "marker": {
             "colorbar": {
              "outlinewidth": 0,
              "ticks": ""
             }
            },
            "type": "scatter3d"
           }
          ],
          "scattercarpet": [
           {
            "marker": {
             "colorbar": {
              "outlinewidth": 0,
              "ticks": ""
             }
            },
            "type": "scattercarpet"
           }
          ],
          "scattergeo": [
           {
            "marker": {
             "colorbar": {
              "outlinewidth": 0,
              "ticks": ""
             }
            },
            "type": "scattergeo"
           }
          ],
          "scattergl": [
           {
            "marker": {
             "colorbar": {
              "outlinewidth": 0,
              "ticks": ""
             }
            },
            "type": "scattergl"
           }
          ],
          "scattermap": [
           {
            "marker": {
             "colorbar": {
              "outlinewidth": 0,
              "ticks": ""
             }
            },
            "type": "scattermap"
           }
          ],
          "scattermapbox": [
           {
            "marker": {
             "colorbar": {
              "outlinewidth": 0,
              "ticks": ""
             }
            },
            "type": "scattermapbox"
           }
          ],
          "scatterpolar": [
           {
            "marker": {
             "colorbar": {
              "outlinewidth": 0,
              "ticks": ""
             }
            },
            "type": "scatterpolar"
           }
          ],
          "scatterpolargl": [
           {
            "marker": {
             "colorbar": {
              "outlinewidth": 0,
              "ticks": ""
             }
            },
            "type": "scatterpolargl"
           }
          ],
          "scatterternary": [
           {
            "marker": {
             "colorbar": {
              "outlinewidth": 0,
              "ticks": ""
             }
            },
            "type": "scatterternary"
           }
          ],
          "surface": [
           {
            "colorbar": {
             "outlinewidth": 0,
             "ticks": ""
            },
            "colorscale": [
             [
              0,
              "#0d0887"
             ],
             [
              0.1111111111111111,
              "#46039f"
             ],
             [
              0.2222222222222222,
              "#7201a8"
             ],
             [
              0.3333333333333333,
              "#9c179e"
             ],
             [
              0.4444444444444444,
              "#bd3786"
             ],
             [
              0.5555555555555556,
              "#d8576b"
             ],
             [
              0.6666666666666666,
              "#ed7953"
             ],
             [
              0.7777777777777778,
              "#fb9f3a"
             ],
             [
              0.8888888888888888,
              "#fdca26"
             ],
             [
              1,
              "#f0f921"
             ]
            ],
            "type": "surface"
           }
          ],
          "table": [
           {
            "cells": {
             "fill": {
              "color": "#EBF0F8"
             },
             "line": {
              "color": "white"
             }
            },
            "header": {
             "fill": {
              "color": "#C8D4E3"
             },
             "line": {
              "color": "white"
             }
            },
            "type": "table"
           }
          ]
         },
         "layout": {
          "annotationdefaults": {
           "arrowcolor": "#2a3f5f",
           "arrowhead": 0,
           "arrowwidth": 1
          },
          "autotypenumbers": "strict",
          "coloraxis": {
           "colorbar": {
            "outlinewidth": 0,
            "ticks": ""
           }
          },
          "colorscale": {
           "diverging": [
            [
             0,
             "#8e0152"
            ],
            [
             0.1,
             "#c51b7d"
            ],
            [
             0.2,
             "#de77ae"
            ],
            [
             0.3,
             "#f1b6da"
            ],
            [
             0.4,
             "#fde0ef"
            ],
            [
             0.5,
             "#f7f7f7"
            ],
            [
             0.6,
             "#e6f5d0"
            ],
            [
             0.7,
             "#b8e186"
            ],
            [
             0.8,
             "#7fbc41"
            ],
            [
             0.9,
             "#4d9221"
            ],
            [
             1,
             "#276419"
            ]
           ],
           "sequential": [
            [
             0,
             "#0d0887"
            ],
            [
             0.1111111111111111,
             "#46039f"
            ],
            [
             0.2222222222222222,
             "#7201a8"
            ],
            [
             0.3333333333333333,
             "#9c179e"
            ],
            [
             0.4444444444444444,
             "#bd3786"
            ],
            [
             0.5555555555555556,
             "#d8576b"
            ],
            [
             0.6666666666666666,
             "#ed7953"
            ],
            [
             0.7777777777777778,
             "#fb9f3a"
            ],
            [
             0.8888888888888888,
             "#fdca26"
            ],
            [
             1,
             "#f0f921"
            ]
           ],
           "sequentialminus": [
            [
             0,
             "#0d0887"
            ],
            [
             0.1111111111111111,
             "#46039f"
            ],
            [
             0.2222222222222222,
             "#7201a8"
            ],
            [
             0.3333333333333333,
             "#9c179e"
            ],
            [
             0.4444444444444444,
             "#bd3786"
            ],
            [
             0.5555555555555556,
             "#d8576b"
            ],
            [
             0.6666666666666666,
             "#ed7953"
            ],
            [
             0.7777777777777778,
             "#fb9f3a"
            ],
            [
             0.8888888888888888,
             "#fdca26"
            ],
            [
             1,
             "#f0f921"
            ]
           ]
          },
          "colorway": [
           "#636efa",
           "#EF553B",
           "#00cc96",
           "#ab63fa",
           "#FFA15A",
           "#19d3f3",
           "#FF6692",
           "#B6E880",
           "#FF97FF",
           "#FECB52"
          ],
          "font": {
           "color": "#2a3f5f"
          },
          "geo": {
           "bgcolor": "white",
           "lakecolor": "white",
           "landcolor": "#E5ECF6",
           "showlakes": true,
           "showland": true,
           "subunitcolor": "white"
          },
          "hoverlabel": {
           "align": "left"
          },
          "hovermode": "closest",
          "mapbox": {
           "style": "light"
          },
          "paper_bgcolor": "white",
          "plot_bgcolor": "#E5ECF6",
          "polar": {
           "angularaxis": {
            "gridcolor": "white",
            "linecolor": "white",
            "ticks": ""
           },
           "bgcolor": "#E5ECF6",
           "radialaxis": {
            "gridcolor": "white",
            "linecolor": "white",
            "ticks": ""
           }
          },
          "scene": {
           "xaxis": {
            "backgroundcolor": "#E5ECF6",
            "gridcolor": "white",
            "gridwidth": 2,
            "linecolor": "white",
            "showbackground": true,
            "ticks": "",
            "zerolinecolor": "white"
           },
           "yaxis": {
            "backgroundcolor": "#E5ECF6",
            "gridcolor": "white",
            "gridwidth": 2,
            "linecolor": "white",
            "showbackground": true,
            "ticks": "",
            "zerolinecolor": "white"
           },
           "zaxis": {
            "backgroundcolor": "#E5ECF6",
            "gridcolor": "white",
            "gridwidth": 2,
            "linecolor": "white",
            "showbackground": true,
            "ticks": "",
            "zerolinecolor": "white"
           }
          },
          "shapedefaults": {
           "line": {
            "color": "#2a3f5f"
           }
          },
          "ternary": {
           "aaxis": {
            "gridcolor": "white",
            "linecolor": "white",
            "ticks": ""
           },
           "baxis": {
            "gridcolor": "white",
            "linecolor": "white",
            "ticks": ""
           },
           "bgcolor": "#E5ECF6",
           "caxis": {
            "gridcolor": "white",
            "linecolor": "white",
            "ticks": ""
           }
          },
          "title": {
           "x": 0.05
          },
          "xaxis": {
           "automargin": true,
           "gridcolor": "white",
           "linecolor": "white",
           "ticks": "",
           "title": {
            "standoff": 15
           },
           "zerolinecolor": "white",
           "zerolinewidth": 2
          },
          "yaxis": {
           "automargin": true,
           "gridcolor": "white",
           "linecolor": "white",
           "ticks": "",
           "title": {
            "standoff": 15
           },
           "zerolinecolor": "white",
           "zerolinewidth": 2
          }
         }
        },
        "title": {
         "text": "Соотношение длительности и размера треков"
        },
        "xaxis": {
         "anchor": "y",
         "domain": [
          0,
          1
         ],
         "title": {
          "text": "Длительность (минуты)"
         }
        },
        "yaxis": {
         "anchor": "x",
         "domain": [
          0,
          1
         ],
         "title": {
          "text": "Размер (мегабайты)"
         }
        }
       }
      }
     },
     "metadata": {},
     "output_type": "display_data"
    }
   ],
   "source": [
    "fig"
   ]
  },
  {
   "cell_type": "code",
   "execution_count": null,
   "metadata": {},
   "outputs": [],
   "source": []
  },
  {
   "cell_type": "markdown",
   "metadata": {},
   "source": [
    "3.На основе данных из таблицы invoice создайте коробчатую диаграмму, показывающую распределение дохода (поле total) в разбивке по странам."
   ]
  },
  {
   "cell_type": "code",
   "execution_count": 62,
   "metadata": {},
   "outputs": [],
   "source": [
    "query = text(\"\"\"\n",
    "    SELECT \n",
    "        billing_country AS country,\n",
    "        total\n",
    "    FROM invoice\n",
    "    WHERE total > 0\n",
    "\"\"\")\n",
    "with set_connection() as conn:\n",
    "    df = pd.read_sql(query, conn)\n",
    "\n"
   ]
  },
  {
   "cell_type": "code",
   "execution_count": 63,
   "metadata": {},
   "outputs": [],
   "source": [
    "fig = px.box(\n",
    "    df,\n",
    "    x='country',\n",
    "    y='total',\n",
    "    title='Распределение доходов по странам',\n",
    "    labels={\n",
    "        'country': 'Страна',\n",
    "        'total': 'Сумма заказа ($)'\n",
    "    },\n",
    "    color='country',\n",
    "    height=600,\n",
    "    width=1000\n",
    ")\n"
   ]
  },
  {
   "cell_type": "code",
   "execution_count": 64,
   "metadata": {},
   "outputs": [
    {
     "data": {
      "application/vnd.plotly.v1+json": {
       "config": {
        "plotlyServerURL": "https://plot.ly"
       },
       "data": [
        {
         "alignmentgroup": "True",
         "hovertemplate": "Страна=%{x}<br>Сумма заказа ($)=%{y}<extra></extra>",
         "legendgroup": "Germany",
         "marker": {
          "color": "#636efa"
         },
         "name": "Germany",
         "notched": false,
         "offsetgroup": "Germany",
         "orientation": "v",
         "showlegend": true,
         "type": "box",
         "x": [
          "Germany",
          "Germany",
          "Germany",
          "Germany",
          "Germany",
          "Germany",
          "Germany",
          "Germany",
          "Germany",
          "Germany",
          "Germany",
          "Germany",
          "Germany",
          "Germany",
          "Germany",
          "Germany",
          "Germany",
          "Germany",
          "Germany",
          "Germany",
          "Germany",
          "Germany",
          "Germany",
          "Germany",
          "Germany",
          "Germany",
          "Germany",
          "Germany"
         ],
         "x0": " ",
         "xaxis": "x",
         "y": {
          "bdata": "rkfhehSu/z+uR+F6FK7vP65H4XoUrv8/uB6F61G4K0CuR+F6FK7/P65H4XoUrg9AuB6F61G4K0DD9Shcj8IXQFK4HoXr0SFAUrgehevRIUCuR+F6FK7vP65H4XoUrv8/uB6F61G4K0BSuB6F69EtQK5H4XoUrv8/rkfhehSuD0CuR+F6FK7/P65H4XoUrv8/uB6F61G4K0DD9Shcj8IXQK5H4XoUrg9Aw/UoXI/CF0BSuB6F69EhQK5H4XoUru8/rkfhehSu7z+uR+F6FK7/P65H4XoUrg9Aw/UoXI/CF0A=",
          "dtype": "f8"
         },
         "y0": " ",
         "yaxis": "y"
        },
        {
         "alignmentgroup": "True",
         "hovertemplate": "Страна=%{x}<br>Сумма заказа ($)=%{y}<extra></extra>",
         "legendgroup": "Norway",
         "marker": {
          "color": "#EF553B"
         },
         "name": "Norway",
         "notched": false,
         "offsetgroup": "Norway",
         "orientation": "v",
         "showlegend": true,
         "type": "box",
         "x": [
          "Norway",
          "Norway",
          "Norway",
          "Norway",
          "Norway",
          "Norway",
          "Norway"
         ],
         "x0": " ",
         "xaxis": "x",
         "y": {
          "bdata": "rkfhehSuD0DD9Shcj8IXQK5H4XoUru8/rkfhehSu/z+4HoXrUbgvQFK4HoXr0SFArkfhehSu/z8=",
          "dtype": "f8"
         },
         "y0": " ",
         "yaxis": "y"
        },
        {
         "alignmentgroup": "True",
         "hovertemplate": "Страна=%{x}<br>Сумма заказа ($)=%{y}<extra></extra>",
         "legendgroup": "Belgium",
         "marker": {
          "color": "#00cc96"
         },
         "name": "Belgium",
         "notched": false,
         "offsetgroup": "Belgium",
         "orientation": "v",
         "showlegend": true,
         "type": "box",
         "x": [
          "Belgium",
          "Belgium",
          "Belgium",
          "Belgium",
          "Belgium",
          "Belgium",
          "Belgium"
         ],
         "x0": " ",
         "xaxis": "x",
         "y": {
          "bdata": "w/UoXI/CF0CuR+F6FK7vP65H4XoUrv8/uB6F61G4K0BSuB6F69EhQK5H4XoUrv8/rkfhehSuD0A=",
          "dtype": "f8"
         },
         "y0": " ",
         "yaxis": "y"
        },
        {
         "alignmentgroup": "True",
         "hovertemplate": "Страна=%{x}<br>Сумма заказа ($)=%{y}<extra></extra>",
         "legendgroup": "Canada",
         "marker": {
          "color": "#ab63fa"
         },
         "name": "Canada",
         "notched": false,
         "offsetgroup": "Canada",
         "orientation": "v",
         "showlegend": true,
         "type": "box",
         "x": [
          "Canada",
          "Canada",
          "Canada",
          "Canada",
          "Canada",
          "Canada",
          "Canada",
          "Canada",
          "Canada",
          "Canada",
          "Canada",
          "Canada",
          "Canada",
          "Canada",
          "Canada",
          "Canada",
          "Canada",
          "Canada",
          "Canada",
          "Canada",
          "Canada",
          "Canada",
          "Canada",
          "Canada",
          "Canada",
          "Canada",
          "Canada",
          "Canada",
          "Canada",
          "Canada",
          "Canada",
          "Canada",
          "Canada",
          "Canada",
          "Canada",
          "Canada",
          "Canada",
          "Canada",
          "Canada",
          "Canada",
          "Canada",
          "Canada",
          "Canada",
          "Canada",
          "Canada",
          "Canada",
          "Canada",
          "Canada",
          "Canada",
          "Canada",
          "Canada",
          "Canada",
          "Canada",
          "Canada",
          "Canada",
          "Canada"
         ],
         "x0": " ",
         "xaxis": "x",
         "y": {
          "bdata": "UrgehevRIUBSuB6F69EhQK5H4XoUru8/rkfhehSu/z+4HoXrUbgrQK5H4XoUru8/rkfhehSu/z+uR+F6FK7/P7gehetRuCtArkfhehSuD0DD9Shcj8IXQNejcD0K1w9AUrgehevRI0C4HoXrUbgrQFK4HoXr0SFArkfhehSu/z+uR+F6FK7vP65H4XoUrv8/rkfhehSu/z+uR+F6FK4PQLgehetRuCtAUrgehevRIUCuR+F6FK7/P65H4XoUrg9Aw/UoXI/CF0C4HoXrUbgrQMP1KFyPwhdAUrgehevRIUCuR+F6FK7vP65H4XoUrv8/UrgehevRIUCuR+F6FK7vP65H4XoUrv8/rkfhehSuD0CuR+F6FK7/P65H4XoUrg9Aw/UoXI/CF0C4HoXrUbgrQMP1KFyPwhdArkfhehSu/z+uR+F6FK4PQK5H4XoUru8/UrgehevRIUDD9Shcj8IXQK5H4XoUru8/rkfhehSu/z+uR+F6FK7/P7gehetRuCtArkfhehSu/z+uR+F6FK7/P65H4XoUrg9AuB6F61G4K0CuR+F6FK4PQMP1KFyPwhdArkfhehSu7z/D9Shcj8IXQA==",
          "dtype": "f8"
         },
         "y0": " ",
         "yaxis": "y"
        },
        {
         "alignmentgroup": "True",
         "hovertemplate": "Страна=%{x}<br>Сумма заказа ($)=%{y}<extra></extra>",
         "legendgroup": "USA",
         "marker": {
          "color": "#FFA15A"
         },
         "name": "USA",
         "notched": false,
         "offsetgroup": "USA",
         "orientation": "v",
         "showlegend": true,
         "type": "box",
         "x": [
          "USA",
          "USA",
          "USA",
          "USA",
          "USA",
          "USA",
          "USA",
          "USA",
          "USA",
          "USA",
          "USA",
          "USA",
          "USA",
          "USA",
          "USA",
          "USA",
          "USA",
          "USA",
          "USA",
          "USA",
          "USA",
          "USA",
          "USA",
          "USA",
          "USA",
          "USA",
          "USA",
          "USA",
          "USA",
          "USA",
          "USA",
          "USA",
          "USA",
          "USA",
          "USA",
          "USA",
          "USA",
          "USA",
          "USA",
          "USA",
          "USA",
          "USA",
          "USA",
          "USA",
          "USA",
          "USA",
          "USA",
          "USA",
          "USA",
          "USA",
          "USA",
          "USA",
          "USA",
          "USA",
          "USA",
          "USA",
          "USA",
          "USA",
          "USA",
          "USA",
          "USA",
          "USA",
          "USA",
          "USA",
          "USA",
          "USA",
          "USA",
          "USA",
          "USA",
          "USA",
          "USA",
          "USA",
          "USA",
          "USA",
          "USA",
          "USA",
          "USA",
          "USA",
          "USA",
          "USA",
          "USA",
          "USA",
          "USA",
          "USA",
          "USA",
          "USA",
          "USA",
          "USA",
          "USA",
          "USA",
          "USA"
         ],
         "x0": " ",
         "xaxis": "x",
         "y": {
          "bdata": "uB6F61G4K0CuR+F6FK7vP65H4XoUrv8/rkfhehSu/z+uR+F6FK4PQMP1KFyPwhdAuB6F61G4K0CuR+F6FK4PQMP1KFyPwhdAUrgehevRIUDD9Shcj8IXQFK4HoXr0SFArkfhehSu7z+uR+F6FK7/P65H4XoUrv8/UrgehevRIUC4HoXrUbgrQK5H4XoUru8/rkfhehSu/z+uR+F6FK7/P65H4XoUrg9AuB6F61G4L0CuR+F6FK7vP65H4XoUrv8/rkfhehSu/z+uR+F6FK4PQMP1KFyPwhdAuB6F61G4K0CuR+F6FK7/P65H4XoUrg9Aw/UoXI/CF0BSuB6F69EhQLgehetRuCtAw/UoXI/CF0BSuB6F69EhQK5H4XoUru8/rkfhehSu/z9SuB6F69EhQK5H4XoUru8/rkfhehSu/z+uR+F6FK7/P65H4XoUrg9AUrgehevRIUBcj8L1KNwyQK5H4XoUru8/rkfhehSu/z+uR+F6FK7/P65H4XoUrg9Aw/UoXI/CF0C4HoXrUbgrQK5H4XoUrv8/rkfhehSuD0DD9Shcj8IXQLgehetRuCtAw/UoXI/CF0BSuB6F69EhQK5H4XoUru8/rkfhehSu/z9SuB6F69EhQK5H4XoUru8/rkfhehSu/z+uR+F6FK7/P65H4XoUrg9AUrgehevRJUBcj8L1KNw3QNejcD0K1/8/16NwPQrXD0DXo3A9CtcPQNejcD0K1x9A4XoUrkfhJ0C4HoXrUbgrQK5H4XoUrv8/rkfhehSu/z+uR+F6FK4PQMP1KFyPwhdAuB6F61G4K0CuR+F6FK4PQMP1KFyPwhdAUrgehevRIUCuR+F6FK7vP8P1KFyPwhdAUrgehevRIUCuR+F6FK7vP65H4XoUrv8/rkfhehSu/z9SuB6F69EhQLgehetRuCtArkfhehSu7z+uR+F6FK7/P65H4XoUrv8/rkfhehSuD0A=",
          "dtype": "f8"
         },
         "y0": " ",
         "yaxis": "y"
        },
        {
         "alignmentgroup": "True",
         "hovertemplate": "Страна=%{x}<br>Сумма заказа ($)=%{y}<extra></extra>",
         "legendgroup": "France",
         "marker": {
          "color": "#19d3f3"
         },
         "name": "France",
         "notched": false,
         "offsetgroup": "France",
         "orientation": "v",
         "showlegend": true,
         "type": "box",
         "x": [
          "France",
          "France",
          "France",
          "France",
          "France",
          "France",
          "France",
          "France",
          "France",
          "France",
          "France",
          "France",
          "France",
          "France",
          "France",
          "France",
          "France",
          "France",
          "France",
          "France",
          "France",
          "France",
          "France",
          "France",
          "France",
          "France",
          "France",
          "France",
          "France",
          "France",
          "France",
          "France",
          "France",
          "France",
          "France"
         ],
         "x0": " ",
         "xaxis": "x",
         "y": {
          "bdata": "rkfhehSu/z+uR+F6FK4PQLgehetRuCtAw/UoXI/CF0BSuB6F69EhQK5H4XoUru8/rkfhehSu/z+uR+F6FK7/P65H4XoUrv8/rkfhehSuD0C4HoXrUbgrQK5H4XoUrg9Aw/UoXI/CF0DD9Shcj8IXQFK4HoXr0SFArkfhehSu7z/Xo3A9Ctf/P9ejcD0K1wdA16NwPQrXD0C4HoXrUbgrQK5H4XoUrg9Aw/UoXI/CF0BSuB6F69EhQK5H4XoUru8/rkfhehSu/z+uR+F6FK7/P1yPwvUo3DBArkfhehSu/z+uR+F6FK4PQLgehetRuCtAw/UoXI/CF0BSuB6F69EhQFK4HoXr0SFArkfhehSu7z+uR+F6FK7/Pw==",
          "dtype": "f8"
         },
         "y0": " ",
         "yaxis": "y"
        },
        {
         "alignmentgroup": "True",
         "hovertemplate": "Страна=%{x}<br>Сумма заказа ($)=%{y}<extra></extra>",
         "legendgroup": "Ireland",
         "marker": {
          "color": "#FF6692"
         },
         "name": "Ireland",
         "notched": false,
         "offsetgroup": "Ireland",
         "orientation": "v",
         "showlegend": true,
         "type": "box",
         "x": [
          "Ireland",
          "Ireland",
          "Ireland",
          "Ireland",
          "Ireland",
          "Ireland",
          "Ireland"
         ],
         "x0": " ",
         "xaxis": "x",
         "y": {
          "bdata": "w/UoXI/CF0CuR+F6FK7vP65H4XoUrv8/XI/C9SjcNUBSuB6F69EhQK5H4XoUrv8/rkfhehSuD0A=",
          "dtype": "f8"
         },
         "y0": " ",
         "yaxis": "y"
        },
        {
         "alignmentgroup": "True",
         "hovertemplate": "Страна=%{x}<br>Сумма заказа ($)=%{y}<extra></extra>",
         "legendgroup": "United Kingdom",
         "marker": {
          "color": "#B6E880"
         },
         "name": "United Kingdom",
         "notched": false,
         "offsetgroup": "United Kingdom",
         "orientation": "v",
         "showlegend": true,
         "type": "box",
         "x": [
          "United Kingdom",
          "United Kingdom",
          "United Kingdom",
          "United Kingdom",
          "United Kingdom",
          "United Kingdom",
          "United Kingdom",
          "United Kingdom",
          "United Kingdom",
          "United Kingdom",
          "United Kingdom",
          "United Kingdom",
          "United Kingdom",
          "United Kingdom",
          "United Kingdom",
          "United Kingdom",
          "United Kingdom",
          "United Kingdom",
          "United Kingdom",
          "United Kingdom",
          "United Kingdom"
         ],
         "x0": " ",
         "xaxis": "x",
         "y": {
          "bdata": "UrgehevRIUCuR+F6FK7vP65H4XoUrv8/uB6F61G4K0BSuB6F69EhQK5H4XoUrv8/rkfhehSu/z+4HoXrUbgrQK5H4XoUrg9Aw/UoXI/CF0BSuB6F69EhQK5H4XoUru8/rkfhehSu/z+uR+F6FK4PQMP1KFyPwhdArkfhehSu7z+uR+F6FK7/P65H4XoUrv8/rkfhehSuD0C4HoXrUbgrQMP1KFyPwhdA",
          "dtype": "f8"
         },
         "y0": " ",
         "yaxis": "y"
        },
        {
         "alignmentgroup": "True",
         "hovertemplate": "Страна=%{x}<br>Сумма заказа ($)=%{y}<extra></extra>",
         "legendgroup": "Australia",
         "marker": {
          "color": "#FF97FF"
         },
         "name": "Australia",
         "notched": false,
         "offsetgroup": "Australia",
         "orientation": "v",
         "showlegend": true,
         "type": "box",
         "x": [
          "Australia",
          "Australia",
          "Australia",
          "Australia",
          "Australia",
          "Australia",
          "Australia"
         ],
         "x0": " ",
         "xaxis": "x",
         "y": {
          "bdata": "rkfhehSu/z+uR+F6FK4PQMP1KFyPwhdArkfhehSu7z+uR+F6FK7/P7gehetRuCtAUrgehevRIUA=",
          "dtype": "f8"
         },
         "y0": " ",
         "yaxis": "y"
        },
        {
         "alignmentgroup": "True",
         "hovertemplate": "Страна=%{x}<br>Сумма заказа ($)=%{y}<extra></extra>",
         "legendgroup": "Chile",
         "marker": {
          "color": "#FECB52"
         },
         "name": "Chile",
         "notched": false,
         "offsetgroup": "Chile",
         "orientation": "v",
         "showlegend": true,
         "type": "box",
         "x": [
          "Chile",
          "Chile",
          "Chile",
          "Chile",
          "Chile",
          "Chile",
          "Chile"
         ],
         "x0": " ",
         "xaxis": "x",
         "y": {
          "bdata": "rkfhehSu/z+4HoXrUbgrQClcj8L16DFArkfhehSu/z+uR+F6FK4PQMP1KFyPwhdArkfhehSu7z8=",
          "dtype": "f8"
         },
         "y0": " ",
         "yaxis": "y"
        },
        {
         "alignmentgroup": "True",
         "hovertemplate": "Страна=%{x}<br>Сумма заказа ($)=%{y}<extra></extra>",
         "legendgroup": "India",
         "marker": {
          "color": "#636efa"
         },
         "name": "India",
         "notched": false,
         "offsetgroup": "India",
         "orientation": "v",
         "showlegend": true,
         "type": "box",
         "x": [
          "India",
          "India",
          "India",
          "India",
          "India",
          "India",
          "India",
          "India",
          "India",
          "India",
          "India",
          "India",
          "India"
         ],
         "x0": " ",
         "xaxis": "x",
         "y": {
          "bdata": "rkfhehSuD0DD9Shcj8IXQNejcD0K1/8/rkfhehSu/z+4HoXrUbgrQFK4HoXr0SFArkfhehSu/z+4HoXrUbgrQFK4HoXr0SFArkfhehSu/z+uR+F6FK4PQMP1KFyPwhdA16NwPQrX/z8=",
          "dtype": "f8"
         },
         "y0": " ",
         "yaxis": "y"
        },
        {
         "alignmentgroup": "True",
         "hovertemplate": "Страна=%{x}<br>Сумма заказа ($)=%{y}<extra></extra>",
         "legendgroup": "Brazil",
         "marker": {
          "color": "#EF553B"
         },
         "name": "Brazil",
         "notched": false,
         "offsetgroup": "Brazil",
         "orientation": "v",
         "showlegend": true,
         "type": "box",
         "x": [
          "Brazil",
          "Brazil",
          "Brazil",
          "Brazil",
          "Brazil",
          "Brazil",
          "Brazil",
          "Brazil",
          "Brazil",
          "Brazil",
          "Brazil",
          "Brazil",
          "Brazil",
          "Brazil",
          "Brazil",
          "Brazil",
          "Brazil",
          "Brazil",
          "Brazil",
          "Brazil",
          "Brazil",
          "Brazil",
          "Brazil",
          "Brazil",
          "Brazil",
          "Brazil",
          "Brazil",
          "Brazil",
          "Brazil",
          "Brazil",
          "Brazil",
          "Brazil",
          "Brazil",
          "Brazil",
          "Brazil"
         ],
         "x0": " ",
         "xaxis": "x",
         "y": {
          "bdata": "UrgehevRIUCuR+F6FK7vP65H4XoUrv8/rkfhehSu/z+uR+F6FK4PQLgehetRuCtAw/UoXI/CF0DXo3A9CtcPQK5H4XoUrg9AUrgehevRIUCuR+F6FK7vP8P1KFyPwhdArkfhehSu/z+uR+F6FK7/P7gehetRuCtArkfhehSuD0CuR+F6FK7vP8P1KFyPwhdAUrgehevRIUCuR+F6FK7vP65H4XoUrv8/rkfhehSu/z+4HoXrUbgrQK5H4XoUrg9Aw/UoXI/CF0CuR+F6FK7/P1K4HoXr0SFAuB6F61G4K0CuR+F6FK7vP65H4XoUrv8/rkfhehSu/z+uR+F6FK4PQFK4HoXr0SFAuB6F61G4K0DD9Shcj8IXQA==",
          "dtype": "f8"
         },
         "y0": " ",
         "yaxis": "y"
        },
        {
         "alignmentgroup": "True",
         "hovertemplate": "Страна=%{x}<br>Сумма заказа ($)=%{y}<extra></extra>",
         "legendgroup": "Portugal",
         "marker": {
          "color": "#00cc96"
         },
         "name": "Portugal",
         "notched": false,
         "offsetgroup": "Portugal",
         "orientation": "v",
         "showlegend": true,
         "type": "box",
         "x": [
          "Portugal",
          "Portugal",
          "Portugal",
          "Portugal",
          "Portugal",
          "Portugal",
          "Portugal",
          "Portugal",
          "Portugal",
          "Portugal",
          "Portugal",
          "Portugal",
          "Portugal",
          "Portugal"
         ],
         "x0": " ",
         "xaxis": "x",
         "y": {
          "bdata": "rkfhehSu/z+uR+F6FK4PQMP1KFyPwhdArkfhehSu7z+uR+F6FK7/P65H4XoUrg9Aw/UoXI/CF0CuR+F6FK7vP65H4XoUrv8/uB6F61G4K0BSuB6F69ElQK5H4XoUrv8/uB6F61G4K0BSuB6F69EhQA==",
          "dtype": "f8"
         },
         "y0": " ",
         "yaxis": "y"
        },
        {
         "alignmentgroup": "True",
         "hovertemplate": "Страна=%{x}<br>Сумма заказа ($)=%{y}<extra></extra>",
         "legendgroup": "Netherlands",
         "marker": {
          "color": "#ab63fa"
         },
         "name": "Netherlands",
         "notched": false,
         "offsetgroup": "Netherlands",
         "orientation": "v",
         "showlegend": true,
         "type": "box",
         "x": [
          "Netherlands",
          "Netherlands",
          "Netherlands",
          "Netherlands",
          "Netherlands",
          "Netherlands",
          "Netherlands"
         ],
         "x0": " ",
         "xaxis": "x",
         "y": {
          "bdata": "UrgehevRIUCuR+F6FK7/P65H4XoUrg9A4XoUrkfhIUCuR+F6FK7vP65H4XoUrv8/uB6F61G4K0A=",
          "dtype": "f8"
         },
         "y0": " ",
         "yaxis": "y"
        },
        {
         "alignmentgroup": "True",
         "hovertemplate": "Страна=%{x}<br>Сумма заказа ($)=%{y}<extra></extra>",
         "legendgroup": "Spain",
         "marker": {
          "color": "#FFA15A"
         },
         "name": "Spain",
         "notched": false,
         "offsetgroup": "Spain",
         "orientation": "v",
         "showlegend": true,
         "type": "box",
         "x": [
          "Spain",
          "Spain",
          "Spain",
          "Spain",
          "Spain",
          "Spain",
          "Spain"
         ],
         "x0": " ",
         "xaxis": "x",
         "y": {
          "bdata": "rkfhehSu7z+uR+F6FK7/P7gehetRuCtAUrgehevRIUCuR+F6FK7/P65H4XoUrg9Aw/UoXI/CF0A=",
          "dtype": "f8"
         },
         "y0": " ",
         "yaxis": "y"
        },
        {
         "alignmentgroup": "True",
         "hovertemplate": "Страна=%{x}<br>Сумма заказа ($)=%{y}<extra></extra>",
         "legendgroup": "Sweden",
         "marker": {
          "color": "#19d3f3"
         },
         "name": "Sweden",
         "notched": false,
         "offsetgroup": "Sweden",
         "orientation": "v",
         "showlegend": true,
         "type": "box",
         "x": [
          "Sweden",
          "Sweden",
          "Sweden",
          "Sweden",
          "Sweden",
          "Sweden",
          "Sweden"
         ],
         "x0": " ",
         "xaxis": "x",
         "y": {
          "bdata": "rkfhehSu/z+uR+F6FK4PQMP1KFyPwhtArkfhehSu7z+uR+F6FK7/P7gehetRuCtAUrgehevRIUA=",
          "dtype": "f8"
         },
         "y0": " ",
         "yaxis": "y"
        },
        {
         "alignmentgroup": "True",
         "hovertemplate": "Страна=%{x}<br>Сумма заказа ($)=%{y}<extra></extra>",
         "legendgroup": "Czech Republic",
         "marker": {
          "color": "#FF6692"
         },
         "name": "Czech Republic",
         "notched": false,
         "offsetgroup": "Czech Republic",
         "orientation": "v",
         "showlegend": true,
         "type": "box",
         "x": [
          "Czech Republic",
          "Czech Republic",
          "Czech Republic",
          "Czech Republic",
          "Czech Republic",
          "Czech Republic",
          "Czech Republic",
          "Czech Republic",
          "Czech Republic",
          "Czech Republic",
          "Czech Republic",
          "Czech Republic",
          "Czech Republic",
          "Czech Republic"
         ],
         "x0": " ",
         "xaxis": "x",
         "y": {
          "bdata": "UrgehevRIUCuR+F6FK7/P65H4XoUrg9Aw/UoXI/CF0CuR+F6FK7vP65H4XoUrv8/rkfhehSuD0DD9Shcj8IXQK5H4XoUru8/rkfhehSu/z9cj8L1KNwwQFK4HoXr0SFArkfhehSu/z9cj8L1KNw5QA==",
          "dtype": "f8"
         },
         "y0": " ",
         "yaxis": "y"
        },
        {
         "alignmentgroup": "True",
         "hovertemplate": "Страна=%{x}<br>Сумма заказа ($)=%{y}<extra></extra>",
         "legendgroup": "Finland",
         "marker": {
          "color": "#B6E880"
         },
         "name": "Finland",
         "notched": false,
         "offsetgroup": "Finland",
         "orientation": "v",
         "showlegend": true,
         "type": "box",
         "x": [
          "Finland",
          "Finland",
          "Finland",
          "Finland",
          "Finland",
          "Finland",
          "Finland"
         ],
         "x0": " ",
         "xaxis": "x",
         "y": {
          "bdata": "UrgehevRIUCuR+F6FK7/P9ejcD0K1x9Aw/UoXI/CF0CuR+F6FK7vP65H4XoUrv8/uB6F61G4K0A=",
          "dtype": "f8"
         },
         "y0": " ",
         "yaxis": "y"
        },
        {
         "alignmentgroup": "True",
         "hovertemplate": "Страна=%{x}<br>Сумма заказа ($)=%{y}<extra></extra>",
         "legendgroup": "Denmark",
         "marker": {
          "color": "#FF97FF"
         },
         "name": "Denmark",
         "notched": false,
         "offsetgroup": "Denmark",
         "orientation": "v",
         "showlegend": true,
         "type": "box",
         "x": [
          "Denmark",
          "Denmark",
          "Denmark",
          "Denmark",
          "Denmark",
          "Denmark",
          "Denmark"
         ],
         "x0": " ",
         "xaxis": "x",
         "y": {
          "bdata": "rkfhehSu/z+uR+F6FK4PQMP1KFyPwhdArkfhehSu7z+uR+F6FK7/P7gehetRuCtAUrgehevRIUA=",
          "dtype": "f8"
         },
         "y0": " ",
         "yaxis": "y"
        },
        {
         "alignmentgroup": "True",
         "hovertemplate": "Страна=%{x}<br>Сумма заказа ($)=%{y}<extra></extra>",
         "legendgroup": "Italy",
         "marker": {
          "color": "#FECB52"
         },
         "name": "Italy",
         "notched": false,
         "offsetgroup": "Italy",
         "orientation": "v",
         "showlegend": true,
         "type": "box",
         "x": [
          "Italy",
          "Italy",
          "Italy",
          "Italy",
          "Italy",
          "Italy",
          "Italy"
         ],
         "x0": " ",
         "xaxis": "x",
         "y": {
          "bdata": "rkfhehSu/z+uR+F6FK4PQMP1KFyPwhdArkfhehSu7z+uR+F6FK7/P7gehetRuCtAUrgehevRIUA=",
          "dtype": "f8"
         },
         "y0": " ",
         "yaxis": "y"
        },
        {
         "alignmentgroup": "True",
         "hovertemplate": "Страна=%{x}<br>Сумма заказа ($)=%{y}<extra></extra>",
         "legendgroup": "Poland",
         "marker": {
          "color": "#636efa"
         },
         "name": "Poland",
         "notched": false,
         "offsetgroup": "Poland",
         "orientation": "v",
         "showlegend": true,
         "type": "box",
         "x": [
          "Poland",
          "Poland",
          "Poland",
          "Poland",
          "Poland",
          "Poland",
          "Poland"
         ],
         "x0": " ",
         "xaxis": "x",
         "y": {
          "bdata": "rkfhehSu/z+4HoXrUbgrQFK4HoXr0SFArkfhehSu/z+uR+F6FK4PQMP1KFyPwhdArkfhehSu7z8=",
          "dtype": "f8"
         },
         "y0": " ",
         "yaxis": "y"
        },
        {
         "alignmentgroup": "True",
         "hovertemplate": "Страна=%{x}<br>Сумма заказа ($)=%{y}<extra></extra>",
         "legendgroup": "Austria",
         "marker": {
          "color": "#EF553B"
         },
         "name": "Austria",
         "notched": false,
         "offsetgroup": "Austria",
         "orientation": "v",
         "showlegend": true,
         "type": "box",
         "x": [
          "Austria",
          "Austria",
          "Austria",
          "Austria",
          "Austria",
          "Austria",
          "Austria"
         ],
         "x0": " ",
         "xaxis": "x",
         "y": {
          "bdata": "rkfhehSu/z9cj8L1KNwyQFK4HoXr0SFArkfhehSu/z+uR+F6FK4PQMP1KFyPwhdArkfhehSu7z8=",
          "dtype": "f8"
         },
         "y0": " ",
         "yaxis": "y"
        },
        {
         "alignmentgroup": "True",
         "hovertemplate": "Страна=%{x}<br>Сумма заказа ($)=%{y}<extra></extra>",
         "legendgroup": "Hungary",
         "marker": {
          "color": "#00cc96"
         },
         "name": "Hungary",
         "notched": false,
         "offsetgroup": "Hungary",
         "orientation": "v",
         "showlegend": true,
         "type": "box",
         "x": [
          "Hungary",
          "Hungary",
          "Hungary",
          "Hungary",
          "Hungary",
          "Hungary",
          "Hungary"
         ],
         "x0": " ",
         "xaxis": "x",
         "y": {
          "bdata": "rkfhehSu/z9cj8L1KNw1QFK4HoXr0SFArkfhehSu/z+uR+F6FK4PQMP1KFyPwhdArkfhehSu7z8=",
          "dtype": "f8"
         },
         "y0": " ",
         "yaxis": "y"
        },
        {
         "alignmentgroup": "True",
         "hovertemplate": "Страна=%{x}<br>Сумма заказа ($)=%{y}<extra></extra>",
         "legendgroup": "Argentina",
         "marker": {
          "color": "#ab63fa"
         },
         "name": "Argentina",
         "notched": false,
         "offsetgroup": "Argentina",
         "orientation": "v",
         "showlegend": true,
         "type": "box",
         "x": [
          "Argentina",
          "Argentina",
          "Argentina",
          "Argentina",
          "Argentina",
          "Argentina",
          "Argentina"
         ],
         "x0": " ",
         "xaxis": "x",
         "y": {
          "bdata": "rkfhehSu/z+uR+F6FK4PQMP1KFyPwhdArkfhehSu7z+uR+F6FK7/P7gehetRuCtAUrgehevRIUA=",
          "dtype": "f8"
         },
         "y0": " ",
         "yaxis": "y"
        }
       ],
       "layout": {
        "boxmode": "overlay",
        "height": 600,
        "legend": {
         "title": {
          "text": "Страна"
         },
         "tracegroupgap": 0
        },
        "template": {
         "data": {
          "bar": [
           {
            "error_x": {
             "color": "#2a3f5f"
            },
            "error_y": {
             "color": "#2a3f5f"
            },
            "marker": {
             "line": {
              "color": "#E5ECF6",
              "width": 0.5
             },
             "pattern": {
              "fillmode": "overlay",
              "size": 10,
              "solidity": 0.2
             }
            },
            "type": "bar"
           }
          ],
          "barpolar": [
           {
            "marker": {
             "line": {
              "color": "#E5ECF6",
              "width": 0.5
             },
             "pattern": {
              "fillmode": "overlay",
              "size": 10,
              "solidity": 0.2
             }
            },
            "type": "barpolar"
           }
          ],
          "carpet": [
           {
            "aaxis": {
             "endlinecolor": "#2a3f5f",
             "gridcolor": "white",
             "linecolor": "white",
             "minorgridcolor": "white",
             "startlinecolor": "#2a3f5f"
            },
            "baxis": {
             "endlinecolor": "#2a3f5f",
             "gridcolor": "white",
             "linecolor": "white",
             "minorgridcolor": "white",
             "startlinecolor": "#2a3f5f"
            },
            "type": "carpet"
           }
          ],
          "choropleth": [
           {
            "colorbar": {
             "outlinewidth": 0,
             "ticks": ""
            },
            "type": "choropleth"
           }
          ],
          "contour": [
           {
            "colorbar": {
             "outlinewidth": 0,
             "ticks": ""
            },
            "colorscale": [
             [
              0,
              "#0d0887"
             ],
             [
              0.1111111111111111,
              "#46039f"
             ],
             [
              0.2222222222222222,
              "#7201a8"
             ],
             [
              0.3333333333333333,
              "#9c179e"
             ],
             [
              0.4444444444444444,
              "#bd3786"
             ],
             [
              0.5555555555555556,
              "#d8576b"
             ],
             [
              0.6666666666666666,
              "#ed7953"
             ],
             [
              0.7777777777777778,
              "#fb9f3a"
             ],
             [
              0.8888888888888888,
              "#fdca26"
             ],
             [
              1,
              "#f0f921"
             ]
            ],
            "type": "contour"
           }
          ],
          "contourcarpet": [
           {
            "colorbar": {
             "outlinewidth": 0,
             "ticks": ""
            },
            "type": "contourcarpet"
           }
          ],
          "heatmap": [
           {
            "colorbar": {
             "outlinewidth": 0,
             "ticks": ""
            },
            "colorscale": [
             [
              0,
              "#0d0887"
             ],
             [
              0.1111111111111111,
              "#46039f"
             ],
             [
              0.2222222222222222,
              "#7201a8"
             ],
             [
              0.3333333333333333,
              "#9c179e"
             ],
             [
              0.4444444444444444,
              "#bd3786"
             ],
             [
              0.5555555555555556,
              "#d8576b"
             ],
             [
              0.6666666666666666,
              "#ed7953"
             ],
             [
              0.7777777777777778,
              "#fb9f3a"
             ],
             [
              0.8888888888888888,
              "#fdca26"
             ],
             [
              1,
              "#f0f921"
             ]
            ],
            "type": "heatmap"
           }
          ],
          "histogram": [
           {
            "marker": {
             "pattern": {
              "fillmode": "overlay",
              "size": 10,
              "solidity": 0.2
             }
            },
            "type": "histogram"
           }
          ],
          "histogram2d": [
           {
            "colorbar": {
             "outlinewidth": 0,
             "ticks": ""
            },
            "colorscale": [
             [
              0,
              "#0d0887"
             ],
             [
              0.1111111111111111,
              "#46039f"
             ],
             [
              0.2222222222222222,
              "#7201a8"
             ],
             [
              0.3333333333333333,
              "#9c179e"
             ],
             [
              0.4444444444444444,
              "#bd3786"
             ],
             [
              0.5555555555555556,
              "#d8576b"
             ],
             [
              0.6666666666666666,
              "#ed7953"
             ],
             [
              0.7777777777777778,
              "#fb9f3a"
             ],
             [
              0.8888888888888888,
              "#fdca26"
             ],
             [
              1,
              "#f0f921"
             ]
            ],
            "type": "histogram2d"
           }
          ],
          "histogram2dcontour": [
           {
            "colorbar": {
             "outlinewidth": 0,
             "ticks": ""
            },
            "colorscale": [
             [
              0,
              "#0d0887"
             ],
             [
              0.1111111111111111,
              "#46039f"
             ],
             [
              0.2222222222222222,
              "#7201a8"
             ],
             [
              0.3333333333333333,
              "#9c179e"
             ],
             [
              0.4444444444444444,
              "#bd3786"
             ],
             [
              0.5555555555555556,
              "#d8576b"
             ],
             [
              0.6666666666666666,
              "#ed7953"
             ],
             [
              0.7777777777777778,
              "#fb9f3a"
             ],
             [
              0.8888888888888888,
              "#fdca26"
             ],
             [
              1,
              "#f0f921"
             ]
            ],
            "type": "histogram2dcontour"
           }
          ],
          "mesh3d": [
           {
            "colorbar": {
             "outlinewidth": 0,
             "ticks": ""
            },
            "type": "mesh3d"
           }
          ],
          "parcoords": [
           {
            "line": {
             "colorbar": {
              "outlinewidth": 0,
              "ticks": ""
             }
            },
            "type": "parcoords"
           }
          ],
          "pie": [
           {
            "automargin": true,
            "type": "pie"
           }
          ],
          "scatter": [
           {
            "fillpattern": {
             "fillmode": "overlay",
             "size": 10,
             "solidity": 0.2
            },
            "type": "scatter"
           }
          ],
          "scatter3d": [
           {
            "line": {
             "colorbar": {
              "outlinewidth": 0,
              "ticks": ""
             }
            },
            "marker": {
             "colorbar": {
              "outlinewidth": 0,
              "ticks": ""
             }
            },
            "type": "scatter3d"
           }
          ],
          "scattercarpet": [
           {
            "marker": {
             "colorbar": {
              "outlinewidth": 0,
              "ticks": ""
             }
            },
            "type": "scattercarpet"
           }
          ],
          "scattergeo": [
           {
            "marker": {
             "colorbar": {
              "outlinewidth": 0,
              "ticks": ""
             }
            },
            "type": "scattergeo"
           }
          ],
          "scattergl": [
           {
            "marker": {
             "colorbar": {
              "outlinewidth": 0,
              "ticks": ""
             }
            },
            "type": "scattergl"
           }
          ],
          "scattermap": [
           {
            "marker": {
             "colorbar": {
              "outlinewidth": 0,
              "ticks": ""
             }
            },
            "type": "scattermap"
           }
          ],
          "scattermapbox": [
           {
            "marker": {
             "colorbar": {
              "outlinewidth": 0,
              "ticks": ""
             }
            },
            "type": "scattermapbox"
           }
          ],
          "scatterpolar": [
           {
            "marker": {
             "colorbar": {
              "outlinewidth": 0,
              "ticks": ""
             }
            },
            "type": "scatterpolar"
           }
          ],
          "scatterpolargl": [
           {
            "marker": {
             "colorbar": {
              "outlinewidth": 0,
              "ticks": ""
             }
            },
            "type": "scatterpolargl"
           }
          ],
          "scatterternary": [
           {
            "marker": {
             "colorbar": {
              "outlinewidth": 0,
              "ticks": ""
             }
            },
            "type": "scatterternary"
           }
          ],
          "surface": [
           {
            "colorbar": {
             "outlinewidth": 0,
             "ticks": ""
            },
            "colorscale": [
             [
              0,
              "#0d0887"
             ],
             [
              0.1111111111111111,
              "#46039f"
             ],
             [
              0.2222222222222222,
              "#7201a8"
             ],
             [
              0.3333333333333333,
              "#9c179e"
             ],
             [
              0.4444444444444444,
              "#bd3786"
             ],
             [
              0.5555555555555556,
              "#d8576b"
             ],
             [
              0.6666666666666666,
              "#ed7953"
             ],
             [
              0.7777777777777778,
              "#fb9f3a"
             ],
             [
              0.8888888888888888,
              "#fdca26"
             ],
             [
              1,
              "#f0f921"
             ]
            ],
            "type": "surface"
           }
          ],
          "table": [
           {
            "cells": {
             "fill": {
              "color": "#EBF0F8"
             },
             "line": {
              "color": "white"
             }
            },
            "header": {
             "fill": {
              "color": "#C8D4E3"
             },
             "line": {
              "color": "white"
             }
            },
            "type": "table"
           }
          ]
         },
         "layout": {
          "annotationdefaults": {
           "arrowcolor": "#2a3f5f",
           "arrowhead": 0,
           "arrowwidth": 1
          },
          "autotypenumbers": "strict",
          "coloraxis": {
           "colorbar": {
            "outlinewidth": 0,
            "ticks": ""
           }
          },
          "colorscale": {
           "diverging": [
            [
             0,
             "#8e0152"
            ],
            [
             0.1,
             "#c51b7d"
            ],
            [
             0.2,
             "#de77ae"
            ],
            [
             0.3,
             "#f1b6da"
            ],
            [
             0.4,
             "#fde0ef"
            ],
            [
             0.5,
             "#f7f7f7"
            ],
            [
             0.6,
             "#e6f5d0"
            ],
            [
             0.7,
             "#b8e186"
            ],
            [
             0.8,
             "#7fbc41"
            ],
            [
             0.9,
             "#4d9221"
            ],
            [
             1,
             "#276419"
            ]
           ],
           "sequential": [
            [
             0,
             "#0d0887"
            ],
            [
             0.1111111111111111,
             "#46039f"
            ],
            [
             0.2222222222222222,
             "#7201a8"
            ],
            [
             0.3333333333333333,
             "#9c179e"
            ],
            [
             0.4444444444444444,
             "#bd3786"
            ],
            [
             0.5555555555555556,
             "#d8576b"
            ],
            [
             0.6666666666666666,
             "#ed7953"
            ],
            [
             0.7777777777777778,
             "#fb9f3a"
            ],
            [
             0.8888888888888888,
             "#fdca26"
            ],
            [
             1,
             "#f0f921"
            ]
           ],
           "sequentialminus": [
            [
             0,
             "#0d0887"
            ],
            [
             0.1111111111111111,
             "#46039f"
            ],
            [
             0.2222222222222222,
             "#7201a8"
            ],
            [
             0.3333333333333333,
             "#9c179e"
            ],
            [
             0.4444444444444444,
             "#bd3786"
            ],
            [
             0.5555555555555556,
             "#d8576b"
            ],
            [
             0.6666666666666666,
             "#ed7953"
            ],
            [
             0.7777777777777778,
             "#fb9f3a"
            ],
            [
             0.8888888888888888,
             "#fdca26"
            ],
            [
             1,
             "#f0f921"
            ]
           ]
          },
          "colorway": [
           "#636efa",
           "#EF553B",
           "#00cc96",
           "#ab63fa",
           "#FFA15A",
           "#19d3f3",
           "#FF6692",
           "#B6E880",
           "#FF97FF",
           "#FECB52"
          ],
          "font": {
           "color": "#2a3f5f"
          },
          "geo": {
           "bgcolor": "white",
           "lakecolor": "white",
           "landcolor": "#E5ECF6",
           "showlakes": true,
           "showland": true,
           "subunitcolor": "white"
          },
          "hoverlabel": {
           "align": "left"
          },
          "hovermode": "closest",
          "mapbox": {
           "style": "light"
          },
          "paper_bgcolor": "white",
          "plot_bgcolor": "#E5ECF6",
          "polar": {
           "angularaxis": {
            "gridcolor": "white",
            "linecolor": "white",
            "ticks": ""
           },
           "bgcolor": "#E5ECF6",
           "radialaxis": {
            "gridcolor": "white",
            "linecolor": "white",
            "ticks": ""
           }
          },
          "scene": {
           "xaxis": {
            "backgroundcolor": "#E5ECF6",
            "gridcolor": "white",
            "gridwidth": 2,
            "linecolor": "white",
            "showbackground": true,
            "ticks": "",
            "zerolinecolor": "white"
           },
           "yaxis": {
            "backgroundcolor": "#E5ECF6",
            "gridcolor": "white",
            "gridwidth": 2,
            "linecolor": "white",
            "showbackground": true,
            "ticks": "",
            "zerolinecolor": "white"
           },
           "zaxis": {
            "backgroundcolor": "#E5ECF6",
            "gridcolor": "white",
            "gridwidth": 2,
            "linecolor": "white",
            "showbackground": true,
            "ticks": "",
            "zerolinecolor": "white"
           }
          },
          "shapedefaults": {
           "line": {
            "color": "#2a3f5f"
           }
          },
          "ternary": {
           "aaxis": {
            "gridcolor": "white",
            "linecolor": "white",
            "ticks": ""
           },
           "baxis": {
            "gridcolor": "white",
            "linecolor": "white",
            "ticks": ""
           },
           "bgcolor": "#E5ECF6",
           "caxis": {
            "gridcolor": "white",
            "linecolor": "white",
            "ticks": ""
           }
          },
          "title": {
           "x": 0.05
          },
          "xaxis": {
           "automargin": true,
           "gridcolor": "white",
           "linecolor": "white",
           "ticks": "",
           "title": {
            "standoff": 15
           },
           "zerolinecolor": "white",
           "zerolinewidth": 2
          },
          "yaxis": {
           "automargin": true,
           "gridcolor": "white",
           "linecolor": "white",
           "ticks": "",
           "title": {
            "standoff": 15
           },
           "zerolinecolor": "white",
           "zerolinewidth": 2
          }
         }
        },
        "title": {
         "text": "Распределение доходов по странам"
        },
        "width": 1000,
        "xaxis": {
         "anchor": "y",
         "categoryarray": [
          "Germany",
          "Norway",
          "Belgium",
          "Canada",
          "USA",
          "France",
          "Ireland",
          "United Kingdom",
          "Australia",
          "Chile",
          "India",
          "Brazil",
          "Portugal",
          "Netherlands",
          "Spain",
          "Sweden",
          "Czech Republic",
          "Finland",
          "Denmark",
          "Italy",
          "Poland",
          "Austria",
          "Hungary",
          "Argentina"
         ],
         "categoryorder": "array",
         "domain": [
          0,
          1
         ],
         "title": {
          "text": "Страна"
         }
        },
        "yaxis": {
         "anchor": "x",
         "domain": [
          0,
          1
         ],
         "title": {
          "text": "Сумма заказа ($)"
         }
        }
       }
      }
     },
     "metadata": {},
     "output_type": "display_data"
    }
   ],
   "source": [
    "fig"
   ]
  },
  {
   "cell_type": "markdown",
   "metadata": {},
   "source": [
    "4.На основе данных из таблицы invoice создайте линейчатую диаграмму, показывающую изменение дохода по месяцам за 2025 год."
   ]
  },
  {
   "cell_type": "code",
   "execution_count": 69,
   "metadata": {},
   "outputs": [],
   "source": [
    "query = text(\"\"\"\n",
    "    SELECT \n",
    "        TO_CHAR(invoice_date, 'YYYY-MM') AS month,\n",
    "        SUM(total) AS revenue\n",
    "    FROM invoice\n",
    "    WHERE EXTRACT(YEAR FROM invoice_date) = 2025\n",
    "    GROUP BY TO_CHAR(invoice_date, 'YYYY-MM'), EXTRACT(MONTH FROM invoice_date)\n",
    "    ORDER BY EXTRACT(MONTH FROM invoice_date)\n",
    "\"\"\")\n",
    "\n",
    "# Получение данных\n",
    "with set_connection() as conn:\n",
    "    df = pd.read_sql(query, conn)\n"
   ]
  },
  {
   "cell_type": "code",
   "execution_count": 71,
   "metadata": {},
   "outputs": [],
   "source": [
    "df['month_name'] = pd.to_datetime(df['month']).dt.strftime('%B')"
   ]
  },
  {
   "cell_type": "code",
   "execution_count": 73,
   "metadata": {},
   "outputs": [],
   "source": [
    "fig = px.bar(\n",
    "    df,\n",
    "    x='month_name',\n",
    "    y='revenue',\n",
    "    title='Динамика доходов по месяцам 2025 года',\n",
    "    labels={\n",
    "        'month_name': 'Месяц',\n",
    "        'revenue': 'Доход ($)'\n",
    "    },\n",
    "    color='revenue',\n",
    "    color_continuous_scale='Bluered',\n",
    "    height=600\n",
    ")"
   ]
  },
  {
   "cell_type": "code",
   "execution_count": 74,
   "metadata": {},
   "outputs": [
    {
     "data": {
      "application/vnd.plotly.v1+json": {
       "config": {
        "plotlyServerURL": "https://plot.ly"
       },
       "data": [
        {
         "hovertemplate": "Месяц=%{x}<br>Доход ($)=%{marker.color}<extra></extra>",
         "legendgroup": "",
         "marker": {
          "color": {
           "bdata": "j8L1KFzPQkC4HoXrUbg7QI/C9Shcz0JAFK5H4XrUQECPwvUoXM9CQI/C9Shcz0JAj8L1KFzPQkCPwvUoXM9CQI/C9Shcz0JAj8L1KFzPQkCPwvUoXM9IQI/C9ShcT0NA",
           "dtype": "f8"
          },
          "coloraxis": "coloraxis",
          "pattern": {
           "shape": ""
          }
         },
         "name": "",
         "orientation": "v",
         "showlegend": false,
         "textposition": "auto",
         "type": "bar",
         "x": [
          "January",
          "February",
          "March",
          "April",
          "May",
          "June",
          "July",
          "August",
          "September",
          "October",
          "November",
          "December"
         ],
         "xaxis": "x",
         "y": {
          "bdata": "j8L1KFzPQkC4HoXrUbg7QI/C9Shcz0JAFK5H4XrUQECPwvUoXM9CQI/C9Shcz0JAj8L1KFzPQkCPwvUoXM9CQI/C9Shcz0JAj8L1KFzPQkCPwvUoXM9IQI/C9ShcT0NA",
          "dtype": "f8"
         },
         "yaxis": "y"
        }
       ],
       "layout": {
        "barmode": "relative",
        "coloraxis": {
         "colorbar": {
          "title": {
           "text": "Доход ($)"
          }
         },
         "colorscale": [
          [
           0,
           "rgb(0,0,255)"
          ],
          [
           1,
           "rgb(255,0,0)"
          ]
         ]
        },
        "height": 600,
        "legend": {
         "tracegroupgap": 0
        },
        "template": {
         "data": {
          "bar": [
           {
            "error_x": {
             "color": "#2a3f5f"
            },
            "error_y": {
             "color": "#2a3f5f"
            },
            "marker": {
             "line": {
              "color": "#E5ECF6",
              "width": 0.5
             },
             "pattern": {
              "fillmode": "overlay",
              "size": 10,
              "solidity": 0.2
             }
            },
            "type": "bar"
           }
          ],
          "barpolar": [
           {
            "marker": {
             "line": {
              "color": "#E5ECF6",
              "width": 0.5
             },
             "pattern": {
              "fillmode": "overlay",
              "size": 10,
              "solidity": 0.2
             }
            },
            "type": "barpolar"
           }
          ],
          "carpet": [
           {
            "aaxis": {
             "endlinecolor": "#2a3f5f",
             "gridcolor": "white",
             "linecolor": "white",
             "minorgridcolor": "white",
             "startlinecolor": "#2a3f5f"
            },
            "baxis": {
             "endlinecolor": "#2a3f5f",
             "gridcolor": "white",
             "linecolor": "white",
             "minorgridcolor": "white",
             "startlinecolor": "#2a3f5f"
            },
            "type": "carpet"
           }
          ],
          "choropleth": [
           {
            "colorbar": {
             "outlinewidth": 0,
             "ticks": ""
            },
            "type": "choropleth"
           }
          ],
          "contour": [
           {
            "colorbar": {
             "outlinewidth": 0,
             "ticks": ""
            },
            "colorscale": [
             [
              0,
              "#0d0887"
             ],
             [
              0.1111111111111111,
              "#46039f"
             ],
             [
              0.2222222222222222,
              "#7201a8"
             ],
             [
              0.3333333333333333,
              "#9c179e"
             ],
             [
              0.4444444444444444,
              "#bd3786"
             ],
             [
              0.5555555555555556,
              "#d8576b"
             ],
             [
              0.6666666666666666,
              "#ed7953"
             ],
             [
              0.7777777777777778,
              "#fb9f3a"
             ],
             [
              0.8888888888888888,
              "#fdca26"
             ],
             [
              1,
              "#f0f921"
             ]
            ],
            "type": "contour"
           }
          ],
          "contourcarpet": [
           {
            "colorbar": {
             "outlinewidth": 0,
             "ticks": ""
            },
            "type": "contourcarpet"
           }
          ],
          "heatmap": [
           {
            "colorbar": {
             "outlinewidth": 0,
             "ticks": ""
            },
            "colorscale": [
             [
              0,
              "#0d0887"
             ],
             [
              0.1111111111111111,
              "#46039f"
             ],
             [
              0.2222222222222222,
              "#7201a8"
             ],
             [
              0.3333333333333333,
              "#9c179e"
             ],
             [
              0.4444444444444444,
              "#bd3786"
             ],
             [
              0.5555555555555556,
              "#d8576b"
             ],
             [
              0.6666666666666666,
              "#ed7953"
             ],
             [
              0.7777777777777778,
              "#fb9f3a"
             ],
             [
              0.8888888888888888,
              "#fdca26"
             ],
             [
              1,
              "#f0f921"
             ]
            ],
            "type": "heatmap"
           }
          ],
          "histogram": [
           {
            "marker": {
             "pattern": {
              "fillmode": "overlay",
              "size": 10,
              "solidity": 0.2
             }
            },
            "type": "histogram"
           }
          ],
          "histogram2d": [
           {
            "colorbar": {
             "outlinewidth": 0,
             "ticks": ""
            },
            "colorscale": [
             [
              0,
              "#0d0887"
             ],
             [
              0.1111111111111111,
              "#46039f"
             ],
             [
              0.2222222222222222,
              "#7201a8"
             ],
             [
              0.3333333333333333,
              "#9c179e"
             ],
             [
              0.4444444444444444,
              "#bd3786"
             ],
             [
              0.5555555555555556,
              "#d8576b"
             ],
             [
              0.6666666666666666,
              "#ed7953"
             ],
             [
              0.7777777777777778,
              "#fb9f3a"
             ],
             [
              0.8888888888888888,
              "#fdca26"
             ],
             [
              1,
              "#f0f921"
             ]
            ],
            "type": "histogram2d"
           }
          ],
          "histogram2dcontour": [
           {
            "colorbar": {
             "outlinewidth": 0,
             "ticks": ""
            },
            "colorscale": [
             [
              0,
              "#0d0887"
             ],
             [
              0.1111111111111111,
              "#46039f"
             ],
             [
              0.2222222222222222,
              "#7201a8"
             ],
             [
              0.3333333333333333,
              "#9c179e"
             ],
             [
              0.4444444444444444,
              "#bd3786"
             ],
             [
              0.5555555555555556,
              "#d8576b"
             ],
             [
              0.6666666666666666,
              "#ed7953"
             ],
             [
              0.7777777777777778,
              "#fb9f3a"
             ],
             [
              0.8888888888888888,
              "#fdca26"
             ],
             [
              1,
              "#f0f921"
             ]
            ],
            "type": "histogram2dcontour"
           }
          ],
          "mesh3d": [
           {
            "colorbar": {
             "outlinewidth": 0,
             "ticks": ""
            },
            "type": "mesh3d"
           }
          ],
          "parcoords": [
           {
            "line": {
             "colorbar": {
              "outlinewidth": 0,
              "ticks": ""
             }
            },
            "type": "parcoords"
           }
          ],
          "pie": [
           {
            "automargin": true,
            "type": "pie"
           }
          ],
          "scatter": [
           {
            "fillpattern": {
             "fillmode": "overlay",
             "size": 10,
             "solidity": 0.2
            },
            "type": "scatter"
           }
          ],
          "scatter3d": [
           {
            "line": {
             "colorbar": {
              "outlinewidth": 0,
              "ticks": ""
             }
            },
            "marker": {
             "colorbar": {
              "outlinewidth": 0,
              "ticks": ""
             }
            },
            "type": "scatter3d"
           }
          ],
          "scattercarpet": [
           {
            "marker": {
             "colorbar": {
              "outlinewidth": 0,
              "ticks": ""
             }
            },
            "type": "scattercarpet"
           }
          ],
          "scattergeo": [
           {
            "marker": {
             "colorbar": {
              "outlinewidth": 0,
              "ticks": ""
             }
            },
            "type": "scattergeo"
           }
          ],
          "scattergl": [
           {
            "marker": {
             "colorbar": {
              "outlinewidth": 0,
              "ticks": ""
             }
            },
            "type": "scattergl"
           }
          ],
          "scattermap": [
           {
            "marker": {
             "colorbar": {
              "outlinewidth": 0,
              "ticks": ""
             }
            },
            "type": "scattermap"
           }
          ],
          "scattermapbox": [
           {
            "marker": {
             "colorbar": {
              "outlinewidth": 0,
              "ticks": ""
             }
            },
            "type": "scattermapbox"
           }
          ],
          "scatterpolar": [
           {
            "marker": {
             "colorbar": {
              "outlinewidth": 0,
              "ticks": ""
             }
            },
            "type": "scatterpolar"
           }
          ],
          "scatterpolargl": [
           {
            "marker": {
             "colorbar": {
              "outlinewidth": 0,
              "ticks": ""
             }
            },
            "type": "scatterpolargl"
           }
          ],
          "scatterternary": [
           {
            "marker": {
             "colorbar": {
              "outlinewidth": 0,
              "ticks": ""
             }
            },
            "type": "scatterternary"
           }
          ],
          "surface": [
           {
            "colorbar": {
             "outlinewidth": 0,
             "ticks": ""
            },
            "colorscale": [
             [
              0,
              "#0d0887"
             ],
             [
              0.1111111111111111,
              "#46039f"
             ],
             [
              0.2222222222222222,
              "#7201a8"
             ],
             [
              0.3333333333333333,
              "#9c179e"
             ],
             [
              0.4444444444444444,
              "#bd3786"
             ],
             [
              0.5555555555555556,
              "#d8576b"
             ],
             [
              0.6666666666666666,
              "#ed7953"
             ],
             [
              0.7777777777777778,
              "#fb9f3a"
             ],
             [
              0.8888888888888888,
              "#fdca26"
             ],
             [
              1,
              "#f0f921"
             ]
            ],
            "type": "surface"
           }
          ],
          "table": [
           {
            "cells": {
             "fill": {
              "color": "#EBF0F8"
             },
             "line": {
              "color": "white"
             }
            },
            "header": {
             "fill": {
              "color": "#C8D4E3"
             },
             "line": {
              "color": "white"
             }
            },
            "type": "table"
           }
          ]
         },
         "layout": {
          "annotationdefaults": {
           "arrowcolor": "#2a3f5f",
           "arrowhead": 0,
           "arrowwidth": 1
          },
          "autotypenumbers": "strict",
          "coloraxis": {
           "colorbar": {
            "outlinewidth": 0,
            "ticks": ""
           }
          },
          "colorscale": {
           "diverging": [
            [
             0,
             "#8e0152"
            ],
            [
             0.1,
             "#c51b7d"
            ],
            [
             0.2,
             "#de77ae"
            ],
            [
             0.3,
             "#f1b6da"
            ],
            [
             0.4,
             "#fde0ef"
            ],
            [
             0.5,
             "#f7f7f7"
            ],
            [
             0.6,
             "#e6f5d0"
            ],
            [
             0.7,
             "#b8e186"
            ],
            [
             0.8,
             "#7fbc41"
            ],
            [
             0.9,
             "#4d9221"
            ],
            [
             1,
             "#276419"
            ]
           ],
           "sequential": [
            [
             0,
             "#0d0887"
            ],
            [
             0.1111111111111111,
             "#46039f"
            ],
            [
             0.2222222222222222,
             "#7201a8"
            ],
            [
             0.3333333333333333,
             "#9c179e"
            ],
            [
             0.4444444444444444,
             "#bd3786"
            ],
            [
             0.5555555555555556,
             "#d8576b"
            ],
            [
             0.6666666666666666,
             "#ed7953"
            ],
            [
             0.7777777777777778,
             "#fb9f3a"
            ],
            [
             0.8888888888888888,
             "#fdca26"
            ],
            [
             1,
             "#f0f921"
            ]
           ],
           "sequentialminus": [
            [
             0,
             "#0d0887"
            ],
            [
             0.1111111111111111,
             "#46039f"
            ],
            [
             0.2222222222222222,
             "#7201a8"
            ],
            [
             0.3333333333333333,
             "#9c179e"
            ],
            [
             0.4444444444444444,
             "#bd3786"
            ],
            [
             0.5555555555555556,
             "#d8576b"
            ],
            [
             0.6666666666666666,
             "#ed7953"
            ],
            [
             0.7777777777777778,
             "#fb9f3a"
            ],
            [
             0.8888888888888888,
             "#fdca26"
            ],
            [
             1,
             "#f0f921"
            ]
           ]
          },
          "colorway": [
           "#636efa",
           "#EF553B",
           "#00cc96",
           "#ab63fa",
           "#FFA15A",
           "#19d3f3",
           "#FF6692",
           "#B6E880",
           "#FF97FF",
           "#FECB52"
          ],
          "font": {
           "color": "#2a3f5f"
          },
          "geo": {
           "bgcolor": "white",
           "lakecolor": "white",
           "landcolor": "#E5ECF6",
           "showlakes": true,
           "showland": true,
           "subunitcolor": "white"
          },
          "hoverlabel": {
           "align": "left"
          },
          "hovermode": "closest",
          "mapbox": {
           "style": "light"
          },
          "paper_bgcolor": "white",
          "plot_bgcolor": "#E5ECF6",
          "polar": {
           "angularaxis": {
            "gridcolor": "white",
            "linecolor": "white",
            "ticks": ""
           },
           "bgcolor": "#E5ECF6",
           "radialaxis": {
            "gridcolor": "white",
            "linecolor": "white",
            "ticks": ""
           }
          },
          "scene": {
           "xaxis": {
            "backgroundcolor": "#E5ECF6",
            "gridcolor": "white",
            "gridwidth": 2,
            "linecolor": "white",
            "showbackground": true,
            "ticks": "",
            "zerolinecolor": "white"
           },
           "yaxis": {
            "backgroundcolor": "#E5ECF6",
            "gridcolor": "white",
            "gridwidth": 2,
            "linecolor": "white",
            "showbackground": true,
            "ticks": "",
            "zerolinecolor": "white"
           },
           "zaxis": {
            "backgroundcolor": "#E5ECF6",
            "gridcolor": "white",
            "gridwidth": 2,
            "linecolor": "white",
            "showbackground": true,
            "ticks": "",
            "zerolinecolor": "white"
           }
          },
          "shapedefaults": {
           "line": {
            "color": "#2a3f5f"
           }
          },
          "ternary": {
           "aaxis": {
            "gridcolor": "white",
            "linecolor": "white",
            "ticks": ""
           },
           "baxis": {
            "gridcolor": "white",
            "linecolor": "white",
            "ticks": ""
           },
           "bgcolor": "#E5ECF6",
           "caxis": {
            "gridcolor": "white",
            "linecolor": "white",
            "ticks": ""
           }
          },
          "title": {
           "x": 0.05
          },
          "xaxis": {
           "automargin": true,
           "gridcolor": "white",
           "linecolor": "white",
           "ticks": "",
           "title": {
            "standoff": 15
           },
           "zerolinecolor": "white",
           "zerolinewidth": 2
          },
          "yaxis": {
           "automargin": true,
           "gridcolor": "white",
           "linecolor": "white",
           "ticks": "",
           "title": {
            "standoff": 15
           },
           "zerolinecolor": "white",
           "zerolinewidth": 2
          }
         }
        },
        "title": {
         "text": "Динамика доходов по месяцам 2025 года"
        },
        "xaxis": {
         "anchor": "y",
         "domain": [
          0,
          1
         ],
         "title": {
          "text": "Месяц"
         }
        },
        "yaxis": {
         "anchor": "x",
         "domain": [
          0,
          1
         ],
         "title": {
          "text": "Доход ($)"
         }
        }
       }
      }
     },
     "metadata": {},
     "output_type": "display_data"
    }
   ],
   "source": [
    "fig"
   ]
  },
  {
   "cell_type": "markdown",
   "metadata": {},
   "source": [
    "5.На основе данных из таблицы invoice, создайте круговую диаграмму, показывающую соотношение продаж в США и в остальном мире. Т.е. ваша круговая диаграмма должна состоять лишь из двух секций: США и остальной мир.\n"
   ]
  },
  {
   "cell_type": "code",
   "execution_count": 77,
   "metadata": {},
   "outputs": [],
   "source": [
    "query = text(\"\"\"\n",
    "    SELECT \n",
    "        CASE \n",
    "            WHEN billing_country = 'USA' THEN 'USA'\n",
    "            ELSE 'Rest of World' \n",
    "        END AS region,\n",
    "        ROUND(SUM(total), 2) AS total_sales\n",
    "    FROM invoice\n",
    "    GROUP BY 1\n",
    "    ORDER BY 2 DESC\n",
    "\"\"\")\n",
    "\n",
    "# Получение данных\n",
    "with set_connection() as conn:\n",
    "    df = pd.read_sql(query, conn)"
   ]
  },
  {
   "cell_type": "code",
   "execution_count": 79,
   "metadata": {},
   "outputs": [],
   "source": [
    "fig = px.pie(\n",
    "    df,\n",
    "    names='region',\n",
    "    values='total_sales',\n",
    "    title='Соотношение продаж: США vs Остальной мир',\n",
    "    color='region',\n",
    "    color_discrete_map={\n",
    "        'USA': '#1f77b4',\n",
    "        'Rest of World': '#ff7f0e'\n",
    "    },\n",
    "    hole=0.3,\n",
    "    height=600\n",
    ")\n"
   ]
  },
  {
   "cell_type": "code",
   "execution_count": 80,
   "metadata": {},
   "outputs": [
    {
     "data": {
      "application/vnd.plotly.v1+json": {
       "config": {
        "plotlyServerURL": "https://plot.ly"
       },
       "data": [
        {
         "customdata": [
          [
           "Rest of World"
          ],
          [
           "USA"
          ]
         ],
         "domain": {
          "x": [
           0,
           1
          ],
          "y": [
           0,
           1
          ]
         },
         "hole": 0.3,
         "hovertemplate": "region=%{customdata[0]}<br>total_sales=%{value}<extra></extra>",
         "labels": [
          "Rest of World",
          "USA"
         ],
         "legendgroup": "",
         "marker": {
          "colors": [
           "#ff7f0e",
           "#1f77b4"
          ]
         },
         "name": "",
         "showlegend": true,
         "type": "pie",
         "values": {
          "bdata": "XI/C9Sg2nEAUrkfheliAQA==",
          "dtype": "f8"
         }
        }
       ],
       "layout": {
        "height": 600,
        "legend": {
         "tracegroupgap": 0
        },
        "template": {
         "data": {
          "bar": [
           {
            "error_x": {
             "color": "#2a3f5f"
            },
            "error_y": {
             "color": "#2a3f5f"
            },
            "marker": {
             "line": {
              "color": "#E5ECF6",
              "width": 0.5
             },
             "pattern": {
              "fillmode": "overlay",
              "size": 10,
              "solidity": 0.2
             }
            },
            "type": "bar"
           }
          ],
          "barpolar": [
           {
            "marker": {
             "line": {
              "color": "#E5ECF6",
              "width": 0.5
             },
             "pattern": {
              "fillmode": "overlay",
              "size": 10,
              "solidity": 0.2
             }
            },
            "type": "barpolar"
           }
          ],
          "carpet": [
           {
            "aaxis": {
             "endlinecolor": "#2a3f5f",
             "gridcolor": "white",
             "linecolor": "white",
             "minorgridcolor": "white",
             "startlinecolor": "#2a3f5f"
            },
            "baxis": {
             "endlinecolor": "#2a3f5f",
             "gridcolor": "white",
             "linecolor": "white",
             "minorgridcolor": "white",
             "startlinecolor": "#2a3f5f"
            },
            "type": "carpet"
           }
          ],
          "choropleth": [
           {
            "colorbar": {
             "outlinewidth": 0,
             "ticks": ""
            },
            "type": "choropleth"
           }
          ],
          "contour": [
           {
            "colorbar": {
             "outlinewidth": 0,
             "ticks": ""
            },
            "colorscale": [
             [
              0,
              "#0d0887"
             ],
             [
              0.1111111111111111,
              "#46039f"
             ],
             [
              0.2222222222222222,
              "#7201a8"
             ],
             [
              0.3333333333333333,
              "#9c179e"
             ],
             [
              0.4444444444444444,
              "#bd3786"
             ],
             [
              0.5555555555555556,
              "#d8576b"
             ],
             [
              0.6666666666666666,
              "#ed7953"
             ],
             [
              0.7777777777777778,
              "#fb9f3a"
             ],
             [
              0.8888888888888888,
              "#fdca26"
             ],
             [
              1,
              "#f0f921"
             ]
            ],
            "type": "contour"
           }
          ],
          "contourcarpet": [
           {
            "colorbar": {
             "outlinewidth": 0,
             "ticks": ""
            },
            "type": "contourcarpet"
           }
          ],
          "heatmap": [
           {
            "colorbar": {
             "outlinewidth": 0,
             "ticks": ""
            },
            "colorscale": [
             [
              0,
              "#0d0887"
             ],
             [
              0.1111111111111111,
              "#46039f"
             ],
             [
              0.2222222222222222,
              "#7201a8"
             ],
             [
              0.3333333333333333,
              "#9c179e"
             ],
             [
              0.4444444444444444,
              "#bd3786"
             ],
             [
              0.5555555555555556,
              "#d8576b"
             ],
             [
              0.6666666666666666,
              "#ed7953"
             ],
             [
              0.7777777777777778,
              "#fb9f3a"
             ],
             [
              0.8888888888888888,
              "#fdca26"
             ],
             [
              1,
              "#f0f921"
             ]
            ],
            "type": "heatmap"
           }
          ],
          "histogram": [
           {
            "marker": {
             "pattern": {
              "fillmode": "overlay",
              "size": 10,
              "solidity": 0.2
             }
            },
            "type": "histogram"
           }
          ],
          "histogram2d": [
           {
            "colorbar": {
             "outlinewidth": 0,
             "ticks": ""
            },
            "colorscale": [
             [
              0,
              "#0d0887"
             ],
             [
              0.1111111111111111,
              "#46039f"
             ],
             [
              0.2222222222222222,
              "#7201a8"
             ],
             [
              0.3333333333333333,
              "#9c179e"
             ],
             [
              0.4444444444444444,
              "#bd3786"
             ],
             [
              0.5555555555555556,
              "#d8576b"
             ],
             [
              0.6666666666666666,
              "#ed7953"
             ],
             [
              0.7777777777777778,
              "#fb9f3a"
             ],
             [
              0.8888888888888888,
              "#fdca26"
             ],
             [
              1,
              "#f0f921"
             ]
            ],
            "type": "histogram2d"
           }
          ],
          "histogram2dcontour": [
           {
            "colorbar": {
             "outlinewidth": 0,
             "ticks": ""
            },
            "colorscale": [
             [
              0,
              "#0d0887"
             ],
             [
              0.1111111111111111,
              "#46039f"
             ],
             [
              0.2222222222222222,
              "#7201a8"
             ],
             [
              0.3333333333333333,
              "#9c179e"
             ],
             [
              0.4444444444444444,
              "#bd3786"
             ],
             [
              0.5555555555555556,
              "#d8576b"
             ],
             [
              0.6666666666666666,
              "#ed7953"
             ],
             [
              0.7777777777777778,
              "#fb9f3a"
             ],
             [
              0.8888888888888888,
              "#fdca26"
             ],
             [
              1,
              "#f0f921"
             ]
            ],
            "type": "histogram2dcontour"
           }
          ],
          "mesh3d": [
           {
            "colorbar": {
             "outlinewidth": 0,
             "ticks": ""
            },
            "type": "mesh3d"
           }
          ],
          "parcoords": [
           {
            "line": {
             "colorbar": {
              "outlinewidth": 0,
              "ticks": ""
             }
            },
            "type": "parcoords"
           }
          ],
          "pie": [
           {
            "automargin": true,
            "type": "pie"
           }
          ],
          "scatter": [
           {
            "fillpattern": {
             "fillmode": "overlay",
             "size": 10,
             "solidity": 0.2
            },
            "type": "scatter"
           }
          ],
          "scatter3d": [
           {
            "line": {
             "colorbar": {
              "outlinewidth": 0,
              "ticks": ""
             }
            },
            "marker": {
             "colorbar": {
              "outlinewidth": 0,
              "ticks": ""
             }
            },
            "type": "scatter3d"
           }
          ],
          "scattercarpet": [
           {
            "marker": {
             "colorbar": {
              "outlinewidth": 0,
              "ticks": ""
             }
            },
            "type": "scattercarpet"
           }
          ],
          "scattergeo": [
           {
            "marker": {
             "colorbar": {
              "outlinewidth": 0,
              "ticks": ""
             }
            },
            "type": "scattergeo"
           }
          ],
          "scattergl": [
           {
            "marker": {
             "colorbar": {
              "outlinewidth": 0,
              "ticks": ""
             }
            },
            "type": "scattergl"
           }
          ],
          "scattermap": [
           {
            "marker": {
             "colorbar": {
              "outlinewidth": 0,
              "ticks": ""
             }
            },
            "type": "scattermap"
           }
          ],
          "scattermapbox": [
           {
            "marker": {
             "colorbar": {
              "outlinewidth": 0,
              "ticks": ""
             }
            },
            "type": "scattermapbox"
           }
          ],
          "scatterpolar": [
           {
            "marker": {
             "colorbar": {
              "outlinewidth": 0,
              "ticks": ""
             }
            },
            "type": "scatterpolar"
           }
          ],
          "scatterpolargl": [
           {
            "marker": {
             "colorbar": {
              "outlinewidth": 0,
              "ticks": ""
             }
            },
            "type": "scatterpolargl"
           }
          ],
          "scatterternary": [
           {
            "marker": {
             "colorbar": {
              "outlinewidth": 0,
              "ticks": ""
             }
            },
            "type": "scatterternary"
           }
          ],
          "surface": [
           {
            "colorbar": {
             "outlinewidth": 0,
             "ticks": ""
            },
            "colorscale": [
             [
              0,
              "#0d0887"
             ],
             [
              0.1111111111111111,
              "#46039f"
             ],
             [
              0.2222222222222222,
              "#7201a8"
             ],
             [
              0.3333333333333333,
              "#9c179e"
             ],
             [
              0.4444444444444444,
              "#bd3786"
             ],
             [
              0.5555555555555556,
              "#d8576b"
             ],
             [
              0.6666666666666666,
              "#ed7953"
             ],
             [
              0.7777777777777778,
              "#fb9f3a"
             ],
             [
              0.8888888888888888,
              "#fdca26"
             ],
             [
              1,
              "#f0f921"
             ]
            ],
            "type": "surface"
           }
          ],
          "table": [
           {
            "cells": {
             "fill": {
              "color": "#EBF0F8"
             },
             "line": {
              "color": "white"
             }
            },
            "header": {
             "fill": {
              "color": "#C8D4E3"
             },
             "line": {
              "color": "white"
             }
            },
            "type": "table"
           }
          ]
         },
         "layout": {
          "annotationdefaults": {
           "arrowcolor": "#2a3f5f",
           "arrowhead": 0,
           "arrowwidth": 1
          },
          "autotypenumbers": "strict",
          "coloraxis": {
           "colorbar": {
            "outlinewidth": 0,
            "ticks": ""
           }
          },
          "colorscale": {
           "diverging": [
            [
             0,
             "#8e0152"
            ],
            [
             0.1,
             "#c51b7d"
            ],
            [
             0.2,
             "#de77ae"
            ],
            [
             0.3,
             "#f1b6da"
            ],
            [
             0.4,
             "#fde0ef"
            ],
            [
             0.5,
             "#f7f7f7"
            ],
            [
             0.6,
             "#e6f5d0"
            ],
            [
             0.7,
             "#b8e186"
            ],
            [
             0.8,
             "#7fbc41"
            ],
            [
             0.9,
             "#4d9221"
            ],
            [
             1,
             "#276419"
            ]
           ],
           "sequential": [
            [
             0,
             "#0d0887"
            ],
            [
             0.1111111111111111,
             "#46039f"
            ],
            [
             0.2222222222222222,
             "#7201a8"
            ],
            [
             0.3333333333333333,
             "#9c179e"
            ],
            [
             0.4444444444444444,
             "#bd3786"
            ],
            [
             0.5555555555555556,
             "#d8576b"
            ],
            [
             0.6666666666666666,
             "#ed7953"
            ],
            [
             0.7777777777777778,
             "#fb9f3a"
            ],
            [
             0.8888888888888888,
             "#fdca26"
            ],
            [
             1,
             "#f0f921"
            ]
           ],
           "sequentialminus": [
            [
             0,
             "#0d0887"
            ],
            [
             0.1111111111111111,
             "#46039f"
            ],
            [
             0.2222222222222222,
             "#7201a8"
            ],
            [
             0.3333333333333333,
             "#9c179e"
            ],
            [
             0.4444444444444444,
             "#bd3786"
            ],
            [
             0.5555555555555556,
             "#d8576b"
            ],
            [
             0.6666666666666666,
             "#ed7953"
            ],
            [
             0.7777777777777778,
             "#fb9f3a"
            ],
            [
             0.8888888888888888,
             "#fdca26"
            ],
            [
             1,
             "#f0f921"
            ]
           ]
          },
          "colorway": [
           "#636efa",
           "#EF553B",
           "#00cc96",
           "#ab63fa",
           "#FFA15A",
           "#19d3f3",
           "#FF6692",
           "#B6E880",
           "#FF97FF",
           "#FECB52"
          ],
          "font": {
           "color": "#2a3f5f"
          },
          "geo": {
           "bgcolor": "white",
           "lakecolor": "white",
           "landcolor": "#E5ECF6",
           "showlakes": true,
           "showland": true,
           "subunitcolor": "white"
          },
          "hoverlabel": {
           "align": "left"
          },
          "hovermode": "closest",
          "mapbox": {
           "style": "light"
          },
          "paper_bgcolor": "white",
          "plot_bgcolor": "#E5ECF6",
          "polar": {
           "angularaxis": {
            "gridcolor": "white",
            "linecolor": "white",
            "ticks": ""
           },
           "bgcolor": "#E5ECF6",
           "radialaxis": {
            "gridcolor": "white",
            "linecolor": "white",
            "ticks": ""
           }
          },
          "scene": {
           "xaxis": {
            "backgroundcolor": "#E5ECF6",
            "gridcolor": "white",
            "gridwidth": 2,
            "linecolor": "white",
            "showbackground": true,
            "ticks": "",
            "zerolinecolor": "white"
           },
           "yaxis": {
            "backgroundcolor": "#E5ECF6",
            "gridcolor": "white",
            "gridwidth": 2,
            "linecolor": "white",
            "showbackground": true,
            "ticks": "",
            "zerolinecolor": "white"
           },
           "zaxis": {
            "backgroundcolor": "#E5ECF6",
            "gridcolor": "white",
            "gridwidth": 2,
            "linecolor": "white",
            "showbackground": true,
            "ticks": "",
            "zerolinecolor": "white"
           }
          },
          "shapedefaults": {
           "line": {
            "color": "#2a3f5f"
           }
          },
          "ternary": {
           "aaxis": {
            "gridcolor": "white",
            "linecolor": "white",
            "ticks": ""
           },
           "baxis": {
            "gridcolor": "white",
            "linecolor": "white",
            "ticks": ""
           },
           "bgcolor": "#E5ECF6",
           "caxis": {
            "gridcolor": "white",
            "linecolor": "white",
            "ticks": ""
           }
          },
          "title": {
           "x": 0.05
          },
          "xaxis": {
           "automargin": true,
           "gridcolor": "white",
           "linecolor": "white",
           "ticks": "",
           "title": {
            "standoff": 15
           },
           "zerolinecolor": "white",
           "zerolinewidth": 2
          },
          "yaxis": {
           "automargin": true,
           "gridcolor": "white",
           "linecolor": "white",
           "ticks": "",
           "title": {
            "standoff": 15
           },
           "zerolinecolor": "white",
           "zerolinewidth": 2
          }
         }
        },
        "title": {
         "text": "Соотношение продаж: США vs Остальной мир"
        }
       }
      }
     },
     "metadata": {},
     "output_type": "display_data"
    }
   ],
   "source": [
    "fig"
   ]
  }
 ],
 "metadata": {
  "kernelspec": {
   "display_name": ".venv",
   "language": "python",
   "name": "python3"
  },
  "language_info": {
   "codemirror_mode": {
    "name": "ipython",
    "version": 3
   },
   "file_extension": ".py",
   "mimetype": "text/x-python",
   "name": "python",
   "nbconvert_exporter": "python",
   "pygments_lexer": "ipython3",
   "version": "3.13.1"
  }
 },
 "nbformat": 4,
 "nbformat_minor": 2
}
